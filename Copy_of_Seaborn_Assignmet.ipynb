{
  "cells": [
    {
      "cell_type": "markdown",
      "metadata": {
        "id": "view-in-github",
        "colab_type": "text"
      },
      "source": [
        "<a href=\"https://colab.research.google.com/github/Deepika-Kondapalli3/ml-practice/blob/main/Copy_of_Seaborn_Assignmet.ipynb\" target=\"_parent\"><img src=\"https://colab.research.google.com/assets/colab-badge.svg\" alt=\"Open In Colab\"/></a>"
      ]
    },
    {
      "cell_type": "markdown",
      "source": [
        "# Seaborn Assignment\n",
        "\n",
        "For this assignment, please use Seaborn to generate the required visualizations. Ensure that you create and customize the plots as specified in the notebook. Submit your notebook with all visualizations properly displayed.\n",
        "\n",
        "## **Instructions for CO2 Emissions Canada Dataset Assignment**  \n",
        "\n",
        "Welcome to the **CO2 Emissions Data Analysis** assignment! In this assignment, you will use the **CO2 Emissions Canada dataset** to explore vehicle emissions and fuel consumption using **Seaborn** for data visualization. Please follow these instructions carefully to complete your assignment:\n",
        "\n",
        "---\n",
        "\n",
        "**1. Understand the Dataset**:\n",
        "- The dataset contains information on various vehicle models, including their **fuel consumption, engine size, transmission type, and CO2 emissions**.\n",
        "- Familiarize yourself with the dataset’s **columns and structure** before starting.\n",
        "\n",
        "**2. Read Each Question Carefully**:\n",
        "- Each question is designed to test your ability to **visualize and analyze CO2 emissions** using Seaborn. Ensure that you **understand the requirements** before coding.\n",
        "\n",
        "**3. Write Your Code in the Provided Cells**:\n",
        "- For each question, a **code cell** is provided. Write your Seaborn-based visualization code in the designated cells.\n",
        "\n",
        "**4. Run Your Code**:\n",
        "- After writing your code, **run the cell** to check if your visualization is displayed correctly. Ensure that your plots meet the requirements specified in each question.\n",
        "\n",
        "**5. Debug if Necessary**: If the plots do not appear as expected:\n",
        "   - Review your code for errors.\n",
        "   - Use additional code cells for debugging if needed.\n",
        "   - Ensure your dataset is properly loaded and processed.\n",
        "\n",
        "**6. Complete All Questions**:\n",
        "- Ensure you answer **all questions** provided, as each one tests different **Seaborn functionalities** and **data visualization techniques**.\n",
        "\n",
        "**7. Review Your Work**: Before submission, check that:\n",
        "   - All plots are **correctly labeled**.\n",
        "   - The visualizations are **clear and meaningful**.\n",
        "   - Your code runs without errors.\n",
        "\n",
        "**8. Download Your Notebook**:\n",
        "- Once completed, **download your notebook file (`.ipynb`)** by navigating to: **File > Download > Download `.ipynb`**\n",
        "\n",
        "**9. Submit Your Assignment**:\n",
        "- Upload the **downloaded `.ipynb` file** to the designated learning platform.\n",
        "\n",
        "**10. Verify Submission**:\n",
        "Double-check your submission to ensure:\n",
        "   - The uploaded file is correct.\n",
        "   - There are no **missing plots or errors**.\n",
        "   - If any issues arise, re-upload the correct file.\n",
        "\n",
        "---\n",
        "\n",
        "**Good luck with your CO2 Emissions Analysis!**"
      ],
      "metadata": {
        "id": "myXBHHaNUrD9"
      },
      "id": "myXBHHaNUrD9"
    },
    {
      "cell_type": "code",
      "source": [
        "# Run this code cell\n",
        "import numpy as np\n",
        "import pandas as pd\n",
        "import seaborn as sns\n",
        "import matplotlib.pyplot as plt\n",
        "import warnings\n",
        "warnings.filterwarnings('ignore')\n",
        "\n",
        "url = 'https://new-assets.ccbp.in/frontend/content/aiml/classical-ml/co2_emissions_canada.csv'\n",
        "\n",
        "# Upload the data on colab and execute this code cell\n",
        "data = pd.read_csv(url)\n",
        "data.head()"
      ],
      "metadata": {
        "id": "AL3fD9SN1fIe",
        "colab": {
          "base_uri": "https://localhost:8080/",
          "height": 258
        },
        "outputId": "813a72b9-4c98-42a7-80c1-e2b41ad36a57"
      },
      "execution_count": 29,
      "outputs": [
        {
          "output_type": "execute_result",
          "data": {
            "text/plain": [
              "    Make       Model Vehicle Class  Engine Size(L)  Cylinders Transmission  \\\n",
              "0  ACURA         ILX       COMPACT             2.0          4          AS5   \n",
              "1  ACURA         ILX       COMPACT             2.4          4           M6   \n",
              "2  ACURA  ILX HYBRID       COMPACT             1.5          4          AV7   \n",
              "3  ACURA     MDX 4WD   SUV - SMALL             3.5          6          AS6   \n",
              "4  ACURA     RDX AWD   SUV - SMALL             3.5          6          AS6   \n",
              "\n",
              "  Fuel Type  Fuel Consumption City (L/100 km)  \\\n",
              "0         Z                               9.9   \n",
              "1         Z                              11.2   \n",
              "2         Z                               6.0   \n",
              "3         Z                              12.7   \n",
              "4         Z                              12.1   \n",
              "\n",
              "   Fuel Consumption Hwy (L/100 km)  Fuel Consumption Comb (L/100 km)  \\\n",
              "0                              6.7                               8.5   \n",
              "1                              7.7                               9.6   \n",
              "2                              5.8                               5.9   \n",
              "3                              9.1                              11.1   \n",
              "4                              8.7                              10.6   \n",
              "\n",
              "   Fuel Consumption Comb (mpg)  CO2 Emissions(g/km)  \n",
              "0                           33                  196  \n",
              "1                           29                  221  \n",
              "2                           48                  136  \n",
              "3                           25                  255  \n",
              "4                           27                  244  "
            ],
            "text/html": [
              "\n",
              "  <div id=\"df-0dbe20ae-ea18-4e46-a8ff-76bc7a6c8ff3\" class=\"colab-df-container\">\n",
              "    <div>\n",
              "<style scoped>\n",
              "    .dataframe tbody tr th:only-of-type {\n",
              "        vertical-align: middle;\n",
              "    }\n",
              "\n",
              "    .dataframe tbody tr th {\n",
              "        vertical-align: top;\n",
              "    }\n",
              "\n",
              "    .dataframe thead th {\n",
              "        text-align: right;\n",
              "    }\n",
              "</style>\n",
              "<table border=\"1\" class=\"dataframe\">\n",
              "  <thead>\n",
              "    <tr style=\"text-align: right;\">\n",
              "      <th></th>\n",
              "      <th>Make</th>\n",
              "      <th>Model</th>\n",
              "      <th>Vehicle Class</th>\n",
              "      <th>Engine Size(L)</th>\n",
              "      <th>Cylinders</th>\n",
              "      <th>Transmission</th>\n",
              "      <th>Fuel Type</th>\n",
              "      <th>Fuel Consumption City (L/100 km)</th>\n",
              "      <th>Fuel Consumption Hwy (L/100 km)</th>\n",
              "      <th>Fuel Consumption Comb (L/100 km)</th>\n",
              "      <th>Fuel Consumption Comb (mpg)</th>\n",
              "      <th>CO2 Emissions(g/km)</th>\n",
              "    </tr>\n",
              "  </thead>\n",
              "  <tbody>\n",
              "    <tr>\n",
              "      <th>0</th>\n",
              "      <td>ACURA</td>\n",
              "      <td>ILX</td>\n",
              "      <td>COMPACT</td>\n",
              "      <td>2.0</td>\n",
              "      <td>4</td>\n",
              "      <td>AS5</td>\n",
              "      <td>Z</td>\n",
              "      <td>9.9</td>\n",
              "      <td>6.7</td>\n",
              "      <td>8.5</td>\n",
              "      <td>33</td>\n",
              "      <td>196</td>\n",
              "    </tr>\n",
              "    <tr>\n",
              "      <th>1</th>\n",
              "      <td>ACURA</td>\n",
              "      <td>ILX</td>\n",
              "      <td>COMPACT</td>\n",
              "      <td>2.4</td>\n",
              "      <td>4</td>\n",
              "      <td>M6</td>\n",
              "      <td>Z</td>\n",
              "      <td>11.2</td>\n",
              "      <td>7.7</td>\n",
              "      <td>9.6</td>\n",
              "      <td>29</td>\n",
              "      <td>221</td>\n",
              "    </tr>\n",
              "    <tr>\n",
              "      <th>2</th>\n",
              "      <td>ACURA</td>\n",
              "      <td>ILX HYBRID</td>\n",
              "      <td>COMPACT</td>\n",
              "      <td>1.5</td>\n",
              "      <td>4</td>\n",
              "      <td>AV7</td>\n",
              "      <td>Z</td>\n",
              "      <td>6.0</td>\n",
              "      <td>5.8</td>\n",
              "      <td>5.9</td>\n",
              "      <td>48</td>\n",
              "      <td>136</td>\n",
              "    </tr>\n",
              "    <tr>\n",
              "      <th>3</th>\n",
              "      <td>ACURA</td>\n",
              "      <td>MDX 4WD</td>\n",
              "      <td>SUV - SMALL</td>\n",
              "      <td>3.5</td>\n",
              "      <td>6</td>\n",
              "      <td>AS6</td>\n",
              "      <td>Z</td>\n",
              "      <td>12.7</td>\n",
              "      <td>9.1</td>\n",
              "      <td>11.1</td>\n",
              "      <td>25</td>\n",
              "      <td>255</td>\n",
              "    </tr>\n",
              "    <tr>\n",
              "      <th>4</th>\n",
              "      <td>ACURA</td>\n",
              "      <td>RDX AWD</td>\n",
              "      <td>SUV - SMALL</td>\n",
              "      <td>3.5</td>\n",
              "      <td>6</td>\n",
              "      <td>AS6</td>\n",
              "      <td>Z</td>\n",
              "      <td>12.1</td>\n",
              "      <td>8.7</td>\n",
              "      <td>10.6</td>\n",
              "      <td>27</td>\n",
              "      <td>244</td>\n",
              "    </tr>\n",
              "  </tbody>\n",
              "</table>\n",
              "</div>\n",
              "    <div class=\"colab-df-buttons\">\n",
              "\n",
              "  <div class=\"colab-df-container\">\n",
              "    <button class=\"colab-df-convert\" onclick=\"convertToInteractive('df-0dbe20ae-ea18-4e46-a8ff-76bc7a6c8ff3')\"\n",
              "            title=\"Convert this dataframe to an interactive table.\"\n",
              "            style=\"display:none;\">\n",
              "\n",
              "  <svg xmlns=\"http://www.w3.org/2000/svg\" height=\"24px\" viewBox=\"0 -960 960 960\">\n",
              "    <path d=\"M120-120v-720h720v720H120Zm60-500h600v-160H180v160Zm220 220h160v-160H400v160Zm0 220h160v-160H400v160ZM180-400h160v-160H180v160Zm440 0h160v-160H620v160ZM180-180h160v-160H180v160Zm440 0h160v-160H620v160Z\"/>\n",
              "  </svg>\n",
              "    </button>\n",
              "\n",
              "  <style>\n",
              "    .colab-df-container {\n",
              "      display:flex;\n",
              "      gap: 12px;\n",
              "    }\n",
              "\n",
              "    .colab-df-convert {\n",
              "      background-color: #E8F0FE;\n",
              "      border: none;\n",
              "      border-radius: 50%;\n",
              "      cursor: pointer;\n",
              "      display: none;\n",
              "      fill: #1967D2;\n",
              "      height: 32px;\n",
              "      padding: 0 0 0 0;\n",
              "      width: 32px;\n",
              "    }\n",
              "\n",
              "    .colab-df-convert:hover {\n",
              "      background-color: #E2EBFA;\n",
              "      box-shadow: 0px 1px 2px rgba(60, 64, 67, 0.3), 0px 1px 3px 1px rgba(60, 64, 67, 0.15);\n",
              "      fill: #174EA6;\n",
              "    }\n",
              "\n",
              "    .colab-df-buttons div {\n",
              "      margin-bottom: 4px;\n",
              "    }\n",
              "\n",
              "    [theme=dark] .colab-df-convert {\n",
              "      background-color: #3B4455;\n",
              "      fill: #D2E3FC;\n",
              "    }\n",
              "\n",
              "    [theme=dark] .colab-df-convert:hover {\n",
              "      background-color: #434B5C;\n",
              "      box-shadow: 0px 1px 3px 1px rgba(0, 0, 0, 0.15);\n",
              "      filter: drop-shadow(0px 1px 2px rgba(0, 0, 0, 0.3));\n",
              "      fill: #FFFFFF;\n",
              "    }\n",
              "  </style>\n",
              "\n",
              "    <script>\n",
              "      const buttonEl =\n",
              "        document.querySelector('#df-0dbe20ae-ea18-4e46-a8ff-76bc7a6c8ff3 button.colab-df-convert');\n",
              "      buttonEl.style.display =\n",
              "        google.colab.kernel.accessAllowed ? 'block' : 'none';\n",
              "\n",
              "      async function convertToInteractive(key) {\n",
              "        const element = document.querySelector('#df-0dbe20ae-ea18-4e46-a8ff-76bc7a6c8ff3');\n",
              "        const dataTable =\n",
              "          await google.colab.kernel.invokeFunction('convertToInteractive',\n",
              "                                                    [key], {});\n",
              "        if (!dataTable) return;\n",
              "\n",
              "        const docLinkHtml = 'Like what you see? Visit the ' +\n",
              "          '<a target=\"_blank\" href=https://colab.research.google.com/notebooks/data_table.ipynb>data table notebook</a>'\n",
              "          + ' to learn more about interactive tables.';\n",
              "        element.innerHTML = '';\n",
              "        dataTable['output_type'] = 'display_data';\n",
              "        await google.colab.output.renderOutput(dataTable, element);\n",
              "        const docLink = document.createElement('div');\n",
              "        docLink.innerHTML = docLinkHtml;\n",
              "        element.appendChild(docLink);\n",
              "      }\n",
              "    </script>\n",
              "  </div>\n",
              "\n",
              "\n",
              "    <div id=\"df-bb9a48a0-6dfb-41c1-a114-08f1c8d41047\">\n",
              "      <button class=\"colab-df-quickchart\" onclick=\"quickchart('df-bb9a48a0-6dfb-41c1-a114-08f1c8d41047')\"\n",
              "                title=\"Suggest charts\"\n",
              "                style=\"display:none;\">\n",
              "\n",
              "<svg xmlns=\"http://www.w3.org/2000/svg\" height=\"24px\"viewBox=\"0 0 24 24\"\n",
              "     width=\"24px\">\n",
              "    <g>\n",
              "        <path d=\"M19 3H5c-1.1 0-2 .9-2 2v14c0 1.1.9 2 2 2h14c1.1 0 2-.9 2-2V5c0-1.1-.9-2-2-2zM9 17H7v-7h2v7zm4 0h-2V7h2v10zm4 0h-2v-4h2v4z\"/>\n",
              "    </g>\n",
              "</svg>\n",
              "      </button>\n",
              "\n",
              "<style>\n",
              "  .colab-df-quickchart {\n",
              "      --bg-color: #E8F0FE;\n",
              "      --fill-color: #1967D2;\n",
              "      --hover-bg-color: #E2EBFA;\n",
              "      --hover-fill-color: #174EA6;\n",
              "      --disabled-fill-color: #AAA;\n",
              "      --disabled-bg-color: #DDD;\n",
              "  }\n",
              "\n",
              "  [theme=dark] .colab-df-quickchart {\n",
              "      --bg-color: #3B4455;\n",
              "      --fill-color: #D2E3FC;\n",
              "      --hover-bg-color: #434B5C;\n",
              "      --hover-fill-color: #FFFFFF;\n",
              "      --disabled-bg-color: #3B4455;\n",
              "      --disabled-fill-color: #666;\n",
              "  }\n",
              "\n",
              "  .colab-df-quickchart {\n",
              "    background-color: var(--bg-color);\n",
              "    border: none;\n",
              "    border-radius: 50%;\n",
              "    cursor: pointer;\n",
              "    display: none;\n",
              "    fill: var(--fill-color);\n",
              "    height: 32px;\n",
              "    padding: 0;\n",
              "    width: 32px;\n",
              "  }\n",
              "\n",
              "  .colab-df-quickchart:hover {\n",
              "    background-color: var(--hover-bg-color);\n",
              "    box-shadow: 0 1px 2px rgba(60, 64, 67, 0.3), 0 1px 3px 1px rgba(60, 64, 67, 0.15);\n",
              "    fill: var(--button-hover-fill-color);\n",
              "  }\n",
              "\n",
              "  .colab-df-quickchart-complete:disabled,\n",
              "  .colab-df-quickchart-complete:disabled:hover {\n",
              "    background-color: var(--disabled-bg-color);\n",
              "    fill: var(--disabled-fill-color);\n",
              "    box-shadow: none;\n",
              "  }\n",
              "\n",
              "  .colab-df-spinner {\n",
              "    border: 2px solid var(--fill-color);\n",
              "    border-color: transparent;\n",
              "    border-bottom-color: var(--fill-color);\n",
              "    animation:\n",
              "      spin 1s steps(1) infinite;\n",
              "  }\n",
              "\n",
              "  @keyframes spin {\n",
              "    0% {\n",
              "      border-color: transparent;\n",
              "      border-bottom-color: var(--fill-color);\n",
              "      border-left-color: var(--fill-color);\n",
              "    }\n",
              "    20% {\n",
              "      border-color: transparent;\n",
              "      border-left-color: var(--fill-color);\n",
              "      border-top-color: var(--fill-color);\n",
              "    }\n",
              "    30% {\n",
              "      border-color: transparent;\n",
              "      border-left-color: var(--fill-color);\n",
              "      border-top-color: var(--fill-color);\n",
              "      border-right-color: var(--fill-color);\n",
              "    }\n",
              "    40% {\n",
              "      border-color: transparent;\n",
              "      border-right-color: var(--fill-color);\n",
              "      border-top-color: var(--fill-color);\n",
              "    }\n",
              "    60% {\n",
              "      border-color: transparent;\n",
              "      border-right-color: var(--fill-color);\n",
              "    }\n",
              "    80% {\n",
              "      border-color: transparent;\n",
              "      border-right-color: var(--fill-color);\n",
              "      border-bottom-color: var(--fill-color);\n",
              "    }\n",
              "    90% {\n",
              "      border-color: transparent;\n",
              "      border-bottom-color: var(--fill-color);\n",
              "    }\n",
              "  }\n",
              "</style>\n",
              "\n",
              "      <script>\n",
              "        async function quickchart(key) {\n",
              "          const quickchartButtonEl =\n",
              "            document.querySelector('#' + key + ' button');\n",
              "          quickchartButtonEl.disabled = true;  // To prevent multiple clicks.\n",
              "          quickchartButtonEl.classList.add('colab-df-spinner');\n",
              "          try {\n",
              "            const charts = await google.colab.kernel.invokeFunction(\n",
              "                'suggestCharts', [key], {});\n",
              "          } catch (error) {\n",
              "            console.error('Error during call to suggestCharts:', error);\n",
              "          }\n",
              "          quickchartButtonEl.classList.remove('colab-df-spinner');\n",
              "          quickchartButtonEl.classList.add('colab-df-quickchart-complete');\n",
              "        }\n",
              "        (() => {\n",
              "          let quickchartButtonEl =\n",
              "            document.querySelector('#df-bb9a48a0-6dfb-41c1-a114-08f1c8d41047 button');\n",
              "          quickchartButtonEl.style.display =\n",
              "            google.colab.kernel.accessAllowed ? 'block' : 'none';\n",
              "        })();\n",
              "      </script>\n",
              "    </div>\n",
              "\n",
              "    </div>\n",
              "  </div>\n"
            ],
            "application/vnd.google.colaboratory.intrinsic+json": {
              "type": "dataframe",
              "variable_name": "data",
              "summary": "{\n  \"name\": \"data\",\n  \"rows\": 7385,\n  \"fields\": [\n    {\n      \"column\": \"Make\",\n      \"properties\": {\n        \"dtype\": \"category\",\n        \"num_unique_values\": 42,\n        \"samples\": [\n          \"MAZDA\",\n          \"GMC\",\n          \"CHEVROLET\"\n        ],\n        \"semantic_type\": \"\",\n        \"description\": \"\"\n      }\n    },\n    {\n      \"column\": \"Model\",\n      \"properties\": {\n        \"dtype\": \"category\",\n        \"num_unique_values\": 2053,\n        \"samples\": [\n          \"E 63 AMG 4MATIC\",\n          \"GOLF R\",\n          \"AMG S 63 4MATIC COUPE\"\n        ],\n        \"semantic_type\": \"\",\n        \"description\": \"\"\n      }\n    },\n    {\n      \"column\": \"Vehicle Class\",\n      \"properties\": {\n        \"dtype\": \"category\",\n        \"num_unique_values\": 16,\n        \"samples\": [\n          \"COMPACT\",\n          \"SUV - SMALL\",\n          \"SUBCOMPACT\"\n        ],\n        \"semantic_type\": \"\",\n        \"description\": \"\"\n      }\n    },\n    {\n      \"column\": \"Engine Size(L)\",\n      \"properties\": {\n        \"dtype\": \"number\",\n        \"std\": 1.354170455562269,\n        \"min\": 0.9,\n        \"max\": 8.4,\n        \"num_unique_values\": 51,\n        \"samples\": [\n          1.3,\n          2.7,\n          2.8\n        ],\n        \"semantic_type\": \"\",\n        \"description\": \"\"\n      }\n    },\n    {\n      \"column\": \"Cylinders\",\n      \"properties\": {\n        \"dtype\": \"number\",\n        \"std\": 1,\n        \"min\": 3,\n        \"max\": 16,\n        \"num_unique_values\": 8,\n        \"samples\": [\n          6,\n          3,\n          4\n        ],\n        \"semantic_type\": \"\",\n        \"description\": \"\"\n      }\n    },\n    {\n      \"column\": \"Transmission\",\n      \"properties\": {\n        \"dtype\": \"category\",\n        \"num_unique_values\": 27,\n        \"samples\": [\n          \"AS8\",\n          \"M5\",\n          \"A7\"\n        ],\n        \"semantic_type\": \"\",\n        \"description\": \"\"\n      }\n    },\n    {\n      \"column\": \"Fuel Type\",\n      \"properties\": {\n        \"dtype\": \"category\",\n        \"num_unique_values\": 5,\n        \"samples\": [\n          \"D\",\n          \"N\",\n          \"X\"\n        ],\n        \"semantic_type\": \"\",\n        \"description\": \"\"\n      }\n    },\n    {\n      \"column\": \"Fuel Consumption City (L/100 km)\",\n      \"properties\": {\n        \"dtype\": \"number\",\n        \"std\": 3.5002740810877904,\n        \"min\": 4.2,\n        \"max\": 30.6,\n        \"num_unique_values\": 211,\n        \"samples\": [\n          21.1,\n          22.2,\n          6.5\n        ],\n        \"semantic_type\": \"\",\n        \"description\": \"\"\n      }\n    },\n    {\n      \"column\": \"Fuel Consumption Hwy (L/100 km)\",\n      \"properties\": {\n        \"dtype\": \"number\",\n        \"std\": 2.2244563806418824,\n        \"min\": 4.0,\n        \"max\": 20.6,\n        \"num_unique_values\": 143,\n        \"samples\": [\n          5.2,\n          6.5,\n          13.3\n        ],\n        \"semantic_type\": \"\",\n        \"description\": \"\"\n      }\n    },\n    {\n      \"column\": \"Fuel Consumption Comb (L/100 km)\",\n      \"properties\": {\n        \"dtype\": \"number\",\n        \"std\": 2.892506302898463,\n        \"min\": 4.1,\n        \"max\": 26.1,\n        \"num_unique_values\": 181,\n        \"samples\": [\n          8.1,\n          16.5,\n          17.6\n        ],\n        \"semantic_type\": \"\",\n        \"description\": \"\"\n      }\n    },\n    {\n      \"column\": \"Fuel Consumption Comb (mpg)\",\n      \"properties\": {\n        \"dtype\": \"number\",\n        \"std\": 7,\n        \"min\": 11,\n        \"max\": 69,\n        \"num_unique_values\": 54,\n        \"samples\": [\n          20,\n          64,\n          63\n        ],\n        \"semantic_type\": \"\",\n        \"description\": \"\"\n      }\n    },\n    {\n      \"column\": \"CO2 Emissions(g/km)\",\n      \"properties\": {\n        \"dtype\": \"number\",\n        \"std\": 58,\n        \"min\": 96,\n        \"max\": 522,\n        \"num_unique_values\": 331,\n        \"samples\": [\n          363,\n          405,\n          377\n        ],\n        \"semantic_type\": \"\",\n        \"description\": \"\"\n      }\n    }\n  ]\n}"
            }
          },
          "metadata": {},
          "execution_count": 29
        }
      ],
      "id": "AL3fD9SN1fIe"
    },
    {
      "cell_type": "markdown",
      "source": [
        "**1. Find the top 3 vehicles with the highest CO2 emissions for each vehicle class.**"
      ],
      "metadata": {
        "id": "77L3wSK11DQ6"
      },
      "id": "77L3wSK11DQ6"
    },
    {
      "cell_type": "code",
      "source": [
        "# Step 1: Stable sort by Vehicle Class and CO2 Emissions\n",
        "data_sorted = data.sort_values(\n",
        "    by=['Vehicle Class', 'CO2 Emissions(g/km)'],\n",
        "    ascending=[True, False],\n",
        "    kind='mergesort'  # stable sort preserves original order for ties\n",
        ")\n",
        "\n",
        "# Step 2: Take top 3 CO2 emitters per class (preserve group as multi-index)\n",
        "top_3_co2_emissions = data_sorted.groupby('Vehicle Class')['CO2 Emissions(g/km)'] \\\n",
        "    .apply(lambda x: x.head(3))\n",
        "\n",
        "# Step 3: Print\n",
        "print(top_3_co2_emissions)\n"
      ],
      "metadata": {
        "id": "cC4ZfvNoxfbs",
        "colab": {
          "base_uri": "https://localhost:8080/"
        },
        "outputId": "c2b4cb80-6cbf-4fd1-ebc5-006ff573df1c"
      },
      "id": "cC4ZfvNoxfbs",
      "execution_count": 30,
      "outputs": [
        {
          "output_type": "stream",
          "name": "stdout",
          "text": [
            "Vehicle Class                 \n",
            "COMPACT                   3181    404\n",
            "                          3180    403\n",
            "                          4253    401\n",
            "FULL-SIZE                 3179    404\n",
            "                          3178    403\n",
            "                          4250    400\n",
            "MID-SIZE                  5511    465\n",
            "                          75      437\n",
            "                          3376    430\n",
            "MINICOMPACT               2212    365\n",
            "                          13      359\n",
            "                          19      359\n",
            "MINIVAN                   2858    296\n",
            "                          3945    296\n",
            "                          5012    296\n",
            "PICKUP TRUCK - SMALL      3503    331\n",
            "                          4563    331\n",
            "                          5626    331\n",
            "PICKUP TRUCK - STANDARD   391     414\n",
            "                          374     402\n",
            "                          864     398\n",
            "SPECIAL PURPOSE VEHICLE   2922    298\n",
            "                          3995    298\n",
            "                          5070    298\n",
            "STATION WAGON - MID-SIZE  7285    386\n",
            "                          7286    386\n",
            "                          6394    382\n",
            "STATION WAGON - SMALL     177     382\n",
            "                          178     340\n",
            "                          959     288\n",
            "SUBCOMPACT                6832    392\n",
            "                          72      380\n",
            "                          73      380\n",
            "SUV - SMALL               4051    353\n",
            "                          6623    339\n",
            "                          6624    339\n",
            "SUV - STANDARD            2971    476\n",
            "                          5126    473\n",
            "                          4049    467\n",
            "TWO-SEATER                4509    522\n",
            "                          5575    522\n",
            "                          6640    522\n",
            "VAN - CARGO               345     396\n",
            "                          213     380\n",
            "                          215     380\n",
            "VAN - PASSENGER           349     488\n",
            "                          2434    465\n",
            "                          2663    465\n",
            "Name: CO2 Emissions(g/km), dtype: int64\n"
          ]
        }
      ]
    },
    {
      "cell_type": "markdown",
      "source": [
        "**2. Find the top 3 car makes with the highest average CO2 emissions.**"
      ],
      "metadata": {
        "id": "ndZVOF77yfe2"
      },
      "id": "ndZVOF77yfe2"
    },
    {
      "cell_type": "code",
      "source": [
        "# Write the code here\n",
        "\n",
        "top_3_makes = data.groupby('Make')['CO2 Emissions(g/km)'].mean().sort_values(ascending=False).head(3)\n",
        "print(top_3_makes)"
      ],
      "metadata": {
        "id": "H-zYYCyHxgsJ",
        "colab": {
          "base_uri": "https://localhost:8080/"
        },
        "outputId": "fb4472ad-7f1c-4ebe-fdcd-8be6a7acdca9"
      },
      "id": "H-zYYCyHxgsJ",
      "execution_count": 31,
      "outputs": [
        {
          "output_type": "stream",
          "name": "stdout",
          "text": [
            "Make\n",
            "BUGATTI        522.000000\n",
            "LAMBORGHINI    400.780488\n",
            "SRT            389.000000\n",
            "Name: CO2 Emissions(g/km), dtype: float64\n"
          ]
        }
      ]
    },
    {
      "cell_type": "markdown",
      "source": [
        "**3. Identify the fuel type that has the lowest average CO2 emissions.** In the given format:\n",
        "- `Fuel type with lowest average CO2 emissions: N`"
      ],
      "metadata": {
        "id": "8kWldPvAyfFs"
      },
      "id": "8kWldPvAyfFs"
    },
    {
      "cell_type": "code",
      "source": [
        "# Write the code here\n",
        "\n",
        "lowest_emission_fuel =  data.groupby('Fuel Type')['CO2 Emissions(g/km)'].mean().idxmin()\n",
        "print(f\"Fuel type with lowest average CO2 emissions: {lowest_emission_fuel}\")"
      ],
      "metadata": {
        "id": "gLlFIl96yN0t",
        "colab": {
          "base_uri": "https://localhost:8080/"
        },
        "outputId": "c1f39621-7d21-4997-a90d-e819d575fdcb"
      },
      "id": "gLlFIl96yN0t",
      "execution_count": 32,
      "outputs": [
        {
          "output_type": "stream",
          "name": "stdout",
          "text": [
            "Fuel type with lowest average CO2 emissions: N\n"
          ]
        }
      ]
    },
    {
      "cell_type": "markdown",
      "source": [
        "**4. Add a new column for CO2 emissions per liter of fuel consumed (CO2 Emissions / Fuel Consumption) and list first 10 rows**"
      ],
      "metadata": {
        "id": "inHZZk5PykiK"
      },
      "id": "inHZZk5PykiK"
    },
    {
      "cell_type": "code",
      "source": [
        "# Write the code here\n",
        "data['CO2 per Liter']= data['CO2 Emissions(g/km)']/ data['Fuel Consumption Comb (L/100 km)']\n",
        "print(data[['Make', 'Model', 'CO2 per Liter']].head(10))"
      ],
      "metadata": {
        "id": "TPr5nvhRyXWV",
        "colab": {
          "base_uri": "https://localhost:8080/"
        },
        "outputId": "eb917e9b-7f57-43b6-ea3d-b1c053364f56"
      },
      "id": "TPr5nvhRyXWV",
      "execution_count": 33,
      "outputs": [
        {
          "output_type": "stream",
          "name": "stdout",
          "text": [
            "    Make       Model  CO2 per Liter\n",
            "0  ACURA         ILX      23.058824\n",
            "1  ACURA         ILX      23.020833\n",
            "2  ACURA  ILX HYBRID      23.050847\n",
            "3  ACURA     MDX 4WD      22.972973\n",
            "4  ACURA     RDX AWD      23.018868\n",
            "5  ACURA         RLX      23.000000\n",
            "6  ACURA          TL      22.970297\n",
            "7  ACURA      TL AWD      22.972973\n",
            "8  ACURA      TL AWD      23.017241\n",
            "9  ACURA         TSX      23.043478\n"
          ]
        }
      ]
    },
    {
      "cell_type": "markdown",
      "source": [
        "**5. Find the car make with the highest fuel consumption on average.**"
      ],
      "metadata": {
        "id": "cXI9WdPcyxEf"
      },
      "id": "cXI9WdPcyxEf"
    },
    {
      "cell_type": "code",
      "source": [
        "# Write the code here\n",
        "\n",
        "highest_fuel_make = data.groupby('Make')['Fuel Consumption Comb (L/100 km)'].mean().idxmax()\n",
        "print(f\"Car make with highest average fuel consumption: {highest_fuel_make}\")"
      ],
      "metadata": {
        "id": "XFHQCUzQymKG",
        "colab": {
          "base_uri": "https://localhost:8080/"
        },
        "outputId": "d37cbfa7-1f5f-46ad-cfb6-f2d947ef6060"
      },
      "id": "XFHQCUzQymKG",
      "execution_count": 34,
      "outputs": [
        {
          "output_type": "stream",
          "name": "stdout",
          "text": [
            "Car make with highest average fuel consumption: BUGATTI\n"
          ]
        }
      ]
    },
    {
      "cell_type": "markdown",
      "source": [
        "**6. Identify the top 3 car makes that have the most models with CO2 emissions above the 75th percentile.**"
      ],
      "metadata": {
        "id": "rNcmK_EPzlJL"
      },
      "id": "rNcmK_EPzlJL"
    },
    {
      "cell_type": "code",
      "source": [
        "# Write the code here\n",
        "\n",
        "threshold = data['CO2 Emissions(g/km)'].quantile(0.75)\n",
        "top_makes =  data[data['CO2 Emissions(g/km)'] > threshold]['Make'].value_counts().head(3)\n",
        "top_makes.index.name= 'Make'\n",
        "top_makes.name= 'Model'\n",
        "print(top_makes)"
      ],
      "metadata": {
        "id": "i3kBJSNFysDm",
        "colab": {
          "base_uri": "https://localhost:8080/"
        },
        "outputId": "61d00b31-c1b8-40a3-cbe6-2f6cf2085387"
      },
      "id": "i3kBJSNFysDm",
      "execution_count": 35,
      "outputs": [
        {
          "output_type": "stream",
          "name": "stdout",
          "text": [
            "Make\n",
            "CHEVROLET    231\n",
            "FORD         205\n",
            "GMC          197\n",
            "Name: Model, dtype: int64\n"
          ]
        }
      ]
    },
    {
      "cell_type": "markdown",
      "source": [
        "**7. Create a new feature that categorizes vehicles into 'Low', 'Medium', and 'High' based on percentiles of the \"CO2 Emissions(g/km)\" column and get first 10 rows:**\n",
        "\n",
        "- `Low: ≤ 33rd percentile`\n",
        "- `Medium: 33rd to 66th percentile`\n",
        "- `High: > 66th percentile`"
      ],
      "metadata": {
        "id": "kJH9SLD2zubw"
      },
      "id": "kJH9SLD2zubw"
    },
    {
      "cell_type": "code",
      "source": [
        "# Write the code here\n",
        "p33= data['CO2 Emissions(g/km)'].quantile(0.33)\n",
        "p66= data['CO2 Emissions(g/km)'].quantile(0.66)\n",
        "def categorize_co2(x):\n",
        "  if x <= p33:\n",
        "    return \"Low\"\n",
        "  elif x <=p66:\n",
        "    return \"Medium\"\n",
        "  else:\n",
        "    return \"High\"\n",
        "\n",
        "data['Emission Category']= data['CO2 Emissions(g/km)'].apply(categorize_co2)\n",
        "print(data[['Make', 'Model', 'CO2 Emissions(g/km)', 'Emission Category']].head(10))"
      ],
      "metadata": {
        "id": "SYf8YqDzzi8W",
        "colab": {
          "base_uri": "https://localhost:8080/"
        },
        "outputId": "2d5e5ba1-4adf-4706-dadb-ac9cfc0d9475"
      },
      "id": "SYf8YqDzzi8W",
      "execution_count": 36,
      "outputs": [
        {
          "output_type": "stream",
          "name": "stdout",
          "text": [
            "    Make       Model  CO2 Emissions(g/km) Emission Category\n",
            "0  ACURA         ILX                  196               Low\n",
            "1  ACURA         ILX                  221            Medium\n",
            "2  ACURA  ILX HYBRID                  136               Low\n",
            "3  ACURA     MDX 4WD                  255            Medium\n",
            "4  ACURA     RDX AWD                  244            Medium\n",
            "5  ACURA         RLX                  230            Medium\n",
            "6  ACURA          TL                  232            Medium\n",
            "7  ACURA      TL AWD                  255            Medium\n",
            "8  ACURA      TL AWD                  267            Medium\n",
            "9  ACURA         TSX                  212               Low\n"
          ]
        }
      ]
    },
    {
      "cell_type": "markdown",
      "source": [
        "**8. Determine if turbocharged engines (assuming turbocharged cars contain 'T' in model name) have higher average CO2 emissions.**"
      ],
      "metadata": {
        "id": "NHaAc5YAz3xP"
      },
      "id": "NHaAc5YAz3xP"
    },
    {
      "cell_type": "code",
      "source": [
        "# Step 1: Create a column to mark turbocharged cars (models containing 'T')\n",
        "data['Turbocharged'] = data['Model'].str.contains('T', case=False)\n",
        "\n",
        "# Step 2: Group by Turbocharged and calculate average CO2 emissions\n",
        "turbo_vs_non_turbo = data.groupby('Turbocharged')['CO2 Emissions(g/km)'].mean()\n",
        "\n",
        "# Step 3: Print in expected format\n",
        "print(turbo_vs_non_turbo)"
      ],
      "metadata": {
        "id": "lrNaVn3hzwNY",
        "colab": {
          "base_uri": "https://localhost:8080/"
        },
        "outputId": "6f80342a-becf-4f2d-f7fd-bfa0a1a014c8"
      },
      "id": "lrNaVn3hzwNY",
      "execution_count": 37,
      "outputs": [
        {
          "output_type": "stream",
          "name": "stdout",
          "text": [
            "Turbocharged\n",
            "False    249.110200\n",
            "True     252.473132\n",
            "Name: CO2 Emissions(g/km), dtype: float64\n"
          ]
        }
      ]
    },
    {
      "cell_type": "markdown",
      "source": [
        " **9. Compute the mean and standard deviation of CO2 emissions for each fuel type, and sort by highest variation.**"
      ],
      "metadata": {
        "id": "6ziwGD5Mz8-R"
      },
      "id": "6ziwGD5Mz8-R"
    },
    {
      "cell_type": "code",
      "source": [
        "# Write the code here\n",
        "fuel_stats =  data.groupby('Fuel Type')['CO2 Emissions(g/km)'].agg(['mean','std']).sort_values(by='std', ascending=False)\n",
        "print(fuel_stats)"
      ],
      "metadata": {
        "id": "LopDBC2Kz5VL",
        "collapsed": true,
        "colab": {
          "base_uri": "https://localhost:8080/"
        },
        "outputId": "30cf8743-3f17-493d-ac77-5e8042c4f4ae"
      },
      "id": "LopDBC2Kz5VL",
      "execution_count": 38,
      "outputs": [
        {
          "output_type": "stream",
          "name": "stdout",
          "text": [
            "                 mean        std\n",
            "Fuel Type                       \n",
            "X          235.119329  57.401473\n",
            "Z          266.043410  56.695972\n",
            "E          275.091892  47.093198\n",
            "D          237.548571  41.817704\n",
            "N          213.000000        NaN\n"
          ]
        }
      ]
    },
    {
      "cell_type": "markdown",
      "source": [
        "**10. Categorize vehicles into engine size (5 bins), calculates the average CO2 emissions for each engine size bin and prints the engine size range that has the highest average CO2 emissions.**"
      ],
      "metadata": {
        "id": "2asuf8360Biv"
      },
      "id": "2asuf8360Biv"
    },
    {
      "cell_type": "code",
      "source": [
        "# Step 1: Categorize vehicles into engine size bins\n",
        "engine_bins = pd.cut(data['Engine Size(L)'], bins=5)\n",
        "\n",
        "# Step 2: Calculate average CO2 emissions for each bin\n",
        "avg_co2_per_bin = data.groupby(engine_bins)['CO2 Emissions(g/km)'].mean()\n",
        "avg_co2_per_bin.index.name = None\n",
        "# Step 3: Print the result in the expected format\n",
        "print(\"Engine size range with highest CO2 emissions: Engine Size Bin\")\n",
        "print(avg_co2_per_bin)\n"
      ],
      "metadata": {
        "id": "qF11uPLyz-dU",
        "colab": {
          "base_uri": "https://localhost:8080/"
        },
        "outputId": "aeac8525-ccbc-4222-bd8c-26c03278f7bb"
      },
      "id": "qF11uPLyz-dU",
      "execution_count": 39,
      "outputs": [
        {
          "output_type": "stream",
          "name": "stdout",
          "text": [
            "Engine size range with highest CO2 emissions: Engine Size Bin\n",
            "(0.893, 2.4]    201.630952\n",
            "(2.4, 3.9]      254.708745\n",
            "(3.9, 5.4]      312.643119\n",
            "(5.4, 6.9]      349.776471\n",
            "(6.9, 8.4]      432.250000\n",
            "Name: CO2 Emissions(g/km), dtype: float64\n"
          ]
        }
      ]
    },
    {
      "cell_type": "markdown",
      "source": [
        "**11. Compare the median fuel consumption between vehicles with engine sizes above and below the median engine size.** In the given format:\n",
        "- `Above median engine size fuel consumption: ____`\n",
        "- `Below median engine size fuel consumption: ____`"
      ],
      "metadata": {
        "id": "Fn4oqZ900SJf"
      },
      "id": "Fn4oqZ900SJf"
    },
    {
      "cell_type": "code",
      "source": [
        "# Write the code here\n",
        "median_engine_size = data['Engine Size(L)'].median()\n",
        "above_median_fuel = data[data['Engine Size(L)'] > median_engine_size]['Fuel Consumption Comb (L/100 km)'].median()\n",
        "below_median_fuel =data[data['Engine Size(L)'] <= median_engine_size]['Fuel Consumption Comb (L/100 km)'].median()\n",
        "print(f\"Above median engine size fuel consumption: {above_median_fuel}\")\n",
        "print(f\"Below median engine size fuel consumption: {below_median_fuel}\")"
      ],
      "metadata": {
        "id": "s65Q08DO0C4D",
        "collapsed": true,
        "colab": {
          "base_uri": "https://localhost:8080/"
        },
        "outputId": "448bf1ce-51cc-435a-f2fd-59bbdb927849"
      },
      "id": "s65Q08DO0C4D",
      "execution_count": 40,
      "outputs": [
        {
          "output_type": "stream",
          "name": "stdout",
          "text": [
            "Above median engine size fuel consumption: 12.9\n",
            "Below median engine size fuel consumption: 9.2\n"
          ]
        }
      ]
    },
    {
      "cell_type": "markdown",
      "source": [
        "**12. Find the vehicle with the best CO2 emission per horsepower ratio (assuming 'Engines Size' correlates with power).**"
      ],
      "metadata": {
        "id": "rEVnpOfg0o6T"
      },
      "id": "rEVnpOfg0o6T"
    },
    {
      "cell_type": "code",
      "source": [
        "# Step 1: Calculate CO2 per engine size\n",
        "data['CO2 per HP'] = data['CO2 Emissions(g/km)'] / data['Engine Size(L)']\n",
        "\n",
        "# Step 2: Find the vehicle with the lowest CO2 per engine size\n",
        "best_vehicle_idx = data['CO2 per HP'].idxmin()\n",
        "best_vehicle = data.loc[[best_vehicle_idx], ['Make', 'Model', 'CO2 per HP']]\n",
        "print(best_vehicle)"
      ],
      "metadata": {
        "id": "CdHt29Hu0WKd",
        "colab": {
          "base_uri": "https://localhost:8080/"
        },
        "outputId": "8617853a-60da-4b2e-bc77-5e91bba53c78"
      },
      "id": "CdHt29Hu0WKd",
      "execution_count": 42,
      "outputs": [
        {
          "output_type": "stream",
          "name": "stdout",
          "text": [
            "          Make     Model  CO2 per HP\n",
            "196  CHEVROLET  CORVETTE   41.612903\n"
          ]
        }
      ]
    },
    {
      "cell_type": "markdown",
      "source": [
        "**13. Find the average CO2 emissions for each make, considering only models with fuel consumption above 10 L/100 km.**"
      ],
      "metadata": {
        "id": "uKDh4h5F05Pf"
      },
      "id": "uKDh4h5F05Pf"
    },
    {
      "cell_type": "code",
      "source": [
        "# Write the code here\n",
        "\n",
        "high_fuel_cars =data[data['Fuel Consumption Comb (L/100 km)'] > 10.0]\n",
        "avg_co2_per_make = high_fuel_cars.groupby('Make')['CO2 Emissions(g/km)'].mean()\n",
        "print(avg_co2_per_make)"
      ],
      "metadata": {
        "id": "xZ1Ciwfw0qGu",
        "colab": {
          "base_uri": "https://localhost:8080/"
        },
        "outputId": "e278ddc1-7a3a-4261-ee82-e190ee614f31"
      },
      "id": "xZ1Ciwfw0qGu",
      "execution_count": 43,
      "outputs": [
        {
          "output_type": "stream",
          "name": "stdout",
          "text": [
            "Make\n",
            "ACURA            250.793103\n",
            "ALFA ROMEO       283.285714\n",
            "ASTON MARTIN     339.617021\n",
            "AUDI             280.845161\n",
            "BENTLEY          362.934783\n",
            "BMW              283.726073\n",
            "BUGATTI          522.000000\n",
            "BUICK            266.375000\n",
            "CADILLAC         281.008547\n",
            "CHEVROLET        302.255814\n",
            "CHRYSLER         248.987805\n",
            "DODGE            285.913636\n",
            "FORD             284.152993\n",
            "GENESIS          284.840000\n",
            "GMC              306.940199\n",
            "HONDA            258.894737\n",
            "HYUNDAI          264.377049\n",
            "INFINITI         273.307692\n",
            "JAGUAR           280.325758\n",
            "JEEP             273.548872\n",
            "KIA              265.150685\n",
            "LAMBORGHINI      400.780488\n",
            "LAND ROVER       301.373134\n",
            "LEXUS            278.088235\n",
            "LINCOLN          282.536585\n",
            "MASERATI         318.147541\n",
            "MAZDA            258.700000\n",
            "MERCEDES-BENZ    296.652174\n",
            "MITSUBISHI       258.692308\n",
            "NISSAN           287.924370\n",
            "PORSCHE          266.618421\n",
            "RAM              298.241379\n",
            "ROLLS-ROYCE      388.480000\n",
            "SRT              389.000000\n",
            "SUBARU           260.771429\n",
            "TOYOTA           294.258993\n",
            "VOLKSWAGEN       260.882353\n",
            "VOLVO            251.254902\n",
            "Name: CO2 Emissions(g/km), dtype: float64\n"
          ]
        }
      ]
    },
    {
      "cell_type": "markdown",
      "source": [
        "# END"
      ],
      "metadata": {
        "id": "4eZOQGBDxeT7"
      },
      "id": "4eZOQGBDxeT7"
    }
  ],
  "metadata": {
    "kernelspec": {
      "display_name": "Python 3 (ipykernel)",
      "language": "python",
      "name": "python3"
    },
    "language_info": {
      "codemirror_mode": {
        "name": "ipython",
        "version": 3
      },
      "file_extension": ".py",
      "mimetype": "text/x-python",
      "name": "python",
      "nbconvert_exporter": "python",
      "pygments_lexer": "ipython3",
      "version": "3.9.7"
    },
    "colab": {
      "provenance": [],
      "include_colab_link": true
    }
  },
  "nbformat": 4,
  "nbformat_minor": 5
}