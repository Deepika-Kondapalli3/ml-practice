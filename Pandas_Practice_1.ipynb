{
  "nbformat": 4,
  "nbformat_minor": 0,
  "metadata": {
    "colab": {
      "provenance": [],
      "include_colab_link": true
    },
    "kernelspec": {
      "name": "python3",
      "display_name": "Python 3"
    },
    "language_info": {
      "name": "python"
    }
  },
  "cells": [
    {
      "cell_type": "markdown",
      "metadata": {
        "id": "view-in-github",
        "colab_type": "text"
      },
      "source": [
        "<a href=\"https://colab.research.google.com/github/Deepika-Kondapalli3/ml-practice/blob/main/Pandas_Practice_1.ipynb\" target=\"_parent\"><img src=\"https://colab.research.google.com/assets/colab-badge.svg\" alt=\"Open In Colab\"/></a>"
      ]
    },
    {
      "cell_type": "markdown",
      "source": [
        "# Instructions for Pandas Practice\n",
        "---\n",
        "Welcome to the Pandas Practice! In this exercise, you will work with the Rick and Morty dataset to practice your data manipulation and analysis skills using Pandas. Please follow the instructions below carefully:\n",
        "\n",
        "1. **Understand the Dataset**: The dataset used in this practice is related to the Rick and Morty TV show. Familiarize yourself with the dataset's structure and content before starting.\n",
        "\n",
        "2. **Read Each Question Thoroughly**: Each question in this practice is designed to test different Pandas functionalities. Make sure you understand the requirements of each question before you begin coding.\n",
        "\n",
        "3. **Write Your Code in the Provided Cells**: For each question, a code cell is provided where you should write your solution. Do not modify any other cells or sections of the notebook.\n",
        "\n",
        "4. **Execute Your Code**: After writing your code in each cell, run the cell to check if your code produces the expected results. Verify that the output matches the requirements specified in the question.\n",
        "\n",
        "5. **Complete All Questions**: Ensure that you attempt and complete all the questions provided in the notebook. Each question is designed to test different Pandas skills and concepts.\n",
        "\n",
        "6. **Review Your Work**: Before submitting, double-check your answers and make sure all questions are addressed. Ensure that the notebook runs without errors and that all outputs are correct.\n",
        "\n",
        "7. **Download Your Notebook**: Once you have completed all the questions and verified your solutions, download the notebook file (.ipynb). You can do this by selecting `File` > `Download` > `Download .ipynb` from the Google Colab menu.\n",
        "\n",
        "8. **Submit Your Practice**: Upload the downloaded .ipynb file to the designated learning platform for submission.\n",
        "\n",
        "9. **Verify Submission**: Ensure that you have uploaded the correct file and that it is not corrupted. If you encounter any issues with the file, you may need to resubmit.\n",
        "\n",
        "---\n",
        "\n",
        "Good luck with your practice!"
      ],
      "metadata": {
        "id": "OKciBGt5Vfw6"
      }
    },
    {
      "cell_type": "code",
      "source": [
        "import numpy as np\n",
        "import pandas as pd\n",
        "\n",
        "character_data_url = \"https://s3.ap-south-1.amazonaws.com/new-assets.ccbp.in/frontend/content/aiml/classical-ml/locations_dataset.csv\"\n",
        "episodes_data_url = \"https://s3.ap-south-1.amazonaws.com/new-assets.ccbp.in/frontend/content/aiml/classical-ml/episodes_dataset.csv\"\n",
        "locations_data_url = \"https://s3.ap-south-1.amazonaws.com/new-assets.ccbp.in/frontend/content/aiml/classical-ml/characters_dataset.csv\"\n",
        "\n",
        "characters = pd.read_csv(character_data_url,index_col=0)\n",
        "episodes = pd.read_csv(episodes_data_url,index_col=0)\n",
        "locations = pd.read_csv(locations_data_url,index_col=0)"
      ],
      "metadata": {
        "id": "Ia3qfT_pDk1o"
      },
      "execution_count": 73,
      "outputs": []
    },
    {
      "cell_type": "markdown",
      "source": [
        "Q1.Print Shape of Characters data."
      ],
      "metadata": {
        "id": "Kew16QMUWLFk"
      }
    },
    {
      "cell_type": "code",
      "source": [
        "# write your code here\n",
        "print(characters.shape)"
      ],
      "metadata": {
        "id": "YJJx_e5LDi4F",
        "colab": {
          "base_uri": "https://localhost:8080/"
        },
        "outputId": "d68a415b-c457-41a2-e932-2353d960b4ad"
      },
      "execution_count": 2,
      "outputs": [
        {
          "output_type": "stream",
          "name": "stdout",
          "text": [
            "(20, 7)\n"
          ]
        }
      ]
    },
    {
      "cell_type": "markdown",
      "source": [
        "Q2. What is the total count of unique character names in the character data? (Print the output in the format `Unique Character:`)"
      ],
      "metadata": {
        "id": "6EcLQ8HtWkju"
      }
    },
    {
      "cell_type": "code",
      "source": [
        "# write your code here\n",
        "unique_character = characters.name.nunique()\n",
        "print(\"Unique Character:\",unique_character)\n"
      ],
      "metadata": {
        "id": "RNaPAJg0DObc",
        "colab": {
          "base_uri": "https://localhost:8080/"
        },
        "outputId": "91eb681f-7c5b-48c8-85cc-cf9e81818671"
      },
      "execution_count": 91,
      "outputs": [
        {
          "output_type": "stream",
          "name": "stdout",
          "text": [
            "Unique Character: 20\n"
          ]
        }
      ]
    },
    {
      "cell_type": "markdown",
      "source": [
        "Q3. How many Episodes are available in season 1. (Hint: Use episodes data) (Print the output in the format `Season 1 Episodes: `)"
      ],
      "metadata": {
        "id": "juSrT76dW58F"
      }
    },
    {
      "cell_type": "code",
      "source": [
        "# write your code here\n",
        "season_1_episodes = episodes[episodes['episode'].str.startswith('S01')].shape[0]\n",
        "print(\"Season 1 Episodes:\",season_1_episodes)\n"
      ],
      "metadata": {
        "id": "bGnSL1yODOvL",
        "colab": {
          "base_uri": "https://localhost:8080/"
        },
        "outputId": "fbfae88b-3e9e-4b78-94e3-a8f0451f8dc1"
      },
      "execution_count": 99,
      "outputs": [
        {
          "output_type": "stream",
          "name": "stdout",
          "text": [
            "Season 1 Episodes: 11\n"
          ]
        }
      ]
    },
    {
      "cell_type": "markdown",
      "source": [
        "Q.4 Retrieve the column names from the `locations` DataFrame."
      ],
      "metadata": {
        "id": "fk4QfJPJXA5C"
      }
    },
    {
      "cell_type": "code",
      "source": [
        "# write your code here\n",
        "print(locations.columns.tolist())"
      ],
      "metadata": {
        "id": "EB1_aK3nDPLG",
        "colab": {
          "base_uri": "https://localhost:8080/"
        },
        "outputId": "0e675b1c-e9d6-401b-8c3c-19d8081d56f8"
      },
      "execution_count": 100,
      "outputs": [
        {
          "output_type": "stream",
          "name": "stdout",
          "text": [
            "['id', 'name', 'status', 'species', 'type', 'gender', 'origin', 'location', 'image', 'episode', 'url', 'created']\n"
          ]
        }
      ]
    },
    {
      "cell_type": "markdown",
      "source": [
        "Q.5 Select only the `Name` and `Species` columns from the `locations` DataFrame.\n"
      ],
      "metadata": {
        "id": "WeKXD8ZkXKRR"
      }
    },
    {
      "cell_type": "code",
      "source": [
        "# write your code\n",
        "subset =locations[['name','species']]\n",
        "print(subset)"
      ],
      "metadata": {
        "id": "N8MmOyK6DPgz",
        "colab": {
          "base_uri": "https://localhost:8080/"
        },
        "outputId": "128ddf2b-d6d7-4eb0-f6ce-f9640739115b"
      },
      "execution_count": 27,
      "outputs": [
        {
          "output_type": "stream",
          "name": "stdout",
          "text": [
            "                                      name species\n",
            "(name, species)                                   \n",
            "0                             Rick Sanchez   Human\n",
            "1                              Morty Smith   Human\n",
            "2                             Summer Smith   Human\n",
            "3                               Beth Smith   Human\n",
            "4                              Jerry Smith   Human\n",
            "5                Abadango Cluster Princess   Alien\n",
            "6                         Abradolf Lincler   Human\n",
            "7                         Adjudicator Rick   Human\n",
            "8                          Agency Director   Human\n",
            "9                               Alan Rails   Human\n",
            "10                         Albert Einstein   Human\n",
            "11                               Alexander   Human\n",
            "12                            Alien Googah   Alien\n",
            "13                             Alien Morty   Alien\n",
            "14                              Alien Rick   Alien\n",
            "15                            Amish Cyborg   Alien\n",
            "16                                   Annie   Human\n",
            "17                           Antenna Morty   Human\n",
            "18                            Antenna Rick   Human\n",
            "19                 Ants in my Eyes Johnson   Human\n"
          ]
        }
      ]
    },
    {
      "cell_type": "markdown",
      "source": [
        "Q.6 List the unique names of the characters who's species is 'Human'. (Output should be in list format)"
      ],
      "metadata": {
        "id": "3KuLNfO4XX0O"
      }
    },
    {
      "cell_type": "code",
      "source": [
        "# write your code here\n",
        "humans = locations[locations['species']=='Human']['name'].unique()\n",
        "print(humans)"
      ],
      "metadata": {
        "id": "gz2kOE1YDP9j",
        "colab": {
          "base_uri": "https://localhost:8080/"
        },
        "outputId": "25eda247-c3cf-4c65-81ad-7e6661aa858d"
      },
      "execution_count": 101,
      "outputs": [
        {
          "output_type": "stream",
          "name": "stdout",
          "text": [
            "['Rick Sanchez' 'Morty Smith' 'Summer Smith' 'Beth Smith' 'Jerry Smith'\n",
            " 'Abradolf Lincler' 'Adjudicator Rick' 'Agency Director' 'Alan Rails'\n",
            " 'Albert Einstein' 'Alexander' 'Annie' 'Antenna Morty' 'Antenna Rick'\n",
            " 'Ants in my Eyes Johnson']\n"
          ]
        }
      ]
    },
    {
      "cell_type": "markdown",
      "source": [
        "Q.7 List the unique male character names who's status is `Alive`"
      ],
      "metadata": {
        "id": "l5hVt1LGXnAG"
      }
    },
    {
      "cell_type": "code",
      "source": [
        "# write your code here\n",
        "alive = locations[locations['status']=='Alive']\n",
        "male=  alive[alive['gender']=='Male']['name'].unique()\n",
        "print(male)"
      ],
      "metadata": {
        "id": "NTyvMjh6DQfb",
        "colab": {
          "base_uri": "https://localhost:8080/"
        },
        "outputId": "76321161-580b-4b46-888b-2b7ac3f5c520"
      },
      "execution_count": 108,
      "outputs": [
        {
          "output_type": "stream",
          "name": "stdout",
          "text": [
            "['Rick Sanchez' 'Morty Smith' 'Jerry Smith' 'Antenna Morty']\n"
          ]
        }
      ]
    },
    {
      "cell_type": "markdown",
      "source": [
        "Q.8 What is the total count of unique species in the `locations` DataFrame? (Print the output in the format: `Unique species count: `)"
      ],
      "metadata": {
        "id": "-v7g6GSUXuTM"
      }
    },
    {
      "cell_type": "code",
      "source": [
        "# write your code here\n",
        "unique_species =locations.species.nunique()\n",
        "print(\"Unique species count:\", unique_species)"
      ],
      "metadata": {
        "id": "fVgWjTPKDQ2M",
        "colab": {
          "base_uri": "https://localhost:8080/"
        },
        "outputId": "95921dca-07f3-4331-b0cd-b181750c5314"
      },
      "execution_count": 66,
      "outputs": [
        {
          "output_type": "stream",
          "name": "stdout",
          "text": [
            "Unique species count: 2\n"
          ]
        }
      ]
    },
    {
      "cell_type": "markdown",
      "source": [
        "Q.9 Name of the episodes in the list format which relseased on `January 13, 2014`"
      ],
      "metadata": {
        "id": "rQGnZALI-eWL"
      }
    },
    {
      "cell_type": "code",
      "source": [
        "# write your code here\n",
        "specific_date = episodes[episodes['air_date']=='January 13, 2014']['name'].unique().tolist()\n",
        "print(specific_date)"
      ],
      "metadata": {
        "id": "ycFWOk3MDRLT",
        "colab": {
          "base_uri": "https://localhost:8080/"
        },
        "outputId": "8549b8b9-841d-4b76-b7e1-70cd09c2e6e7"
      },
      "execution_count": 70,
      "outputs": [
        {
          "output_type": "stream",
          "name": "stdout",
          "text": [
            "['M. Night Shaym-Aliens!']\n"
          ]
        }
      ]
    },
    {
      "cell_type": "markdown",
      "source": [
        "Q.10  List the Female character names who's species Alien."
      ],
      "metadata": {
        "id": "x5nDX6jy-6KR"
      }
    },
    {
      "cell_type": "code",
      "source": [
        "# write your code here\n",
        "female_alien =locations[(locations['species']=='Alien') & (locations['gender']=='Female')]['name'].unique().tolist()\n",
        "print(female_alien)"
      ],
      "metadata": {
        "id": "vsOYDjHQDRdF",
        "colab": {
          "base_uri": "https://localhost:8080/"
        },
        "outputId": "5bf81440-8493-4f35-ed14-c5ddd464034d"
      },
      "execution_count": 79,
      "outputs": [
        {
          "output_type": "stream",
          "name": "stdout",
          "text": [
            "['Abadango Cluster Princess']\n"
          ]
        }
      ]
    },
    {
      "cell_type": "markdown",
      "source": [
        "# End!"
      ],
      "metadata": {
        "id": "GrwfPM6EbOET"
      }
    }
  ]
}