{
  "nbformat": 4,
  "nbformat_minor": 0,
  "metadata": {
    "colab": {
      "provenance": [],
      "include_colab_link": true
    },
    "kernelspec": {
      "name": "python3",
      "display_name": "Python 3"
    },
    "language_info": {
      "name": "python"
    }
  },
  "cells": [
    {
      "cell_type": "markdown",
      "metadata": {
        "id": "view-in-github",
        "colab_type": "text"
      },
      "source": [
        "<a href=\"https://colab.research.google.com/github/Deepika-Kondapalli3/ml-practice/blob/main/Copy_of_Pandas_Practice_2.ipynb\" target=\"_parent\"><img src=\"https://colab.research.google.com/assets/colab-badge.svg\" alt=\"Open In Colab\"/></a>"
      ]
    },
    {
      "cell_type": "markdown",
      "source": [
        "# Instructions for Pandas Practice\n",
        "---\n",
        "Welcome to the Pandas Practice! In this exercise, you will work with the Rick and Morty dataset to practice your data manipulation and analysis skills using Pandas. Please follow the instructions below carefully:\n",
        "\n",
        "1. **Understand the Dataset**: The dataset used in this Practice is related to the Rick and Morty TV show. Familiarize yourself with the dataset's structure and content before starting.\n",
        "\n",
        "2. **Read Each Question Thoroughly**: Each question in this Practice is designed to test different Pandas functionalities. Make sure you understand the requirements of each question before you begin coding.\n",
        "\n",
        "3. **Write Your Code in the Provided Cells**: For each question, a code cell is provided where you should write your solution. Do not modify any other cells or sections of the notebook.\n",
        "\n",
        "4. **Execute Your Code**: After writing your code in each cell, run the cell to check if your code produces the expected results. Verify that the output matches the requirements specified in the question.\n",
        "\n",
        "5. **Complete All Questions**: Ensure that you attempt and complete all the questions provided in the notebook. Each question is designed to test different Pandas skills and concepts.\n",
        "\n",
        "6. **Review Your Work**: Before submitting, double-check your answers and make sure all questions are addressed. Ensure that the notebook runs without errors and that all outputs are correct.\n",
        "\n",
        "7. **Download Your Notebook**: Once you have completed all the questions and verified your solutions, download the notebook file (.ipynb). You can do this by selecting `File` > `Download` > `Download .ipynb` from the Google Colab menu.\n",
        "\n",
        "8. **Submit Your Practice**: Upload the downloaded .ipynb file to the designated learning platform for submission.\n",
        "\n",
        "9. **Verify Submission**: Ensure that you have uploaded the correct file and that it is not corrupted. If you encounter any issues with the file, you may need to resubmit.\n",
        "\n",
        "---\n",
        "\n",
        "Good luck with your Practice!"
      ],
      "metadata": {
        "id": "dsUmzMojjuxc"
      }
    },
    {
      "cell_type": "code",
      "source": [
        "import numpy as np\n",
        "import pandas as pd\n",
        "\n",
        "locations_data_url = \"https://s3.ap-south-1.amazonaws.com/new-assets.ccbp.in/frontend/content/aiml/classical-ml/locations_dataset.csv\"\n",
        "episodes_data_url = \"https://s3.ap-south-1.amazonaws.com/new-assets.ccbp.in/frontend/content/aiml/classical-ml/episodes_dataset.csv\"\n",
        "character_data_url = \"https://s3.ap-south-1.amazonaws.com/new-assets.ccbp.in/frontend/content/aiml/classical-ml/characters_dataset.csv\"\n",
        "\n",
        "characters = pd.read_csv(character_data_url,index_col=0)\n",
        "episodes = pd.read_csv(episodes_data_url,index_col=0)\n",
        "locations = pd.read_csv(locations_data_url,index_col=0)"
      ],
      "metadata": {
        "id": "yJV1aGlEvZFB"
      },
      "execution_count": 97,
      "outputs": []
    },
    {
      "cell_type": "markdown",
      "source": [
        "Q1. You are given a DataFrame locations containing a column 'name' with the names of different locations, find only the location name with the maximum number of characters (longest name) and print it."
      ],
      "metadata": {
        "id": "JtDT1JCCjfA2"
      }
    },
    {
      "cell_type": "code",
      "source": [
        "# write your code here\n",
        "max_length = locations['name'].str.len().max()\n",
        "longest_locations = locations.loc[locations['name'].str.len()==max_length,'name'].iloc[0]\n",
        "\n",
        "print(longest_locations)"
      ],
      "metadata": {
        "id": "gvN5fZ9xvbUv",
        "colab": {
          "base_uri": "https://localhost:8080/"
        },
        "outputId": "6a964123-0dd9-4870-f87f-33657611a9a5"
      },
      "execution_count": null,
      "outputs": [
        {
          "output_type": "stream",
          "name": "stdout",
          "text": [
            "Earth (Replacement Dimension)\n"
          ]
        }
      ]
    },
    {
      "cell_type": "markdown",
      "source": [
        "Q2. From the characters DataFrame, count how many characters have a `status` of `unknown` and print the result as a frequency table, display the result as a Series."
      ],
      "metadata": {
        "id": "Kew16QMUWLFk"
      }
    },
    {
      "cell_type": "code",
      "source": [
        "# write your code here\n",
        "status_distribution =characters.query('status==\"unknown\"')['status'].value_counts()\n",
        "status_distribution.name='count'\n",
        "status_distribution.index.name='status'\n",
        "print(status_distribution)"
      ],
      "metadata": {
        "id": "WhD_pw6wvbms",
        "colab": {
          "base_uri": "https://localhost:8080/"
        },
        "outputId": "68d8c881-57cd-485c-c3ba-42b4a61573ab"
      },
      "execution_count": 90,
      "outputs": [
        {
          "output_type": "stream",
          "name": "stdout",
          "text": [
            "status\n",
            "unknown    6\n",
            "Name: count, dtype: int64\n"
          ]
        }
      ]
    },
    {
      "cell_type": "markdown",
      "source": [
        "Q3. From the `episodes` DataFrame, find the episode with the earliest `created` date and print its name."
      ],
      "metadata": {
        "id": "CgLndYIzRioq"
      }
    },
    {
      "cell_type": "code",
      "source": [
        "# write your code here\n",
        "episodes['created']= pd.to_datetime(episodes['created'])\n",
        "earliest_date =episodes['created'].min()\n",
        "earliest_episode =episodes.loc[episodes['created']==earliest_date].iloc[0]\n",
        "print(earliest_episode['name'])"
      ],
      "metadata": {
        "id": "eTkbZZLWvb_v",
        "colab": {
          "base_uri": "https://localhost:8080/"
        },
        "outputId": "157df1b4-6173-402b-c4ea-f2871dc4fe40"
      },
      "execution_count": 91,
      "outputs": [
        {
          "output_type": "stream",
          "name": "stdout",
          "text": [
            "Pilot\n"
          ]
        }
      ]
    },
    {
      "cell_type": "markdown",
      "source": [
        "Q4. From the `characters` DataFrame, count how many characters belong to each species, set the index name to `species` and the Series name to `count`, then print the result."
      ],
      "metadata": {
        "id": "6EcLQ8HtWkju"
      }
    },
    {
      "cell_type": "code",
      "source": [
        "# write your code here\n",
        "num_of_species_counts =characters['species'].value_counts()\n",
        "num_of_species_counts.index.name='species'\n",
        "num_of_species_counts.name='count'\n",
        "print(num_of_species_counts)"
      ],
      "metadata": {
        "id": "RhyIpNrAvcav",
        "colab": {
          "base_uri": "https://localhost:8080/"
        },
        "outputId": "ee2de0ec-c510-4f5c-c225-8444c3569fce"
      },
      "execution_count": null,
      "outputs": [
        {
          "output_type": "stream",
          "name": "stdout",
          "text": [
            "species\n",
            "Human    15\n",
            "Alien     5\n",
            "Name: count, dtype: int64\n"
          ]
        }
      ]
    },
    {
      "cell_type": "markdown",
      "source": [
        "Q5. Group the episodes DataFrame by `air_date`, count how many episodes aired on each date, and then print the total number of air dates.\n"
      ],
      "metadata": {
        "id": "juSrT76dW58F"
      }
    },
    {
      "cell_type": "code",
      "source": [
        "# write your code here\n",
        "episodes_count =episodes.groupby('air_date').size()\n",
        "print(episodes_count.count())"
      ],
      "metadata": {
        "id": "OnXeZ6bsvcoO",
        "colab": {
          "base_uri": "https://localhost:8080/"
        },
        "outputId": "292e7c3f-3b0c-472e-e350-797f38170ec5"
      },
      "execution_count": null,
      "outputs": [
        {
          "output_type": "stream",
          "name": "stdout",
          "text": [
            "20\n"
          ]
        }
      ]
    },
    {
      "cell_type": "markdown",
      "source": [
        "Q.6 Using the `characters` DataFrame, group the data by `gender` and count how many characters belong to each gender based on id. Print the result."
      ],
      "metadata": {
        "id": "fk4QfJPJXA5C"
      }
    },
    {
      "cell_type": "code",
      "source": [
        "# write your code here\n",
        "characters_count =characters.groupby('gender')['id'].count()\n",
        "print(characters_count)"
      ],
      "metadata": {
        "id": "alDaa1pwvc4f",
        "colab": {
          "base_uri": "https://localhost:8080/"
        },
        "outputId": "bda3c0e0-e39d-41e2-9399-19f338de1a7d"
      },
      "execution_count": null,
      "outputs": [
        {
          "output_type": "stream",
          "name": "stdout",
          "text": [
            "gender\n",
            "Female      4\n",
            "Male       15\n",
            "unknown     1\n",
            "Name: id, dtype: int64\n"
          ]
        }
      ]
    },
    {
      "cell_type": "markdown",
      "source": [
        "Q.7 Convert all episode names in the `episodes` DataFrame to uppercase and print the `name` column."
      ],
      "metadata": {
        "id": "WeKXD8ZkXKRR"
      }
    },
    {
      "cell_type": "code",
      "source": [
        "# write your code here\n",
        "episodes['name']=episodes['name'].str.upper()\n",
        "print(episodes[['name']])"
      ],
      "metadata": {
        "id": "QvqIxBpLvdTe",
        "colab": {
          "base_uri": "https://localhost:8080/"
        },
        "outputId": "2a791e60-86c8-4032-f24f-bf114c1f0b97"
      },
      "execution_count": 92,
      "outputs": [
        {
          "output_type": "stream",
          "name": "stdout",
          "text": [
            "                                       name\n",
            "0                                     PILOT\n",
            "1                             LAWNMOWER DOG\n",
            "2                              ANATOMY PARK\n",
            "3                    M. NIGHT SHAYM-ALIENS!\n",
            "4                      MEESEEKS AND DESTROY\n",
            "5                            RICK POTION #9\n",
            "6                       RAISING GAZORPAZORP\n",
            "7                             RIXTY MINUTES\n",
            "8           SOMETHING RICKED THIS WAY COMES\n",
            "9      CLOSE RICK-COUNTERS OF THE RICK KIND\n",
            "10                          RICKSY BUSINESS\n",
            "11                         A RICKLE IN TIME\n",
            "12                           MORTYNIGHT RUN\n",
            "13                 AUTO EROTIC ASSIMILATION\n",
            "14                            TOTAL RICKALL\n",
            "15                             GET SCHWIFTY\n",
            "16                  THE RICKS MUST BE CRAZY\n",
            "17            BIG TROUBLE IN LITTLE SANCHEZ\n",
            "18  INTERDIMENSIONAL CABLE 2: TEMPTING FATE\n",
            "19                   LOOK WHO'S PURGING NOW\n"
          ]
        }
      ]
    },
    {
      "cell_type": "markdown",
      "source": [
        "Q.8 From the `characters` DataFrame, select all characters whose species is **Human**. Then count how many characters have gender **Male**, set the index name to `gender` and the Series name to `count`, and print the result."
      ],
      "metadata": {
        "id": "3KuLNfO4XX0O"
      }
    },
    {
      "cell_type": "code",
      "source": [
        "# write your code here\n",
        "humans =characters[characters['species']==\"Human\"]\n",
        "gender =characters[characters['gender']==\"Male\"]['gender'].value_counts()\n",
        "gender.index.name=\"gender\"\n",
        "gender.name=\"count\"\n",
        "print(gender)"
      ],
      "metadata": {
        "id": "ZhR7U96kvdjV",
        "colab": {
          "base_uri": "https://localhost:8080/"
        },
        "outputId": "c56334a9-7f19-4bf9-c6ef-c3c79ab7b1c7"
      },
      "execution_count": 93,
      "outputs": [
        {
          "output_type": "stream",
          "name": "stdout",
          "text": [
            "gender\n",
            "Male    15\n",
            "Name: count, dtype: int64\n"
          ]
        }
      ]
    },
    {
      "cell_type": "markdown",
      "source": [
        "Q.9 From the `characters` data, select all rows where the **name** contains the word **Citadel** (case-insensitive) and print the resulting DataFrame.\n"
      ],
      "metadata": {
        "id": "l5hVt1LGXnAG"
      }
    },
    {
      "cell_type": "code",
      "source": [
        "# write your code here\n",
        "citadel_characters =characters[characters['name'].str.contains(\"Citadel\",case=False)]\n",
        "print(citadel_characters)"
      ],
      "metadata": {
        "id": "0jJ_Ns2zvd0k",
        "colab": {
          "base_uri": "https://localhost:8080/"
        },
        "outputId": "3ff3fb85-d735-4f8b-df4e-50a2ca42e507"
      },
      "execution_count": 94,
      "outputs": [
        {
          "output_type": "stream",
          "name": "stdout",
          "text": [
            "Empty DataFrame\n",
            "Columns: [id, name, status, species, type, gender, origin, location, image, episode, url, created]\n",
            "Index: []\n"
          ]
        }
      ]
    },
    {
      "cell_type": "markdown",
      "source": [
        "Q.10 From the `episodes` DataFrame, extract the **names of all episodes aired in 2013** and print them as a Python list."
      ],
      "metadata": {
        "id": "-v7g6GSUXuTM"
      }
    },
    {
      "cell_type": "code",
      "source": [
        "# write your code here\n",
        "episodes_2013 =episodes[pd.to_datetime(episodes['air_date']).dt.year==2013]['name']\n",
        "print(episodes_2013.tolist())"
      ],
      "metadata": {
        "id": "nE8iLAMrveHG",
        "colab": {
          "base_uri": "https://localhost:8080/"
        },
        "outputId": "c83ef98a-334d-4bad-b4ac-7626b19ecd6e"
      },
      "execution_count": 102,
      "outputs": [
        {
          "output_type": "stream",
          "name": "stdout",
          "text": [
            "['Pilot', 'Lawnmower Dog', 'Anatomy Park']\n"
          ]
        }
      ]
    },
    {
      "cell_type": "markdown",
      "source": [
        "Q.11 Find the three `characters` who appeared in the most episodes by applying len to the `episode` column, and print their episode counts."
      ],
      "metadata": {
        "id": "io3zMrXidCZn"
      }
    },
    {
      "cell_type": "code",
      "source": [
        "# write your code here\n",
        "character_episodes_count= characters['episode'].apply(len).nlargest(3)\n",
        "print(character_episodes_count)"
      ],
      "metadata": {
        "id": "ZF8GkkSlveku",
        "colab": {
          "base_uri": "https://localhost:8080/"
        },
        "outputId": "df0e87cb-d144-41d4-a836-21031698374f"
      },
      "execution_count": 100,
      "outputs": [
        {
          "output_type": "stream",
          "name": "stdout",
          "text": [
            "0    2337\n",
            "1    2337\n",
            "2    1928\n",
            "Name: episode, dtype: int64\n"
          ]
        }
      ]
    },
    {
      "cell_type": "markdown",
      "source": [
        "Q.12 From the `characters` data, extract the **name** value from each **origin** dictionary, find how many unique origins there are, and print the count."
      ],
      "metadata": {
        "id": "j9XMgRsHdIIS"
      }
    },
    {
      "cell_type": "code",
      "source": [
        "# write your code here\n",
        "unique_characters =characters['origin'].apply(lambda x : eval(x)['name'])\n",
        "print(unique_characters.nunique())"
      ],
      "metadata": {
        "id": "UoqGLem0ve9X",
        "colab": {
          "base_uri": "https://localhost:8080/"
        },
        "outputId": "e6a49575-7d9b-4993-c7e2-13d8d72954ca"
      },
      "execution_count": null,
      "outputs": [
        {
          "output_type": "stream",
          "name": "stdout",
          "text": [
            "4\n"
          ]
        }
      ]
    },
    {
      "cell_type": "markdown",
      "source": [
        "Q. 13 Convert the **air_date** column of the episodes DataFrame to datetime, find the most recent episode (latest air date), and print its name.\n"
      ],
      "metadata": {
        "id": "22Y0MwvCdM01"
      }
    },
    {
      "cell_type": "code",
      "source": [
        "# write your code here\n",
        "episodes['air_date'] =pd.to_datetime(episodes['air_date'])\n",
        "latest_date=episodes['air_date'].max()\n",
        "most_recent_episode =episodes.loc[episodes['air_date']==latest_date].iloc[0]\n",
        "print(most_recent_episode['name'])"
      ],
      "metadata": {
        "id": "r23Ia9P1vfS2",
        "colab": {
          "base_uri": "https://localhost:8080/"
        },
        "outputId": "779af243-49be-49e5-ebca-5832fb78ac2a"
      },
      "execution_count": 101,
      "outputs": [
        {
          "output_type": "stream",
          "name": "stdout",
          "text": [
            "Look Who's Purging Now\n"
          ]
        }
      ]
    },
    {
      "cell_type": "markdown",
      "source": [
        "Q. 14 From the `characters` data, determine the **most common species** and print it."
      ],
      "metadata": {
        "id": "-PWTWTctMZn_"
      }
    },
    {
      "cell_type": "code",
      "source": [
        "# write your code here\n",
        "most_common_species =characters['species'].value_counts().index[0]\n",
        "print(most_common_species)"
      ],
      "metadata": {
        "id": "2gEkepXLvfpu",
        "colab": {
          "base_uri": "https://localhost:8080/"
        },
        "outputId": "ee1d9f5b-747f-4c47-da2e-05fe78d775c8"
      },
      "execution_count": null,
      "outputs": [
        {
          "output_type": "stream",
          "name": "stdout",
          "text": [
            "Human\n"
          ]
        }
      ]
    },
    {
      "cell_type": "markdown",
      "source": [
        "Q. 15 From the `characters` data, select and print all character names that **start with the letter \"A\"**."
      ],
      "metadata": {
        "id": "KWx_84mrMaUs"
      }
    },
    {
      "cell_type": "code",
      "source": [
        "# write your code here\n",
        "name_count =characters[characters['name'].str.startswith(\"A\")]['name']\n",
        "print(name_count)"
      ],
      "metadata": {
        "id": "6QKqhTtYvf7v",
        "colab": {
          "base_uri": "https://localhost:8080/"
        },
        "outputId": "9c992226-5fb1-4c7d-9c4d-cb9080b68ea1"
      },
      "execution_count": null,
      "outputs": [
        {
          "output_type": "stream",
          "name": "stdout",
          "text": [
            "5     Abadango Cluster Princess\n",
            "6              Abradolf Lincler\n",
            "7              Adjudicator Rick\n",
            "8               Agency Director\n",
            "9                    Alan Rails\n",
            "10              Albert Einstein\n",
            "11                    Alexander\n",
            "12                 Alien Googah\n",
            "13                  Alien Morty\n",
            "14                   Alien Rick\n",
            "15                 Amish Cyborg\n",
            "16                        Annie\n",
            "17                Antenna Morty\n",
            "18                 Antenna Rick\n",
            "19      Ants in my Eyes Johnson\n",
            "Name: name, dtype: object\n"
          ]
        }
      ]
    },
    {
      "cell_type": "markdown",
      "source": [
        "# End!"
      ],
      "metadata": {
        "id": "GrwfPM6EbOET"
      }
    }
  ]
}