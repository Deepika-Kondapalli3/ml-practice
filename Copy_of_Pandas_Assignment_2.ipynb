{
  "cells": [
    {
      "cell_type": "markdown",
      "metadata": {
        "id": "view-in-github",
        "colab_type": "text"
      },
      "source": [
        "<a href=\"https://colab.research.google.com/github/Deepika-Kondapalli3/ml-practice/blob/main/Copy_of_Pandas_Assignment_2.ipynb\" target=\"_parent\"><img src=\"https://colab.research.google.com/assets/colab-badge.svg\" alt=\"Open In Colab\"/></a>"
      ]
    },
    {
      "cell_type": "markdown",
      "source": [
        "# Pandas Assignment\n"
      ],
      "metadata": {
        "id": "g_rr3gKyO6Vn"
      },
      "id": "g_rr3gKyO6Vn"
    },
    {
      "cell_type": "markdown",
      "source": [
        "## Instructions for Pandas Assignment\n",
        "---\n",
        "Welcome to the Pandas Assignment! In this exercise, you will work with the CO2_Emissions_Canada2 dataset for Assignment your data manipulation and analysis skills using Pandas. Please follow the instructions below carefully:\n",
        "\n",
        "1. **Understand the Dataset**: The dataset used in this assignment is related to the CO2_Emissions_Canada2. Familiarize yourself with the dataset's structure and content before starting.\n",
        "\n",
        "2. **Read Each Question Thoroughly**: Each question in this assignment is designed to test different Pandas functionalities. Make sure you understand the requirements of each question before you begin coding.\n",
        "\n",
        "3. **Write Your Code in the Provided Cells**: For each question, a code cell is provided where you should write your solution. Do not modify any other cells or sections of the notebook.\n",
        "\n",
        "4. **Execute Your Code**: After writing your code in each cell, run the cell to check if your code produces the expected results. Verify that the output matches the requirements specified in the question.\n",
        "\n",
        "5. **Complete All Questions**: Ensure that you attempt and complete all the questions provided in the notebook. Each question is designed to test different Pandas skills and concepts.\n",
        "\n",
        "6. **Review Your Work**: Before submitting, double-check your answers and make sure all questions are addressed. Ensure that the notebook runs without errors and that all outputs are correct.\n",
        "\n",
        "7. **Download Your Notebook**: Once you have completed all the questions and verified your solutions, download the notebook file (.ipynb). You can do this by selecting `File` > `Download` > `Download .ipynb` from the Google Colab menu.\n",
        "\n",
        "8. **Submit Your Assignment**: Upload the downloaded .ipynb file to the designated learning platform for submission.\n",
        "\n",
        "9. **Verify Submission**: Ensure that you have uploaded the correct file and that it is not corrupted. If you encounter any issues with the file, you may need to resubmit.\n",
        "\n",
        "---\n",
        "\n",
        "Good luck with your Assignment!"
      ],
      "metadata": {
        "id": "OKciBGt5Vfw6"
      },
      "id": "OKciBGt5Vfw6"
    },
    {
      "cell_type": "code",
      "source": [
        "# Run this code cell\n",
        "import numpy as np\n",
        "import pandas as pd\n",
        "\n",
        "co2_emission = \"https://s3.ap-south-1.amazonaws.com/new-assets.ccbp.in/frontend/content/aiml/classical-ml/CO2_Emissions_Canada2.csv\"\n",
        "\n",
        "# Upload the data to colab before executing this code cell\n",
        "data = pd.read_csv(co2_emission)\n",
        "data.head()"
      ],
      "metadata": {
        "id": "EfDhn0frmmPM",
        "colab": {
          "base_uri": "https://localhost:8080/",
          "height": 258
        },
        "outputId": "7cc49369-3c08-467c-899e-3236f6042834"
      },
      "execution_count": 1,
      "outputs": [
        {
          "output_type": "execute_result",
          "data": {
            "text/plain": [
              "    Make       Model Vehicle Class  Engine Size(L)  Cylinders Transmission  \\\n",
              "0  ACURA         ILX       COMPACT             2.0          4          AS5   \n",
              "1  ACURA         ILX       COMPACT             2.4          4           M6   \n",
              "2  ACURA  ILX HYBRID       COMPACT             1.5          4          AV7   \n",
              "3  ACURA     MDX 4WD   SUV - SMALL             3.5          6          AS6   \n",
              "4  ACURA     RDX AWD   SUV - SMALL             3.5          6          AS6   \n",
              "\n",
              "  Fuel Type  Fuel Consumption City (L/100 km)  \\\n",
              "0         Z                               9.9   \n",
              "1         Z                              11.2   \n",
              "2         Z                               6.0   \n",
              "3         Z                              12.7   \n",
              "4         Z                              12.1   \n",
              "\n",
              "   Fuel Consumption Hwy (L/100 km)  Fuel Consumption Comb (L/100 km)  \\\n",
              "0                              6.7                               8.5   \n",
              "1                              7.7                               9.6   \n",
              "2                              5.8                               5.9   \n",
              "3                              9.1                              11.1   \n",
              "4                              8.7                              10.6   \n",
              "\n",
              "   Fuel Consumption Comb (mpg)  CO2 Emissions(g/km)  \n",
              "0                           33                196.0  \n",
              "1                           29                221.0  \n",
              "2                           48                136.0  \n",
              "3                           25                255.0  \n",
              "4                           27                244.0  "
            ],
            "text/html": [
              "\n",
              "  <div id=\"df-288d6204-c18c-49a2-af7a-a573af24ba9d\" class=\"colab-df-container\">\n",
              "    <div>\n",
              "<style scoped>\n",
              "    .dataframe tbody tr th:only-of-type {\n",
              "        vertical-align: middle;\n",
              "    }\n",
              "\n",
              "    .dataframe tbody tr th {\n",
              "        vertical-align: top;\n",
              "    }\n",
              "\n",
              "    .dataframe thead th {\n",
              "        text-align: right;\n",
              "    }\n",
              "</style>\n",
              "<table border=\"1\" class=\"dataframe\">\n",
              "  <thead>\n",
              "    <tr style=\"text-align: right;\">\n",
              "      <th></th>\n",
              "      <th>Make</th>\n",
              "      <th>Model</th>\n",
              "      <th>Vehicle Class</th>\n",
              "      <th>Engine Size(L)</th>\n",
              "      <th>Cylinders</th>\n",
              "      <th>Transmission</th>\n",
              "      <th>Fuel Type</th>\n",
              "      <th>Fuel Consumption City (L/100 km)</th>\n",
              "      <th>Fuel Consumption Hwy (L/100 km)</th>\n",
              "      <th>Fuel Consumption Comb (L/100 km)</th>\n",
              "      <th>Fuel Consumption Comb (mpg)</th>\n",
              "      <th>CO2 Emissions(g/km)</th>\n",
              "    </tr>\n",
              "  </thead>\n",
              "  <tbody>\n",
              "    <tr>\n",
              "      <th>0</th>\n",
              "      <td>ACURA</td>\n",
              "      <td>ILX</td>\n",
              "      <td>COMPACT</td>\n",
              "      <td>2.0</td>\n",
              "      <td>4</td>\n",
              "      <td>AS5</td>\n",
              "      <td>Z</td>\n",
              "      <td>9.9</td>\n",
              "      <td>6.7</td>\n",
              "      <td>8.5</td>\n",
              "      <td>33</td>\n",
              "      <td>196.0</td>\n",
              "    </tr>\n",
              "    <tr>\n",
              "      <th>1</th>\n",
              "      <td>ACURA</td>\n",
              "      <td>ILX</td>\n",
              "      <td>COMPACT</td>\n",
              "      <td>2.4</td>\n",
              "      <td>4</td>\n",
              "      <td>M6</td>\n",
              "      <td>Z</td>\n",
              "      <td>11.2</td>\n",
              "      <td>7.7</td>\n",
              "      <td>9.6</td>\n",
              "      <td>29</td>\n",
              "      <td>221.0</td>\n",
              "    </tr>\n",
              "    <tr>\n",
              "      <th>2</th>\n",
              "      <td>ACURA</td>\n",
              "      <td>ILX HYBRID</td>\n",
              "      <td>COMPACT</td>\n",
              "      <td>1.5</td>\n",
              "      <td>4</td>\n",
              "      <td>AV7</td>\n",
              "      <td>Z</td>\n",
              "      <td>6.0</td>\n",
              "      <td>5.8</td>\n",
              "      <td>5.9</td>\n",
              "      <td>48</td>\n",
              "      <td>136.0</td>\n",
              "    </tr>\n",
              "    <tr>\n",
              "      <th>3</th>\n",
              "      <td>ACURA</td>\n",
              "      <td>MDX 4WD</td>\n",
              "      <td>SUV - SMALL</td>\n",
              "      <td>3.5</td>\n",
              "      <td>6</td>\n",
              "      <td>AS6</td>\n",
              "      <td>Z</td>\n",
              "      <td>12.7</td>\n",
              "      <td>9.1</td>\n",
              "      <td>11.1</td>\n",
              "      <td>25</td>\n",
              "      <td>255.0</td>\n",
              "    </tr>\n",
              "    <tr>\n",
              "      <th>4</th>\n",
              "      <td>ACURA</td>\n",
              "      <td>RDX AWD</td>\n",
              "      <td>SUV - SMALL</td>\n",
              "      <td>3.5</td>\n",
              "      <td>6</td>\n",
              "      <td>AS6</td>\n",
              "      <td>Z</td>\n",
              "      <td>12.1</td>\n",
              "      <td>8.7</td>\n",
              "      <td>10.6</td>\n",
              "      <td>27</td>\n",
              "      <td>244.0</td>\n",
              "    </tr>\n",
              "  </tbody>\n",
              "</table>\n",
              "</div>\n",
              "    <div class=\"colab-df-buttons\">\n",
              "\n",
              "  <div class=\"colab-df-container\">\n",
              "    <button class=\"colab-df-convert\" onclick=\"convertToInteractive('df-288d6204-c18c-49a2-af7a-a573af24ba9d')\"\n",
              "            title=\"Convert this dataframe to an interactive table.\"\n",
              "            style=\"display:none;\">\n",
              "\n",
              "  <svg xmlns=\"http://www.w3.org/2000/svg\" height=\"24px\" viewBox=\"0 -960 960 960\">\n",
              "    <path d=\"M120-120v-720h720v720H120Zm60-500h600v-160H180v160Zm220 220h160v-160H400v160Zm0 220h160v-160H400v160ZM180-400h160v-160H180v160Zm440 0h160v-160H620v160ZM180-180h160v-160H180v160Zm440 0h160v-160H620v160Z\"/>\n",
              "  </svg>\n",
              "    </button>\n",
              "\n",
              "  <style>\n",
              "    .colab-df-container {\n",
              "      display:flex;\n",
              "      gap: 12px;\n",
              "    }\n",
              "\n",
              "    .colab-df-convert {\n",
              "      background-color: #E8F0FE;\n",
              "      border: none;\n",
              "      border-radius: 50%;\n",
              "      cursor: pointer;\n",
              "      display: none;\n",
              "      fill: #1967D2;\n",
              "      height: 32px;\n",
              "      padding: 0 0 0 0;\n",
              "      width: 32px;\n",
              "    }\n",
              "\n",
              "    .colab-df-convert:hover {\n",
              "      background-color: #E2EBFA;\n",
              "      box-shadow: 0px 1px 2px rgba(60, 64, 67, 0.3), 0px 1px 3px 1px rgba(60, 64, 67, 0.15);\n",
              "      fill: #174EA6;\n",
              "    }\n",
              "\n",
              "    .colab-df-buttons div {\n",
              "      margin-bottom: 4px;\n",
              "    }\n",
              "\n",
              "    [theme=dark] .colab-df-convert {\n",
              "      background-color: #3B4455;\n",
              "      fill: #D2E3FC;\n",
              "    }\n",
              "\n",
              "    [theme=dark] .colab-df-convert:hover {\n",
              "      background-color: #434B5C;\n",
              "      box-shadow: 0px 1px 3px 1px rgba(0, 0, 0, 0.15);\n",
              "      filter: drop-shadow(0px 1px 2px rgba(0, 0, 0, 0.3));\n",
              "      fill: #FFFFFF;\n",
              "    }\n",
              "  </style>\n",
              "\n",
              "    <script>\n",
              "      const buttonEl =\n",
              "        document.querySelector('#df-288d6204-c18c-49a2-af7a-a573af24ba9d button.colab-df-convert');\n",
              "      buttonEl.style.display =\n",
              "        google.colab.kernel.accessAllowed ? 'block' : 'none';\n",
              "\n",
              "      async function convertToInteractive(key) {\n",
              "        const element = document.querySelector('#df-288d6204-c18c-49a2-af7a-a573af24ba9d');\n",
              "        const dataTable =\n",
              "          await google.colab.kernel.invokeFunction('convertToInteractive',\n",
              "                                                    [key], {});\n",
              "        if (!dataTable) return;\n",
              "\n",
              "        const docLinkHtml = 'Like what you see? Visit the ' +\n",
              "          '<a target=\"_blank\" href=https://colab.research.google.com/notebooks/data_table.ipynb>data table notebook</a>'\n",
              "          + ' to learn more about interactive tables.';\n",
              "        element.innerHTML = '';\n",
              "        dataTable['output_type'] = 'display_data';\n",
              "        await google.colab.output.renderOutput(dataTable, element);\n",
              "        const docLink = document.createElement('div');\n",
              "        docLink.innerHTML = docLinkHtml;\n",
              "        element.appendChild(docLink);\n",
              "      }\n",
              "    </script>\n",
              "  </div>\n",
              "\n",
              "\n",
              "    <div id=\"df-3e5f8b85-732b-46a2-9f22-2c26e60c9c5d\">\n",
              "      <button class=\"colab-df-quickchart\" onclick=\"quickchart('df-3e5f8b85-732b-46a2-9f22-2c26e60c9c5d')\"\n",
              "                title=\"Suggest charts\"\n",
              "                style=\"display:none;\">\n",
              "\n",
              "<svg xmlns=\"http://www.w3.org/2000/svg\" height=\"24px\"viewBox=\"0 0 24 24\"\n",
              "     width=\"24px\">\n",
              "    <g>\n",
              "        <path d=\"M19 3H5c-1.1 0-2 .9-2 2v14c0 1.1.9 2 2 2h14c1.1 0 2-.9 2-2V5c0-1.1-.9-2-2-2zM9 17H7v-7h2v7zm4 0h-2V7h2v10zm4 0h-2v-4h2v4z\"/>\n",
              "    </g>\n",
              "</svg>\n",
              "      </button>\n",
              "\n",
              "<style>\n",
              "  .colab-df-quickchart {\n",
              "      --bg-color: #E8F0FE;\n",
              "      --fill-color: #1967D2;\n",
              "      --hover-bg-color: #E2EBFA;\n",
              "      --hover-fill-color: #174EA6;\n",
              "      --disabled-fill-color: #AAA;\n",
              "      --disabled-bg-color: #DDD;\n",
              "  }\n",
              "\n",
              "  [theme=dark] .colab-df-quickchart {\n",
              "      --bg-color: #3B4455;\n",
              "      --fill-color: #D2E3FC;\n",
              "      --hover-bg-color: #434B5C;\n",
              "      --hover-fill-color: #FFFFFF;\n",
              "      --disabled-bg-color: #3B4455;\n",
              "      --disabled-fill-color: #666;\n",
              "  }\n",
              "\n",
              "  .colab-df-quickchart {\n",
              "    background-color: var(--bg-color);\n",
              "    border: none;\n",
              "    border-radius: 50%;\n",
              "    cursor: pointer;\n",
              "    display: none;\n",
              "    fill: var(--fill-color);\n",
              "    height: 32px;\n",
              "    padding: 0;\n",
              "    width: 32px;\n",
              "  }\n",
              "\n",
              "  .colab-df-quickchart:hover {\n",
              "    background-color: var(--hover-bg-color);\n",
              "    box-shadow: 0 1px 2px rgba(60, 64, 67, 0.3), 0 1px 3px 1px rgba(60, 64, 67, 0.15);\n",
              "    fill: var(--button-hover-fill-color);\n",
              "  }\n",
              "\n",
              "  .colab-df-quickchart-complete:disabled,\n",
              "  .colab-df-quickchart-complete:disabled:hover {\n",
              "    background-color: var(--disabled-bg-color);\n",
              "    fill: var(--disabled-fill-color);\n",
              "    box-shadow: none;\n",
              "  }\n",
              "\n",
              "  .colab-df-spinner {\n",
              "    border: 2px solid var(--fill-color);\n",
              "    border-color: transparent;\n",
              "    border-bottom-color: var(--fill-color);\n",
              "    animation:\n",
              "      spin 1s steps(1) infinite;\n",
              "  }\n",
              "\n",
              "  @keyframes spin {\n",
              "    0% {\n",
              "      border-color: transparent;\n",
              "      border-bottom-color: var(--fill-color);\n",
              "      border-left-color: var(--fill-color);\n",
              "    }\n",
              "    20% {\n",
              "      border-color: transparent;\n",
              "      border-left-color: var(--fill-color);\n",
              "      border-top-color: var(--fill-color);\n",
              "    }\n",
              "    30% {\n",
              "      border-color: transparent;\n",
              "      border-left-color: var(--fill-color);\n",
              "      border-top-color: var(--fill-color);\n",
              "      border-right-color: var(--fill-color);\n",
              "    }\n",
              "    40% {\n",
              "      border-color: transparent;\n",
              "      border-right-color: var(--fill-color);\n",
              "      border-top-color: var(--fill-color);\n",
              "    }\n",
              "    60% {\n",
              "      border-color: transparent;\n",
              "      border-right-color: var(--fill-color);\n",
              "    }\n",
              "    80% {\n",
              "      border-color: transparent;\n",
              "      border-right-color: var(--fill-color);\n",
              "      border-bottom-color: var(--fill-color);\n",
              "    }\n",
              "    90% {\n",
              "      border-color: transparent;\n",
              "      border-bottom-color: var(--fill-color);\n",
              "    }\n",
              "  }\n",
              "</style>\n",
              "\n",
              "      <script>\n",
              "        async function quickchart(key) {\n",
              "          const quickchartButtonEl =\n",
              "            document.querySelector('#' + key + ' button');\n",
              "          quickchartButtonEl.disabled = true;  // To prevent multiple clicks.\n",
              "          quickchartButtonEl.classList.add('colab-df-spinner');\n",
              "          try {\n",
              "            const charts = await google.colab.kernel.invokeFunction(\n",
              "                'suggestCharts', [key], {});\n",
              "          } catch (error) {\n",
              "            console.error('Error during call to suggestCharts:', error);\n",
              "          }\n",
              "          quickchartButtonEl.classList.remove('colab-df-spinner');\n",
              "          quickchartButtonEl.classList.add('colab-df-quickchart-complete');\n",
              "        }\n",
              "        (() => {\n",
              "          let quickchartButtonEl =\n",
              "            document.querySelector('#df-3e5f8b85-732b-46a2-9f22-2c26e60c9c5d button');\n",
              "          quickchartButtonEl.style.display =\n",
              "            google.colab.kernel.accessAllowed ? 'block' : 'none';\n",
              "        })();\n",
              "      </script>\n",
              "    </div>\n",
              "\n",
              "    </div>\n",
              "  </div>\n"
            ],
            "application/vnd.google.colaboratory.intrinsic+json": {
              "type": "dataframe",
              "variable_name": "data",
              "summary": "{\n  \"name\": \"data\",\n  \"rows\": 7385,\n  \"fields\": [\n    {\n      \"column\": \"Make\",\n      \"properties\": {\n        \"dtype\": \"category\",\n        \"num_unique_values\": 42,\n        \"samples\": [\n          \"MAZDA\",\n          \"GMC\",\n          \"CHEVROLET\"\n        ],\n        \"semantic_type\": \"\",\n        \"description\": \"\"\n      }\n    },\n    {\n      \"column\": \"Model\",\n      \"properties\": {\n        \"dtype\": \"category\",\n        \"num_unique_values\": 2048,\n        \"samples\": [\n          \"Suburban FFV\",\n          \"335i xDRIVE SEDAN\",\n          \"X6 xDRIVE50i\"\n        ],\n        \"semantic_type\": \"\",\n        \"description\": \"\"\n      }\n    },\n    {\n      \"column\": \"Vehicle Class\",\n      \"properties\": {\n        \"dtype\": \"category\",\n        \"num_unique_values\": 16,\n        \"samples\": [\n          \"COMPACT\",\n          \"SUV - SMALL\",\n          \"SUBCOMPACT\"\n        ],\n        \"semantic_type\": \"\",\n        \"description\": \"\"\n      }\n    },\n    {\n      \"column\": \"Engine Size(L)\",\n      \"properties\": {\n        \"dtype\": \"number\",\n        \"std\": 1.3542294815739673,\n        \"min\": 0.9,\n        \"max\": 8.4,\n        \"num_unique_values\": 51,\n        \"samples\": [\n          1.3,\n          2.7,\n          2.8\n        ],\n        \"semantic_type\": \"\",\n        \"description\": \"\"\n      }\n    },\n    {\n      \"column\": \"Cylinders\",\n      \"properties\": {\n        \"dtype\": \"number\",\n        \"std\": 1,\n        \"min\": 3,\n        \"max\": 16,\n        \"num_unique_values\": 8,\n        \"samples\": [\n          6,\n          3,\n          4\n        ],\n        \"semantic_type\": \"\",\n        \"description\": \"\"\n      }\n    },\n    {\n      \"column\": \"Transmission\",\n      \"properties\": {\n        \"dtype\": \"category\",\n        \"num_unique_values\": 27,\n        \"samples\": [\n          \"AS8\",\n          \"M5\",\n          \"A7\"\n        ],\n        \"semantic_type\": \"\",\n        \"description\": \"\"\n      }\n    },\n    {\n      \"column\": \"Fuel Type\",\n      \"properties\": {\n        \"dtype\": \"category\",\n        \"num_unique_values\": 5,\n        \"samples\": [\n          \"D\",\n          \"N\",\n          \"X\"\n        ],\n        \"semantic_type\": \"\",\n        \"description\": \"\"\n      }\n    },\n    {\n      \"column\": \"Fuel Consumption City (L/100 km)\",\n      \"properties\": {\n        \"dtype\": \"number\",\n        \"std\": 3.5002740810877904,\n        \"min\": 4.2,\n        \"max\": 30.6,\n        \"num_unique_values\": 211,\n        \"samples\": [\n          21.1,\n          22.2,\n          6.5\n        ],\n        \"semantic_type\": \"\",\n        \"description\": \"\"\n      }\n    },\n    {\n      \"column\": \"Fuel Consumption Hwy (L/100 km)\",\n      \"properties\": {\n        \"dtype\": \"number\",\n        \"std\": 2.2244563806418824,\n        \"min\": 4.0,\n        \"max\": 20.6,\n        \"num_unique_values\": 143,\n        \"samples\": [\n          5.2,\n          6.5,\n          13.3\n        ],\n        \"semantic_type\": \"\",\n        \"description\": \"\"\n      }\n    },\n    {\n      \"column\": \"Fuel Consumption Comb (L/100 km)\",\n      \"properties\": {\n        \"dtype\": \"number\",\n        \"std\": 2.892506302898463,\n        \"min\": 4.1,\n        \"max\": 26.1,\n        \"num_unique_values\": 181,\n        \"samples\": [\n          8.1,\n          16.5,\n          17.6\n        ],\n        \"semantic_type\": \"\",\n        \"description\": \"\"\n      }\n    },\n    {\n      \"column\": \"Fuel Consumption Comb (mpg)\",\n      \"properties\": {\n        \"dtype\": \"number\",\n        \"std\": 7,\n        \"min\": 11,\n        \"max\": 69,\n        \"num_unique_values\": 54,\n        \"samples\": [\n          20,\n          64,\n          63\n        ],\n        \"semantic_type\": \"\",\n        \"description\": \"\"\n      }\n    },\n    {\n      \"column\": \"CO2 Emissions(g/km)\",\n      \"properties\": {\n        \"dtype\": \"number\",\n        \"std\": 58.51261868972314,\n        \"min\": 96.0,\n        \"max\": 522.0,\n        \"num_unique_values\": 331,\n        \"samples\": [\n          304.0,\n          405.0,\n          377.0\n        ],\n        \"semantic_type\": \"\",\n        \"description\": \"\"\n      }\n    }\n  ]\n}"
            }
          },
          "metadata": {},
          "execution_count": 1
        }
      ],
      "id": "EfDhn0frmmPM"
    },
    {
      "cell_type": "markdown",
      "id": "6967b396",
      "metadata": {
        "id": "6967b396"
      },
      "source": [
        "**Q. 1 Determine the total number of vehicles for each `fuel type` available in the dataset.**"
      ]
    },
    {
      "cell_type": "code",
      "source": [
        "# write your code here\n",
        "fuel_type_count = data['Fuel Type'].value_counts()\n",
        "fuel_type_count.name='count'\n",
        "fuel_type_count.index.name = 'Fuel Type'\n",
        "print(fuel_type_count)"
      ],
      "metadata": {
        "id": "ncp6D8V7mm3h",
        "colab": {
          "base_uri": "https://localhost:8080/"
        },
        "outputId": "0d001e6d-142d-409c-c3e2-188ba5cfd327"
      },
      "execution_count": 2,
      "outputs": [
        {
          "output_type": "stream",
          "name": "stdout",
          "text": [
            "Fuel Type\n",
            "X    3637\n",
            "Z    3202\n",
            "E     370\n",
            "D     175\n",
            "N       1\n",
            "Name: count, dtype: int64\n"
          ]
        }
      ],
      "id": "ncp6D8V7mm3h"
    },
    {
      "cell_type": "markdown",
      "id": "21b415b6",
      "metadata": {
        "id": "21b415b6"
      },
      "source": [
        "**Q. 2 Find the proportion of vehicles with CO2 emissions greater than 250 g/km. Output should be in the given format of 2 decimals :- Proportion of high CO2 emission vehicles: ___**"
      ]
    },
    {
      "cell_type": "code",
      "source": [
        "# write your code here\n",
        "# write your code here\n",
        "total_vehicles =data['CO2 Emissions(g/km)'] > 250\n",
        "\n",
        "proportion = total_vehicles.mean()\n",
        "print(\"Proportion of high CO2 emission vehicles:\", round(proportion,2))"
      ],
      "metadata": {
        "id": "cf7htU_9mnXn",
        "colab": {
          "base_uri": "https://localhost:8080/"
        },
        "outputId": "871c6a15-3035-4190-842e-9fdb55ab7f2e"
      },
      "execution_count": 3,
      "outputs": [
        {
          "output_type": "stream",
          "name": "stdout",
          "text": [
            "Proportion of high CO2 emission vehicles: 0.47\n"
          ]
        }
      ],
      "id": "cf7htU_9mnXn"
    },
    {
      "cell_type": "markdown",
      "id": "9cd91741",
      "metadata": {
        "id": "9cd91741"
      },
      "source": [
        "**Q. 3 Identify which car manufacturers have above-average fuel consumption compared to all manufacturers.**"
      ]
    },
    {
      "cell_type": "code",
      "source": [
        "# write your code here\n",
        "#Calculate the mean of \"Fuel Consumption Comb (L/100 km)\" across all rows in the DataFrame\n",
        "avg_consumption =data['Fuel Consumption Comb (L/100 km)'].mean()\n",
        "\n",
        "# Filter the DataFrame to only those rows where fuel consumption is greater than the average\n",
        "# and then extract the unique vehicle makes that meet this criterion\n",
        "above_avg_fuel_comsumption =data[data['Fuel Consumption Comb (L/100 km)']> avg_consumption]\n",
        "print(above_avg_fuel_comsumption['Make'].unique())"
      ],
      "metadata": {
        "id": "pawZEby0mnu7",
        "colab": {
          "base_uri": "https://localhost:8080/"
        },
        "outputId": "fec9b57f-a2ee-4f69-c077-417039b31504"
      },
      "execution_count": 4,
      "outputs": [
        {
          "output_type": "stream",
          "name": "stdout",
          "text": [
            "['ACURA' 'ASTON MARTIN' 'AUDI' 'BENTLEY' 'BMW' 'BUICK' 'CADILLAC'\n",
            " 'CHEVROLET' 'CHRYSLER' 'DODGE' 'FORD' 'GMC' 'HONDA' 'HYUNDAI' 'INFINITI'\n",
            " 'JAGUAR' 'JEEP' 'KIA' 'LAMBORGHINI' 'LAND ROVER' 'LEXUS' 'LINCOLN'\n",
            " 'MASERATI' 'MAZDA' 'MERCEDES-BENZ' 'MITSUBISHI' 'NISSAN' 'PORSCHE' 'RAM'\n",
            " 'ROLLS-ROYCE' 'SRT' 'SUBARU' 'TOYOTA' 'VOLKSWAGEN' 'VOLVO' 'ALFA ROMEO'\n",
            " 'GENESIS' 'BUGATTI']\n"
          ]
        }
      ],
      "id": "pawZEby0mnu7"
    },
    {
      "cell_type": "markdown",
      "id": "23562998",
      "metadata": {
        "id": "23562998"
      },
      "source": [
        "---\n",
        "**Q. 4 What is the most common combination of vehicle class and transmission type along with its average fuel consumption?** In the given format ( The most common combination is ______ with an average fuel consumption of __ )"
      ]
    },
    {
      "cell_type": "code",
      "source": [
        "# Get the most common vehicle class and transmission type combination\n",
        "most_common_combination =data.groupby(['Vehicle Class', 'Transmission'])['Fuel Consumption Comb (L/100 km)'].mean().idxmax()\n",
        "fuel_consumption_value = data.groupby(['Vehicle Class', 'Transmission'])['Fuel Consumption Comb (L/100 km)'].mean().max()\n",
        "print(\"The most common combination is\", most_common_combination, \"with an average fuel consumption of\", fuel_consumption_value)"
      ],
      "metadata": {
        "id": "mp-91yp3moVx",
        "colab": {
          "base_uri": "https://localhost:8080/"
        },
        "outputId": "cf0275f7-686d-47d9-b5b2-9c695457f2c9"
      },
      "execution_count": 5,
      "outputs": [
        {
          "output_type": "stream",
          "name": "stdout",
          "text": [
            "The most common combination is ('VAN - PASSENGER', 'A5') with an average fuel consumption of 21.2\n"
          ]
        }
      ],
      "id": "mp-91yp3moVx"
    },
    {
      "cell_type": "markdown",
      "id": "dd65ca47",
      "metadata": {
        "id": "dd65ca47"
      },
      "source": [
        "**Q. 5 Determine which combination of engine size and fuel type results in the highest average CO2 emissions.**"
      ]
    },
    {
      "cell_type": "code",
      "source": [
        "# Group the data by 'Engine size' and 'Fuel Type', then calculate the mean of 'CO2 Emissions(g/km)' for each group.\n",
        "# Sort the resulting mean values in descending order to show which combinations of engine size and fuel types have the highest average CO2 emissions.\n",
        "\n",
        "highest_avg_co2 =data.groupby(['Engine Size(L)', 'Fuel Type'])['CO2 Emissions(g/km)'].mean()\n",
        "print(highest_avg_co2.sort_values(ascending=False).head(1))"
      ],
      "metadata": {
        "id": "cLIoVHF_mpF4",
        "colab": {
          "base_uri": "https://localhost:8080/"
        },
        "outputId": "12407fcd-0882-4cf4-dc44-ffbcdbc3eddd"
      },
      "execution_count": 6,
      "outputs": [
        {
          "output_type": "stream",
          "name": "stdout",
          "text": [
            "Engine Size(L)  Fuel Type\n",
            "8.0             Z            522.0\n",
            "Name: CO2 Emissions(g/km), dtype: float64\n"
          ]
        }
      ],
      "id": "cLIoVHF_mpF4"
    },
    {
      "cell_type": "markdown",
      "id": "e995eae2",
      "metadata": {
        "id": "e995eae2"
      },
      "source": [
        "---\n",
        "**Q. 6 What is the range of fuel consumption (L/100 km) for vehicles in the \"MID-SIZE\" class?**"
      ]
    },
    {
      "cell_type": "code",
      "source": [
        "# write your code here\n",
        "# Extract only the CO2 emissions from rows where the 'Vehicle Class' is 'MID-SIZE'\n",
        "mid_size_filtered_data =data[data['Vehicle Class']=='MID-SIZE']['Fuel Consumption Comb (L/100 km)']\n",
        "\n",
        "# Calculate the range of CO2 emissions by subtracting the minimum value from the maximum value\n",
        "co2_range =mid_size_filtered_data.max()-mid_size_filtered_data.min()\n",
        "print(co2_range)"
      ],
      "metadata": {
        "id": "9CgLbY_Lmpgg",
        "colab": {
          "base_uri": "https://localhost:8080/"
        },
        "outputId": "5006499b-fe4a-4db8-df07-a8047109fe28"
      },
      "execution_count": 7,
      "outputs": [
        {
          "output_type": "stream",
          "name": "stdout",
          "text": [
            "15.6\n"
          ]
        }
      ],
      "id": "9CgLbY_Lmpgg"
    },
    {
      "cell_type": "markdown",
      "id": "6bc7c977",
      "metadata": {
        "id": "6bc7c977"
      },
      "source": [
        "**Q. 7 Find the value between (maximum - minimum) of CO2 emissions vehicle class compact in the dataset.**"
      ]
    },
    {
      "cell_type": "code",
      "source": [
        "# write your code here\n",
        "# Extract only the CO2 emissions from rows where the 'Vehicle Class' is 'MID-SIZE'\n",
        "mid_size =data[data['Vehicle Class']=='MID-SIZE']['CO2 Emissions(g/km)']\n",
        "\n",
        "# Calculate the range of CO2 emissions by subtracting the minimum value from the maximum value\n",
        "co2_range =mid_size.max()-mid_size.min()\n",
        "print(co2_range)"
      ],
      "metadata": {
        "id": "WLmghCKnmp5Q",
        "colab": {
          "base_uri": "https://localhost:8080/"
        },
        "outputId": "21bc00b1-2f6e-4e55-8276-cd397d6bcddf"
      },
      "execution_count": 8,
      "outputs": [
        {
          "output_type": "stream",
          "name": "stdout",
          "text": [
            "361.0\n"
          ]
        }
      ],
      "id": "WLmghCKnmp5Q"
    },
    {
      "cell_type": "markdown",
      "id": "237a23df",
      "metadata": {
        "id": "237a23df"
      },
      "source": [
        "**Q. 8 Analyze whether there is a correlation between fuel consumption (combined) and CO2 emissions.**"
      ]
    },
    {
      "cell_type": "code",
      "source": [
        "# write your code here and find the correlation coefficient between the two columns.\n",
        "correlation = data['Fuel Consumption Comb (L/100 km)'].corr(data['CO2 Emissions(g/km)'])\n",
        "print(correlation)"
      ],
      "metadata": {
        "id": "lLH9ZC_OmqUc",
        "colab": {
          "base_uri": "https://localhost:8080/"
        },
        "outputId": "c47ae52a-b489-4937-ba55-dd9cc44cea94"
      },
      "execution_count": 9,
      "outputs": [
        {
          "output_type": "stream",
          "name": "stdout",
          "text": [
            "0.9180169584984268\n"
          ]
        }
      ],
      "id": "lLH9ZC_OmqUc"
    },
    {
      "cell_type": "markdown",
      "source": [
        "**Q. 9 Find the top 5 vehicles with the highest fuel consumption in the city (L/100 km).**"
      ],
      "metadata": {
        "id": "WRZZruKPmE8E"
      },
      "id": "WRZZruKPmE8E"
    },
    {
      "cell_type": "code",
      "source": [
        "# Sort by 'Fuel Consumption City (L/100 km)' in descending order and select top 5\n",
        "top_fuel_consumers =data.sort_values('Fuel Consumption City (L/100 km)', ascending=False).head(5)\n",
        "print(top_fuel_consumers[['Make', 'Model', 'Fuel Consumption City (L/100 km)']])"
      ],
      "metadata": {
        "id": "GPn2NUwNmqv4",
        "colab": {
          "base_uri": "https://localhost:8080/"
        },
        "outputId": "6e9e36fe-8623-4926-bc09-cca9beb6f5de"
      },
      "execution_count": 12,
      "outputs": [
        {
          "output_type": "stream",
          "name": "stdout",
          "text": [
            "           Make                       Model  Fuel Consumption City (L/100 km)\n",
            "1534        GMC   SAVANA 3500 PASSENGER FFV                              30.6\n",
            "1329  CHEVROLET  EXPRESS 3500 PASSENGER FFV                              30.6\n",
            "1530        GMC   SAVANA 2500 PASSENGER FFV                              30.3\n",
            "1325  CHEVROLET  EXPRESS 2500 PASSENGER FFV                              30.3\n",
            "228   CHEVROLET      EXPRESS 3500 PASSENGER                              30.2\n"
          ]
        }
      ],
      "id": "GPn2NUwNmqv4"
    },
    {
      "cell_type": "markdown",
      "source": [
        "**Q. 10 Filter all vehicles that have 4 cylinders and CO2 emissions less than 200 g/km.**"
      ],
      "metadata": {
        "id": "BLdLw7-pmLdU"
      },
      "id": "BLdLw7-pmLdU"
    },
    {
      "cell_type": "code",
      "source": [
        "# Filter vehicles with 4 cylinders and CO2 emissions less than 200\n",
        "filtered_vehicles = data[(data['Cylinders']==4) & (data['CO2 Emissions(g/km)']<200)]\n",
        "print(filtered_vehicles[['Make', 'Model', 'Cylinders', 'CO2 Emissions(g/km)']])"
      ],
      "metadata": {
        "id": "ZW2xEWqMmrYR",
        "colab": {
          "base_uri": "https://localhost:8080/"
        },
        "outputId": "7dc72d56-38cc-4a58-d3fc-4ca97073f023"
      },
      "execution_count": 13,
      "outputs": [
        {
          "output_type": "stream",
          "name": "stdout",
          "text": [
            "            Make        Model  Cylinders  CO2 Emissions(g/km)\n",
            "0          ACURA          ILX          4                196.0\n",
            "2          ACURA   ILX HYBRID          4                136.0\n",
            "12    ALFA ROMEO           4C          4                193.0\n",
            "76           BMW         320i          4                193.0\n",
            "79           BMW  328d xDRIVE          4                181.0\n",
            "...          ...          ...        ...                  ...\n",
            "7363  VOLKSWAGEN         Golf          4                177.0\n",
            "7366  VOLKSWAGEN        Jetta          4                162.0\n",
            "7367  VOLKSWAGEN        Jetta          4                163.0\n",
            "7368  VOLKSWAGEN    Jetta GLI          4                196.0\n",
            "7369  VOLKSWAGEN    Jetta GLI          4                198.0\n",
            "\n",
            "[1365 rows x 4 columns]\n"
          ]
        }
      ],
      "id": "ZW2xEWqMmrYR"
    },
    {
      "cell_type": "markdown",
      "source": [
        "**Q. 11 Find the most common fuel type and its frequency. In the given format (The most common fuel type is __ with a frequency of _____)**"
      ],
      "metadata": {
        "id": "p2vfQ1pLmnmZ"
      },
      "id": "p2vfQ1pLmnmZ"
    },
    {
      "cell_type": "code",
      "source": [
        "# Find the most common fuel type and its count\n",
        "most_common_fuel_type =data['Fuel Type'].value_counts().idxmax()\n",
        "fuel_type_count = data['Fuel Type'].value_counts().max()\n",
        "\n",
        "print(\"The most common fuel type is\",most_common_fuel_type,  \"with a frequency of\", fuel_type_count)"
      ],
      "metadata": {
        "id": "vQAmjlM8mr1S",
        "colab": {
          "base_uri": "https://localhost:8080/"
        },
        "outputId": "e0ba1a7f-e6f3-46f6-91e6-e3bf81759190"
      },
      "execution_count": 14,
      "outputs": [
        {
          "output_type": "stream",
          "name": "stdout",
          "text": [
            "The most common fuel type is X with a frequency of 3637\n"
          ]
        }
      ],
      "id": "vQAmjlM8mr1S"
    },
    {
      "cell_type": "markdown",
      "source": [
        "**Q. 12 Replace missing values in the dataset with the column mean for numeric columns.**"
      ],
      "metadata": {
        "id": "WpZQmlcEnXdC"
      },
      "id": "WpZQmlcEnXdC"
    },
    {
      "cell_type": "code",
      "source": [
        "# Fill NaN values with the mean for numeric columns\n",
        "data_filled = data.copy()\n",
        "for col in data.select_dtypes(include=['float64', 'int64']).columns:\n",
        "    data_filled[col] = data_filled[col].fillna(data_filled[col].mean())\n",
        "\n",
        "# Verify no NaN remains\n",
        "print(data_filled.isna().sum())"
      ],
      "metadata": {
        "id": "25972wEUmsQy",
        "colab": {
          "base_uri": "https://localhost:8080/"
        },
        "outputId": "514bac30-f632-494e-8f7e-84369017795a"
      },
      "execution_count": 15,
      "outputs": [
        {
          "output_type": "stream",
          "name": "stdout",
          "text": [
            "Make                                0\n",
            "Model                               0\n",
            "Vehicle Class                       0\n",
            "Engine Size(L)                      0\n",
            "Cylinders                           0\n",
            "Transmission                        0\n",
            "Fuel Type                           0\n",
            "Fuel Consumption City (L/100 km)    0\n",
            "Fuel Consumption Hwy (L/100 km)     0\n",
            "Fuel Consumption Comb (L/100 km)    0\n",
            "Fuel Consumption Comb (mpg)         0\n",
            "CO2 Emissions(g/km)                 0\n",
            "dtype: int64\n"
          ]
        }
      ],
      "id": "25972wEUmsQy"
    },
    {
      "cell_type": "markdown",
      "source": [
        "**Q. 13 Find the make and model of the vehicle with the highest CO2 emissions.**"
      ],
      "metadata": {
        "id": "pFBVJd-bnyzz"
      },
      "id": "pFBVJd-bnyzz"
    },
    {
      "cell_type": "code",
      "source": [
        "# Find the vehicle with the highest CO2 emissions\n",
        "max_emission_vehicle = data.loc[data['CO2 Emissions(g/km)'].idxmax(), ['CO2 Emissions(g/km)']]\n",
        "max_emission_vehicle['CO2 Emissions(g/km)'] = \"{:.1f}\".format(max_emission_vehicle['CO2 Emissions(g/km)'])\n",
        "print(max_emission_vehicle)"
      ],
      "metadata": {
        "colab": {
          "base_uri": "https://localhost:8080/"
        },
        "id": "Rw74o7__mti_",
        "outputId": "a8dfa876-3a49-4c92-ec50-c2e2e931f50d"
      },
      "execution_count": 16,
      "outputs": [
        {
          "output_type": "stream",
          "name": "stdout",
          "text": [
            "CO2 Emissions(g/km)    522.0\n",
            "Name: 4509, dtype: object\n"
          ]
        }
      ],
      "id": "Rw74o7__mti_"
    },
    {
      "cell_type": "markdown",
      "source": [
        "**Q. 14 Filter vehicles with engine size greater than the average engine size and sort them by CO2 emissions (descending).**"
      ],
      "metadata": {
        "id": "d50RexN4oAbS"
      },
      "id": "d50RexN4oAbS"
    },
    {
      "cell_type": "code",
      "source": [
        "# Filter vehicles with engine size greater than the average and sort by CO2 emissions\n",
        "avg_engine_size =data[data['Engine Size(L)']> data['Engine Size(L)'].mean()].sort_values(by='CO2 Emissions(g/km)', ascending=False)\n",
        "print(avg_engine_size[['Make', 'Model', 'Engine Size(L)', 'CO2 Emissions(g/km)']])"
      ],
      "metadata": {
        "id": "v-iQHz-FmuBS",
        "colab": {
          "base_uri": "https://localhost:8080/"
        },
        "outputId": "205a82c2-d719-4dc4-bbd1-f8d580a00371"
      },
      "execution_count": 17,
      "outputs": [
        {
          "output_type": "stream",
          "name": "stdout",
          "text": [
            "              Make               Model  Engine Size(L)  CO2 Emissions(g/km)\n",
            "5575       BUGATTI              Chiron             8.0                522.0\n",
            "4509       BUGATTI              CHIRON             8.0                522.0\n",
            "6640       BUGATTI              Chiron             8.0                522.0\n",
            "6046   LAMBORGHINI  Aventador Roadster             6.5                493.0\n",
            "7059   LAMBORGHINI  Aventador Roadster             6.5                493.0\n",
            "...            ...                 ...             ...                  ...\n",
            "1763         LEXUS             GS 450h             3.5                172.0\n",
            "1633      INFINITI          Q70 HYBRID             3.5                172.0\n",
            "1622      INFINITI          Q50 HYBRID             3.5                172.0\n",
            "528       INFINITI          Q50 HYBRID             3.5                172.0\n",
            "13    ASTON MARTIN                 DB9             5.9                  NaN\n",
            "\n",
            "[3154 rows x 4 columns]\n"
          ]
        }
      ],
      "id": "v-iQHz-FmuBS"
    },
    {
      "cell_type": "markdown",
      "source": [
        " **Q. 15 Which vehicle has the highest fuel efficiency (km/L) based on the given dataset?**"
      ],
      "metadata": {
        "id": "w1t9us03oE2g"
      },
      "id": "w1t9us03oE2g"
    },
    {
      "cell_type": "code",
      "source": [
        "# Find the row with the lowest fuel consumption, which gives the highest fuel efficiency\n",
        "max_fuel_consumption_row = data.loc[data['Fuel Consumption Comb (L/100 km)'].idxmin()]  # Use idxmin() to get the index of the row with the minimum fuel consumption\n",
        "\n",
        "# Calculate fuel efficiency as km/L and format it to 6 decimal places\n",
        "fuel_efficiency = 100 / max_fuel_consumption_row['Fuel Consumption Comb (L/100 km)']\n",
        "formatted_efficiency = \"{:.6f}\".format(fuel_efficiency)\n",
        "\n",
        "# Get the desired columns 'Make' and 'Model' columns from the row and add formatted fuel efficiency value as a new column\n",
        "output = max_fuel_consumption_row[['Make', 'Model']].copy()  #\n",
        "output['Fuel Efficiency (km/L)'] = formatted_efficiency  #\n",
        "\n",
        "# Display the result with vehicle make, model, and fuel efficiency\n",
        "print(output)"
      ],
      "metadata": {
        "colab": {
          "base_uri": "https://localhost:8080/"
        },
        "id": "XQpHwaagmuhL",
        "outputId": "c23bf14e-b1b0-4b65-a65b-88dd1dcb7e62"
      },
      "execution_count": 19,
      "outputs": [
        {
          "output_type": "stream",
          "name": "stdout",
          "text": [
            "Make                         HYUNDAI\n",
            "Model                     IONIQ BLUE\n",
            "Fuel Efficiency (km/L)     24.390244\n",
            "Name: 3824, dtype: object\n"
          ]
        }
      ],
      "id": "XQpHwaagmuhL"
    },
    {
      "cell_type": "markdown",
      "source": [
        "# End!"
      ],
      "metadata": {
        "id": "dmxy0uQiQo9D"
      },
      "id": "dmxy0uQiQo9D"
    }
  ],
  "metadata": {
    "kernelspec": {
      "display_name": "Python 3 (ipykernel)",
      "language": "python",
      "name": "python3"
    },
    "language_info": {
      "codemirror_mode": {
        "name": "ipython",
        "version": 3
      },
      "file_extension": ".py",
      "mimetype": "text/x-python",
      "name": "python",
      "nbconvert_exporter": "python",
      "pygments_lexer": "ipython3",
      "version": "3.9.7"
    },
    "colab": {
      "provenance": [],
      "include_colab_link": true
    }
  },
  "nbformat": 4,
  "nbformat_minor": 5
}