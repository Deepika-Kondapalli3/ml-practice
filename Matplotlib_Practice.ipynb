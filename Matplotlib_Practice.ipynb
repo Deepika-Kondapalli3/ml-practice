{
  "nbformat": 4,
  "nbformat_minor": 0,
  "metadata": {
    "colab": {
      "provenance": [],
      "include_colab_link": true
    },
    "kernelspec": {
      "name": "python3",
      "display_name": "Python 3"
    },
    "language_info": {
      "name": "python"
    }
  },
  "cells": [
    {
      "cell_type": "markdown",
      "metadata": {
        "id": "view-in-github",
        "colab_type": "text"
      },
      "source": [
        "<a href=\"https://colab.research.google.com/github/Deepika-Kondapalli3/ml-practice/blob/main/Matplotlib_Practice.ipynb\" target=\"_parent\"><img src=\"https://colab.research.google.com/assets/colab-badge.svg\" alt=\"Open In Colab\"/></a>"
      ]
    },
    {
      "cell_type": "markdown",
      "source": [
        "# Instructions for Matplotlib Assignment\n",
        "\n",
        "Welcome to the Matplotlib practice exercise! In this assignment, you will use the Iris dataset to practice creating various types of plots. Please follow these instructions carefully to complete your assignment:\n",
        "\n",
        "1. **Understand the Dataset**: The dataset used in this assignment is the Iris dataset, which contains measurements of iris flowers from three different species. Familiarize yourself with the dataset’s structure and columns before starting.\n",
        "\n",
        "2. **Read Each Question Carefully**: Each question in this assignment is designed to test different Matplotlib functionalities. Make sure to understand what is being asked before you start coding.\n",
        "\n",
        "3. **Write Your Code in the Provided Cells**: For each question, a code cell is provided where you should write your solution. Do not modify any other parts of the notebook.\n",
        "\n",
        "4. **Run Your Code**: After writing your code, run each cell to ensure that your solution works as expected. Verify that the plots match the requirements specified in the question.\n",
        "\n",
        "5. **Debug if Necessary**: If your plots do not appear as expected, review your code and make any necessary corrections. You may use additional code cells for debugging, but make sure to remove or comment out these extra cells before submission.\n",
        "\n",
        "6. **Complete All Questions**: Ensure that you address all the questions provided. Each question tests a different aspect of Matplotlib, so be sure to complete each one.\n",
        "\n",
        "7. **Review Your Work**: Before submitting, double-check that all plots are correctly labeled and that the code runs without errors. Ensure that each plot is displayed as required.\n",
        "\n",
        "8. **Download Your Notebook**: Once you have completed all the questions and verified that your solutions are correct, download your notebook file (.ipynb). You can do this by selecting `File` > `Download` > `Download .ipynb` from the Google Colab menu.\n",
        "\n",
        "9. **Submit Your Assignment**: Upload the downloaded .ipynb file to the designated learning platform for submission.\n",
        "\n",
        "10. **Verify Submission**: Ensure that you have uploaded the correct file and that it is not corrupted. If there are any issues with the file, you may need to resubmit.\n",
        "\n",
        "---\n",
        "\n",
        "Good luck with the assignment!"
      ],
      "metadata": {
        "id": "dX_hjGYzhW4s"
      }
    },
    {
      "cell_type": "markdown",
      "source": [
        "### Initial Setup\n",
        "Execute the below code cell for initial setup"
      ],
      "metadata": {
        "id": "W_BfSl6wgyEg"
      }
    },
    {
      "cell_type": "code",
      "source": [
        "# Import necessary libraries\n",
        "import seaborn as sns\n",
        "import pandas as pd\n",
        "\n",
        "# Load the Iris dataset using seaborn\n",
        "data = sns.load_dataset('iris')\n",
        "\n",
        "# Display the first few rows of the dataset\n",
        "data.head()"
      ],
      "metadata": {
        "id": "TYz09RxZ2OIr",
        "outputId": "8224fab2-2a0a-4d38-963c-27fe1f87be0d",
        "colab": {
          "base_uri": "https://localhost:8080/",
          "height": 206
        }
      },
      "execution_count": 52,
      "outputs": [
        {
          "output_type": "execute_result",
          "data": {
            "text/plain": [
              "   sepal_length  sepal_width  petal_length  petal_width species\n",
              "0           5.1          3.5           1.4          0.2  setosa\n",
              "1           4.9          3.0           1.4          0.2  setosa\n",
              "2           4.7          3.2           1.3          0.2  setosa\n",
              "3           4.6          3.1           1.5          0.2  setosa\n",
              "4           5.0          3.6           1.4          0.2  setosa"
            ],
            "text/html": [
              "\n",
              "  <div id=\"df-72f45553-7021-4ccd-a00c-8ea085f42afe\" class=\"colab-df-container\">\n",
              "    <div>\n",
              "<style scoped>\n",
              "    .dataframe tbody tr th:only-of-type {\n",
              "        vertical-align: middle;\n",
              "    }\n",
              "\n",
              "    .dataframe tbody tr th {\n",
              "        vertical-align: top;\n",
              "    }\n",
              "\n",
              "    .dataframe thead th {\n",
              "        text-align: right;\n",
              "    }\n",
              "</style>\n",
              "<table border=\"1\" class=\"dataframe\">\n",
              "  <thead>\n",
              "    <tr style=\"text-align: right;\">\n",
              "      <th></th>\n",
              "      <th>sepal_length</th>\n",
              "      <th>sepal_width</th>\n",
              "      <th>petal_length</th>\n",
              "      <th>petal_width</th>\n",
              "      <th>species</th>\n",
              "    </tr>\n",
              "  </thead>\n",
              "  <tbody>\n",
              "    <tr>\n",
              "      <th>0</th>\n",
              "      <td>5.1</td>\n",
              "      <td>3.5</td>\n",
              "      <td>1.4</td>\n",
              "      <td>0.2</td>\n",
              "      <td>setosa</td>\n",
              "    </tr>\n",
              "    <tr>\n",
              "      <th>1</th>\n",
              "      <td>4.9</td>\n",
              "      <td>3.0</td>\n",
              "      <td>1.4</td>\n",
              "      <td>0.2</td>\n",
              "      <td>setosa</td>\n",
              "    </tr>\n",
              "    <tr>\n",
              "      <th>2</th>\n",
              "      <td>4.7</td>\n",
              "      <td>3.2</td>\n",
              "      <td>1.3</td>\n",
              "      <td>0.2</td>\n",
              "      <td>setosa</td>\n",
              "    </tr>\n",
              "    <tr>\n",
              "      <th>3</th>\n",
              "      <td>4.6</td>\n",
              "      <td>3.1</td>\n",
              "      <td>1.5</td>\n",
              "      <td>0.2</td>\n",
              "      <td>setosa</td>\n",
              "    </tr>\n",
              "    <tr>\n",
              "      <th>4</th>\n",
              "      <td>5.0</td>\n",
              "      <td>3.6</td>\n",
              "      <td>1.4</td>\n",
              "      <td>0.2</td>\n",
              "      <td>setosa</td>\n",
              "    </tr>\n",
              "  </tbody>\n",
              "</table>\n",
              "</div>\n",
              "    <div class=\"colab-df-buttons\">\n",
              "\n",
              "  <div class=\"colab-df-container\">\n",
              "    <button class=\"colab-df-convert\" onclick=\"convertToInteractive('df-72f45553-7021-4ccd-a00c-8ea085f42afe')\"\n",
              "            title=\"Convert this dataframe to an interactive table.\"\n",
              "            style=\"display:none;\">\n",
              "\n",
              "  <svg xmlns=\"http://www.w3.org/2000/svg\" height=\"24px\" viewBox=\"0 -960 960 960\">\n",
              "    <path d=\"M120-120v-720h720v720H120Zm60-500h600v-160H180v160Zm220 220h160v-160H400v160Zm0 220h160v-160H400v160ZM180-400h160v-160H180v160Zm440 0h160v-160H620v160ZM180-180h160v-160H180v160Zm440 0h160v-160H620v160Z\"/>\n",
              "  </svg>\n",
              "    </button>\n",
              "\n",
              "  <style>\n",
              "    .colab-df-container {\n",
              "      display:flex;\n",
              "      gap: 12px;\n",
              "    }\n",
              "\n",
              "    .colab-df-convert {\n",
              "      background-color: #E8F0FE;\n",
              "      border: none;\n",
              "      border-radius: 50%;\n",
              "      cursor: pointer;\n",
              "      display: none;\n",
              "      fill: #1967D2;\n",
              "      height: 32px;\n",
              "      padding: 0 0 0 0;\n",
              "      width: 32px;\n",
              "    }\n",
              "\n",
              "    .colab-df-convert:hover {\n",
              "      background-color: #E2EBFA;\n",
              "      box-shadow: 0px 1px 2px rgba(60, 64, 67, 0.3), 0px 1px 3px 1px rgba(60, 64, 67, 0.15);\n",
              "      fill: #174EA6;\n",
              "    }\n",
              "\n",
              "    .colab-df-buttons div {\n",
              "      margin-bottom: 4px;\n",
              "    }\n",
              "\n",
              "    [theme=dark] .colab-df-convert {\n",
              "      background-color: #3B4455;\n",
              "      fill: #D2E3FC;\n",
              "    }\n",
              "\n",
              "    [theme=dark] .colab-df-convert:hover {\n",
              "      background-color: #434B5C;\n",
              "      box-shadow: 0px 1px 3px 1px rgba(0, 0, 0, 0.15);\n",
              "      filter: drop-shadow(0px 1px 2px rgba(0, 0, 0, 0.3));\n",
              "      fill: #FFFFFF;\n",
              "    }\n",
              "  </style>\n",
              "\n",
              "    <script>\n",
              "      const buttonEl =\n",
              "        document.querySelector('#df-72f45553-7021-4ccd-a00c-8ea085f42afe button.colab-df-convert');\n",
              "      buttonEl.style.display =\n",
              "        google.colab.kernel.accessAllowed ? 'block' : 'none';\n",
              "\n",
              "      async function convertToInteractive(key) {\n",
              "        const element = document.querySelector('#df-72f45553-7021-4ccd-a00c-8ea085f42afe');\n",
              "        const dataTable =\n",
              "          await google.colab.kernel.invokeFunction('convertToInteractive',\n",
              "                                                    [key], {});\n",
              "        if (!dataTable) return;\n",
              "\n",
              "        const docLinkHtml = 'Like what you see? Visit the ' +\n",
              "          '<a target=\"_blank\" href=https://colab.research.google.com/notebooks/data_table.ipynb>data table notebook</a>'\n",
              "          + ' to learn more about interactive tables.';\n",
              "        element.innerHTML = '';\n",
              "        dataTable['output_type'] = 'display_data';\n",
              "        await google.colab.output.renderOutput(dataTable, element);\n",
              "        const docLink = document.createElement('div');\n",
              "        docLink.innerHTML = docLinkHtml;\n",
              "        element.appendChild(docLink);\n",
              "      }\n",
              "    </script>\n",
              "  </div>\n",
              "\n",
              "\n",
              "    <div id=\"df-4fce68de-a372-4998-a31a-10867728a707\">\n",
              "      <button class=\"colab-df-quickchart\" onclick=\"quickchart('df-4fce68de-a372-4998-a31a-10867728a707')\"\n",
              "                title=\"Suggest charts\"\n",
              "                style=\"display:none;\">\n",
              "\n",
              "<svg xmlns=\"http://www.w3.org/2000/svg\" height=\"24px\"viewBox=\"0 0 24 24\"\n",
              "     width=\"24px\">\n",
              "    <g>\n",
              "        <path d=\"M19 3H5c-1.1 0-2 .9-2 2v14c0 1.1.9 2 2 2h14c1.1 0 2-.9 2-2V5c0-1.1-.9-2-2-2zM9 17H7v-7h2v7zm4 0h-2V7h2v10zm4 0h-2v-4h2v4z\"/>\n",
              "    </g>\n",
              "</svg>\n",
              "      </button>\n",
              "\n",
              "<style>\n",
              "  .colab-df-quickchart {\n",
              "      --bg-color: #E8F0FE;\n",
              "      --fill-color: #1967D2;\n",
              "      --hover-bg-color: #E2EBFA;\n",
              "      --hover-fill-color: #174EA6;\n",
              "      --disabled-fill-color: #AAA;\n",
              "      --disabled-bg-color: #DDD;\n",
              "  }\n",
              "\n",
              "  [theme=dark] .colab-df-quickchart {\n",
              "      --bg-color: #3B4455;\n",
              "      --fill-color: #D2E3FC;\n",
              "      --hover-bg-color: #434B5C;\n",
              "      --hover-fill-color: #FFFFFF;\n",
              "      --disabled-bg-color: #3B4455;\n",
              "      --disabled-fill-color: #666;\n",
              "  }\n",
              "\n",
              "  .colab-df-quickchart {\n",
              "    background-color: var(--bg-color);\n",
              "    border: none;\n",
              "    border-radius: 50%;\n",
              "    cursor: pointer;\n",
              "    display: none;\n",
              "    fill: var(--fill-color);\n",
              "    height: 32px;\n",
              "    padding: 0;\n",
              "    width: 32px;\n",
              "  }\n",
              "\n",
              "  .colab-df-quickchart:hover {\n",
              "    background-color: var(--hover-bg-color);\n",
              "    box-shadow: 0 1px 2px rgba(60, 64, 67, 0.3), 0 1px 3px 1px rgba(60, 64, 67, 0.15);\n",
              "    fill: var(--button-hover-fill-color);\n",
              "  }\n",
              "\n",
              "  .colab-df-quickchart-complete:disabled,\n",
              "  .colab-df-quickchart-complete:disabled:hover {\n",
              "    background-color: var(--disabled-bg-color);\n",
              "    fill: var(--disabled-fill-color);\n",
              "    box-shadow: none;\n",
              "  }\n",
              "\n",
              "  .colab-df-spinner {\n",
              "    border: 2px solid var(--fill-color);\n",
              "    border-color: transparent;\n",
              "    border-bottom-color: var(--fill-color);\n",
              "    animation:\n",
              "      spin 1s steps(1) infinite;\n",
              "  }\n",
              "\n",
              "  @keyframes spin {\n",
              "    0% {\n",
              "      border-color: transparent;\n",
              "      border-bottom-color: var(--fill-color);\n",
              "      border-left-color: var(--fill-color);\n",
              "    }\n",
              "    20% {\n",
              "      border-color: transparent;\n",
              "      border-left-color: var(--fill-color);\n",
              "      border-top-color: var(--fill-color);\n",
              "    }\n",
              "    30% {\n",
              "      border-color: transparent;\n",
              "      border-left-color: var(--fill-color);\n",
              "      border-top-color: var(--fill-color);\n",
              "      border-right-color: var(--fill-color);\n",
              "    }\n",
              "    40% {\n",
              "      border-color: transparent;\n",
              "      border-right-color: var(--fill-color);\n",
              "      border-top-color: var(--fill-color);\n",
              "    }\n",
              "    60% {\n",
              "      border-color: transparent;\n",
              "      border-right-color: var(--fill-color);\n",
              "    }\n",
              "    80% {\n",
              "      border-color: transparent;\n",
              "      border-right-color: var(--fill-color);\n",
              "      border-bottom-color: var(--fill-color);\n",
              "    }\n",
              "    90% {\n",
              "      border-color: transparent;\n",
              "      border-bottom-color: var(--fill-color);\n",
              "    }\n",
              "  }\n",
              "</style>\n",
              "\n",
              "      <script>\n",
              "        async function quickchart(key) {\n",
              "          const quickchartButtonEl =\n",
              "            document.querySelector('#' + key + ' button');\n",
              "          quickchartButtonEl.disabled = true;  // To prevent multiple clicks.\n",
              "          quickchartButtonEl.classList.add('colab-df-spinner');\n",
              "          try {\n",
              "            const charts = await google.colab.kernel.invokeFunction(\n",
              "                'suggestCharts', [key], {});\n",
              "          } catch (error) {\n",
              "            console.error('Error during call to suggestCharts:', error);\n",
              "          }\n",
              "          quickchartButtonEl.classList.remove('colab-df-spinner');\n",
              "          quickchartButtonEl.classList.add('colab-df-quickchart-complete');\n",
              "        }\n",
              "        (() => {\n",
              "          let quickchartButtonEl =\n",
              "            document.querySelector('#df-4fce68de-a372-4998-a31a-10867728a707 button');\n",
              "          quickchartButtonEl.style.display =\n",
              "            google.colab.kernel.accessAllowed ? 'block' : 'none';\n",
              "        })();\n",
              "      </script>\n",
              "    </div>\n",
              "\n",
              "    </div>\n",
              "  </div>\n"
            ],
            "application/vnd.google.colaboratory.intrinsic+json": {
              "type": "dataframe",
              "variable_name": "data",
              "summary": "{\n  \"name\": \"data\",\n  \"rows\": 150,\n  \"fields\": [\n    {\n      \"column\": \"sepal_length\",\n      \"properties\": {\n        \"dtype\": \"number\",\n        \"std\": 0.8280661279778629,\n        \"min\": 4.3,\n        \"max\": 7.9,\n        \"num_unique_values\": 35,\n        \"samples\": [\n          6.2,\n          4.5,\n          5.6\n        ],\n        \"semantic_type\": \"\",\n        \"description\": \"\"\n      }\n    },\n    {\n      \"column\": \"sepal_width\",\n      \"properties\": {\n        \"dtype\": \"number\",\n        \"std\": 0.435866284936698,\n        \"min\": 2.0,\n        \"max\": 4.4,\n        \"num_unique_values\": 23,\n        \"samples\": [\n          2.3,\n          4.0,\n          3.5\n        ],\n        \"semantic_type\": \"\",\n        \"description\": \"\"\n      }\n    },\n    {\n      \"column\": \"petal_length\",\n      \"properties\": {\n        \"dtype\": \"number\",\n        \"std\": 1.7652982332594667,\n        \"min\": 1.0,\n        \"max\": 6.9,\n        \"num_unique_values\": 43,\n        \"samples\": [\n          6.7,\n          3.8,\n          3.7\n        ],\n        \"semantic_type\": \"\",\n        \"description\": \"\"\n      }\n    },\n    {\n      \"column\": \"petal_width\",\n      \"properties\": {\n        \"dtype\": \"number\",\n        \"std\": 0.7622376689603465,\n        \"min\": 0.1,\n        \"max\": 2.5,\n        \"num_unique_values\": 22,\n        \"samples\": [\n          0.2,\n          1.2,\n          1.3\n        ],\n        \"semantic_type\": \"\",\n        \"description\": \"\"\n      }\n    },\n    {\n      \"column\": \"species\",\n      \"properties\": {\n        \"dtype\": \"category\",\n        \"num_unique_values\": 3,\n        \"samples\": [\n          \"setosa\",\n          \"versicolor\",\n          \"virginica\"\n        ],\n        \"semantic_type\": \"\",\n        \"description\": \"\"\n      }\n    }\n  ]\n}"
            }
          },
          "metadata": {},
          "execution_count": 52
        }
      ]
    },
    {
      "cell_type": "markdown",
      "source": [
        "Q1. What are the minimum and maximum values of petal_width for each species?\n"
      ],
      "metadata": {
        "id": "6rlD9spqYyhQ"
      }
    },
    {
      "cell_type": "code",
      "source": [
        "# Calculate the min and max values of petal_width for each species\n",
        "# Write the code here\n",
        "petal_width_min_max =data.groupby('species')['petal_width'].agg(['min','max'])\n",
        "print(petal_width_min_max)"
      ],
      "metadata": {
        "id": "M3mvWTpCYy2R",
        "colab": {
          "base_uri": "https://localhost:8080/"
        },
        "outputId": "54690f73-be42-4455-8a93-825259968345"
      },
      "execution_count": 53,
      "outputs": [
        {
          "output_type": "stream",
          "name": "stdout",
          "text": [
            "            min  max\n",
            "species             \n",
            "setosa      0.1  0.6\n",
            "versicolor  1.0  1.8\n",
            "virginica   1.4  2.5\n"
          ]
        }
      ]
    },
    {
      "cell_type": "markdown",
      "source": [
        "Q2. For each species, calculate the range (maximum - minimum) of the sepal_width"
      ],
      "metadata": {
        "id": "Htj-IdNzFxWM"
      }
    },
    {
      "cell_type": "code",
      "source": [
        "# Calculate the range of sepal_width for each species\n",
        "# Write the code here\n",
        "sepal_width_range =data.groupby('species')['petal_width'].agg(['min','max'])\n",
        "sepal_width_range['range']=sepal_width_range['max']- sepal_width_range['min']\n",
        "print(sepal_width_range[['range']])"
      ],
      "metadata": {
        "id": "BZDh2JkeEuI-",
        "colab": {
          "base_uri": "https://localhost:8080/"
        },
        "outputId": "6648a679-06f2-4556-d1d0-ae1956724b76"
      },
      "execution_count": 54,
      "outputs": [
        {
          "output_type": "stream",
          "name": "stdout",
          "text": [
            "            range\n",
            "species          \n",
            "setosa        0.5\n",
            "versicolor    0.8\n",
            "virginica     1.1\n"
          ]
        }
      ]
    },
    {
      "cell_type": "markdown",
      "source": [
        "Q3. Calculate the average sepal length for each species"
      ],
      "metadata": {
        "id": "e596tI4iZc5Z"
      }
    },
    {
      "cell_type": "code",
      "source": [
        "# Write the code here\n",
        "avg_sepal_length =data.groupby('species')['sepal_length'].mean()\n",
        "print(avg_sepal_length)"
      ],
      "metadata": {
        "id": "bMJW0d58WSHD",
        "colab": {
          "base_uri": "https://localhost:8080/"
        },
        "outputId": "bdbc4cee-022b-4779-8b77-3a1495278618"
      },
      "execution_count": 55,
      "outputs": [
        {
          "output_type": "stream",
          "name": "stdout",
          "text": [
            "species\n",
            "setosa        5.006\n",
            "versicolor    5.936\n",
            "virginica     6.588\n",
            "Name: sepal_length, dtype: float64\n"
          ]
        }
      ]
    },
    {
      "cell_type": "markdown",
      "source": [
        "Q4. Count the number of samples with sepal length > 5.0 cm"
      ],
      "metadata": {
        "id": "CpMlYKq5Zfy-"
      }
    },
    {
      "cell_type": "code",
      "source": [
        "# Write the code here\n",
        "sepal_length_above_5 = data[data['sepal_length'] > 5.0].shape[0]\n",
        "print(sepal_length_above_5)"
      ],
      "metadata": {
        "id": "BX2KOzvfWcS4",
        "colab": {
          "base_uri": "https://localhost:8080/"
        },
        "outputId": "e70d1621-6e75-4ffa-da4d-2075c40f49f7"
      },
      "execution_count": 56,
      "outputs": [
        {
          "output_type": "stream",
          "name": "stdout",
          "text": [
            "118\n"
          ]
        }
      ]
    },
    {
      "cell_type": "markdown",
      "source": [
        "Q5. Determine how many species have average sepal width > 2.5 cm"
      ],
      "metadata": {
        "id": "Imp0c_SqZgFa"
      }
    },
    {
      "cell_type": "code",
      "source": [
        "# Write the code here\n",
        "avg_sepal_width = data.groupby('species')['sepal_width'].mean()\n",
        "species_above_2cm = avg_sepal_width[avg_sepal_width> 2.5].count()\n",
        "print(species_above_2cm)"
      ],
      "metadata": {
        "id": "4XCeDK7qWgtS",
        "colab": {
          "base_uri": "https://localhost:8080/"
        },
        "outputId": "883e4f61-69c4-4652-e9d0-8f104b514a41"
      },
      "execution_count": 57,
      "outputs": [
        {
          "output_type": "stream",
          "name": "stdout",
          "text": [
            "3\n"
          ]
        }
      ]
    },
    {
      "cell_type": "markdown",
      "source": [
        "Q6. Compute the standard deviation of sepal length for 'virginica', in the format example(0.11223... cm), rounded to 15 decimal points"
      ],
      "metadata": {
        "id": "UXVr5TlSZgmS"
      }
    },
    {
      "cell_type": "code",
      "source": [
        "# Write the code here\n",
        "virginica_sepal_length_std =data[data['species']=='virginica']['sepal_length'].std()\n",
        "print(f\"{virginica_sepal_length_std: .15f} cm\")"
      ],
      "metadata": {
        "id": "F6YqxYKmWnPA",
        "colab": {
          "base_uri": "https://localhost:8080/"
        },
        "outputId": "e774a8dc-0da9-4d60-86b3-11d76c333873"
      },
      "execution_count": 58,
      "outputs": [
        {
          "output_type": "stream",
          "name": "stdout",
          "text": [
            " 0.635879593274432 cm\n"
          ]
        }
      ]
    },
    {
      "cell_type": "markdown",
      "source": [
        "Q7. Calculate the correlation coefficient between sepal_length and petal_length"
      ],
      "metadata": {
        "id": "7W0P6LMfZhkG"
      }
    },
    {
      "cell_type": "code",
      "source": [
        "# Calculate the correlation coefficient\n",
        "# Write the code here\n",
        "correlation = data['sepal_length'].corr(data['petal_length'])\n",
        "print(correlation)"
      ],
      "metadata": {
        "id": "qH8Nljv-XTbs",
        "colab": {
          "base_uri": "https://localhost:8080/"
        },
        "outputId": "66d4a06e-6839-49d9-f362-03b6ea076305"
      },
      "execution_count": 59,
      "outputs": [
        {
          "output_type": "stream",
          "name": "stdout",
          "text": [
            "0.8717537758865831\n"
          ]
        }
      ]
    },
    {
      "cell_type": "markdown",
      "source": [
        "Q8. Calculate the percentage of samples with petal length between 1.5 cm and 4.5 cm"
      ],
      "metadata": {
        "id": "5uYIUm_HZiHY"
      }
    },
    {
      "cell_type": "code",
      "source": [
        "# Write the code here\n",
        "count_in_range = data[(data['petal_length'] >= 1.5) & (data['petal_length']<= 4.5)].shape[0]\n",
        "\n",
        "percentage = (count_in_range/ data.shape[0]) * 100\n",
        "print(percentage)\n"
      ],
      "metadata": {
        "id": "l7yg2UBLW3xv",
        "colab": {
          "base_uri": "https://localhost:8080/"
        },
        "outputId": "e4de2a8a-8ccc-45c4-8fef-78a707a41404"
      },
      "execution_count": 60,
      "outputs": [
        {
          "output_type": "stream",
          "name": "stdout",
          "text": [
            "42.0\n"
          ]
        }
      ]
    },
    {
      "cell_type": "markdown",
      "source": [
        "Q9. Group data by species and calculate the max **petal length** for each species"
      ],
      "metadata": {
        "id": "M_JEdclIiJ2s"
      }
    },
    {
      "cell_type": "code",
      "source": [
        "# Group data by species and calculate the max petal length for each species\n",
        "# Write the code here\n",
        "petal_length_by_species =data.groupby('species')['petal_length'].max()\n",
        "print(petal_length_by_species)"
      ],
      "metadata": {
        "id": "wa_7fH1riO8g",
        "colab": {
          "base_uri": "https://localhost:8080/"
        },
        "outputId": "932dd239-10ec-469a-c204-d444d8060205"
      },
      "execution_count": 61,
      "outputs": [
        {
          "output_type": "stream",
          "name": "stdout",
          "text": [
            "species\n",
            "setosa        1.9\n",
            "versicolor    5.1\n",
            "virginica     6.9\n",
            "Name: petal_length, dtype: float64\n"
          ]
        }
      ]
    },
    {
      "cell_type": "markdown",
      "source": [
        "Q10. What is the interquartile range (IQR) for the **petal_length** of the Iris dataset?"
      ],
      "metadata": {
        "id": "LgxeueYUia6G"
      }
    },
    {
      "cell_type": "code",
      "source": [
        "# Calculate the IQR for petal_length\n",
        "# Write the code here\n",
        "petal_length_q1 =data['petal_length'].quantile(0.25)\n",
        "petal_length_q3 =data['petal_length'].quantile(0.75)\n",
        "petal_length_iqr =petal_length_q3 - petal_length_q1\n",
        "print(petal_length_iqr)"
      ],
      "metadata": {
        "id": "M1NkJ3rvKaeV",
        "colab": {
          "base_uri": "https://localhost:8080/"
        },
        "outputId": "4f0b4fac-cd70-4a7d-e818-eb6cedd407eb"
      },
      "execution_count": 62,
      "outputs": [
        {
          "output_type": "stream",
          "name": "stdout",
          "text": [
            "3.4999999999999996\n"
          ]
        }
      ]
    },
    {
      "cell_type": "markdown",
      "source": [
        "Q11. For each species, calculate the difference between the maximum and minimum values of **sepal_width**. Identify the species with the largest difference.\n",
        "- Print the result as a tuple in the format and no need to round it:\n",
        "Example Output - ('string', numeric value)"
      ],
      "metadata": {
        "id": "cBjIM5DcIWRC"
      }
    },
    {
      "cell_type": "code",
      "source": [
        "# Calculate the difference between the max and min sepal_width for each species\n",
        "sepal_width_diff =data.groupby('species')['sepal_width'].agg(['max', 'min'])\n",
        "sepal_width_diff['diff'] = sepal_width_diff['max'] - sepal_width_diff['min']\n",
        "# Identify the species with the largest difference\n",
        "largest_diff_species =sepal_width_diff['diff'].idxmax()\n",
        "largest_diff_species, sepal_width_diff.loc[largest_diff_species, 'diff']\n",
        "\n",
        "print((largest_diff_species, sepal_width_diff.loc[largest_diff_species, 'diff']))"
      ],
      "metadata": {
        "id": "dVzFRMMjIVoU",
        "colab": {
          "base_uri": "https://localhost:8080/"
        },
        "outputId": "a4c7fc92-329f-4b79-90d7-3d8b95434683"
      },
      "execution_count": 63,
      "outputs": [
        {
          "output_type": "stream",
          "name": "stdout",
          "text": [
            "('setosa', np.float64(2.1000000000000005))\n"
          ]
        }
      ]
    },
    {
      "cell_type": "markdown",
      "source": [
        "Q12. Find the species with the highest ratio of petal_length to petal_width. Provide the species name and the ratio."
      ],
      "metadata": {
        "id": "db5Ow2-XIWiy"
      }
    },
    {
      "cell_type": "code",
      "source": [
        "# Calculate the ratio of petal_length to petal_width for each row\n",
        "data['petal_ratio'] = data['petal_length'] / data['petal_width']\n",
        "\n",
        "# Find the species with the highest average petal_ratio\n",
        "highest_petal_ratio_species = data.groupby('species')['petal_ratio'].mean().idxmax()\n",
        "\n",
        "highest_petal_ratio_species, data.groupby('species')['petal_ratio'].mean().max()\n",
        "\n",
        "print((highest_petal_ratio_species, data.groupby('species')['petal_ratio'].mean().max()))"
      ],
      "metadata": {
        "id": "u_7tpJujIVKW",
        "colab": {
          "base_uri": "https://localhost:8080/"
        },
        "outputId": "2fa6a2fe-788f-40cc-ed34-3591589d8dc7"
      },
      "execution_count": 64,
      "outputs": [
        {
          "output_type": "stream",
          "name": "stdout",
          "text": [
            "('setosa', 6.9079999999999995)\n"
          ]
        }
      ]
    },
    {
      "cell_type": "markdown",
      "source": [
        "# End!"
      ],
      "metadata": {
        "id": "jA_XYQxcY7zz"
      }
    }
  ]
}