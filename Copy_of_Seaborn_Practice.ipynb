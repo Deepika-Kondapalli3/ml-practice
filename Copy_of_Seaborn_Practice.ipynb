{
  "nbformat": 4,
  "nbformat_minor": 0,
  "metadata": {
    "colab": {
      "provenance": [],
      "include_colab_link": true
    },
    "kernelspec": {
      "name": "python3",
      "display_name": "Python 3"
    },
    "language_info": {
      "name": "python"
    }
  },
  "cells": [
    {
      "cell_type": "markdown",
      "metadata": {
        "id": "view-in-github",
        "colab_type": "text"
      },
      "source": [
        "<a href=\"https://colab.research.google.com/github/Deepika-Kondapalli3/ml-practice/blob/main/Copy_of_Seaborn_Practice.ipynb\" target=\"_parent\"><img src=\"https://colab.research.google.com/assets/colab-badge.svg\" alt=\"Open In Colab\"/></a>"
      ]
    },
    {
      "cell_type": "markdown",
      "source": [
        "## Instructions for Seaborn Assignment\n",
        "\n",
        "Welcome to the Seaborn practice exercise! In this assignment, you will use the Iris dataset to create various plots using Seaborn. Please follow these instructions carefully to complete your assignment:\n",
        "\n",
        "1. **Understand the Dataset**: The dataset used in this assignment is the Iris dataset, which contains measurements of iris flowers from three different species. Familiarize yourself with the dataset’s structure and columns before you start.\n",
        "\n",
        "2. **Read Each Question Carefully**: Each question is designed to test different Seaborn functionalities. Make sure you understand what is being asked before starting to code.\n",
        "\n",
        "3. **Write Your Code in the Provided Cells**: For each question, there is a code cell where you should write your solution. Ensure that you use Seaborn functions to create your plots.\n",
        "\n",
        "4. **Run Your Code**: After writing your code in each cell, run the cell to check if your plot is displayed as expected. Verify that the plots meet the requirements specified in the questions.\n",
        "\n",
        "5. **Debug if Necessary**: If the plots do not appear as expected, review and debug your code. You may use additional code cells for debugging if needed, but make sure to remove or comment out these extra cells before submission.\n",
        "\n",
        "6. **Complete All Questions**: Ensure that you answer all the questions provided. Each question tests different Seaborn skills and functionalities, so be sure to address each one.\n",
        "\n",
        "7. **Review Your Work**: Before submitting, double-check that all plots are correctly labeled, and that your code runs without errors. Ensure that each plot is accurate and meets the requirements.\n",
        "\n",
        "8. **Download Your Notebook**: Once you have completed all the questions and verified that your solutions are correct, download your notebook file (.ipynb). You can do this by selecting File > Download > Download .ipynb from the Google Colab menu.\n",
        "\n",
        "9. **Submit Your Assignment**: Upload the downloaded .ipynb file to the designated learning platform for submission.\n",
        "\n",
        "10. **Verify Submission**: Ensure that the file you uploaded is correct and not corrupted. If there are any issues with the file, you may need to resubmit.\n",
        "\n",
        "---\n",
        "\n",
        "Good luck with the assignment!"
      ],
      "metadata": {
        "id": "dX_hjGYzhW4s"
      }
    },
    {
      "cell_type": "markdown",
      "source": [
        "### Initial Setup\n",
        "Execute the below code cell for initial setup"
      ],
      "metadata": {
        "id": "W_BfSl6wgyEg"
      }
    },
    {
      "cell_type": "code",
      "execution_count": 1,
      "metadata": {
        "id": "D8tGGYdxgjqo",
        "outputId": "afa0fb80-46de-49f6-8158-7eb578e40dd7",
        "colab": {
          "base_uri": "https://localhost:8080/",
          "height": 206
        }
      },
      "outputs": [
        {
          "output_type": "execute_result",
          "data": {
            "text/plain": [
              "   sepal_length  sepal_width  petal_length  petal_width species\n",
              "0           5.1          3.5           1.4          0.2  setosa\n",
              "1           4.9          3.0           1.4          0.2  setosa\n",
              "2           4.7          3.2           1.3          0.2  setosa\n",
              "3           4.6          3.1           1.5          0.2  setosa\n",
              "4           5.0          3.6           1.4          0.2  setosa"
            ],
            "text/html": [
              "\n",
              "  <div id=\"df-cd90bee3-4c11-43a5-8de9-73b5648ed44f\" class=\"colab-df-container\">\n",
              "    <div>\n",
              "<style scoped>\n",
              "    .dataframe tbody tr th:only-of-type {\n",
              "        vertical-align: middle;\n",
              "    }\n",
              "\n",
              "    .dataframe tbody tr th {\n",
              "        vertical-align: top;\n",
              "    }\n",
              "\n",
              "    .dataframe thead th {\n",
              "        text-align: right;\n",
              "    }\n",
              "</style>\n",
              "<table border=\"1\" class=\"dataframe\">\n",
              "  <thead>\n",
              "    <tr style=\"text-align: right;\">\n",
              "      <th></th>\n",
              "      <th>sepal_length</th>\n",
              "      <th>sepal_width</th>\n",
              "      <th>petal_length</th>\n",
              "      <th>petal_width</th>\n",
              "      <th>species</th>\n",
              "    </tr>\n",
              "  </thead>\n",
              "  <tbody>\n",
              "    <tr>\n",
              "      <th>0</th>\n",
              "      <td>5.1</td>\n",
              "      <td>3.5</td>\n",
              "      <td>1.4</td>\n",
              "      <td>0.2</td>\n",
              "      <td>setosa</td>\n",
              "    </tr>\n",
              "    <tr>\n",
              "      <th>1</th>\n",
              "      <td>4.9</td>\n",
              "      <td>3.0</td>\n",
              "      <td>1.4</td>\n",
              "      <td>0.2</td>\n",
              "      <td>setosa</td>\n",
              "    </tr>\n",
              "    <tr>\n",
              "      <th>2</th>\n",
              "      <td>4.7</td>\n",
              "      <td>3.2</td>\n",
              "      <td>1.3</td>\n",
              "      <td>0.2</td>\n",
              "      <td>setosa</td>\n",
              "    </tr>\n",
              "    <tr>\n",
              "      <th>3</th>\n",
              "      <td>4.6</td>\n",
              "      <td>3.1</td>\n",
              "      <td>1.5</td>\n",
              "      <td>0.2</td>\n",
              "      <td>setosa</td>\n",
              "    </tr>\n",
              "    <tr>\n",
              "      <th>4</th>\n",
              "      <td>5.0</td>\n",
              "      <td>3.6</td>\n",
              "      <td>1.4</td>\n",
              "      <td>0.2</td>\n",
              "      <td>setosa</td>\n",
              "    </tr>\n",
              "  </tbody>\n",
              "</table>\n",
              "</div>\n",
              "    <div class=\"colab-df-buttons\">\n",
              "\n",
              "  <div class=\"colab-df-container\">\n",
              "    <button class=\"colab-df-convert\" onclick=\"convertToInteractive('df-cd90bee3-4c11-43a5-8de9-73b5648ed44f')\"\n",
              "            title=\"Convert this dataframe to an interactive table.\"\n",
              "            style=\"display:none;\">\n",
              "\n",
              "  <svg xmlns=\"http://www.w3.org/2000/svg\" height=\"24px\" viewBox=\"0 -960 960 960\">\n",
              "    <path d=\"M120-120v-720h720v720H120Zm60-500h600v-160H180v160Zm220 220h160v-160H400v160Zm0 220h160v-160H400v160ZM180-400h160v-160H180v160Zm440 0h160v-160H620v160ZM180-180h160v-160H180v160Zm440 0h160v-160H620v160Z\"/>\n",
              "  </svg>\n",
              "    </button>\n",
              "\n",
              "  <style>\n",
              "    .colab-df-container {\n",
              "      display:flex;\n",
              "      gap: 12px;\n",
              "    }\n",
              "\n",
              "    .colab-df-convert {\n",
              "      background-color: #E8F0FE;\n",
              "      border: none;\n",
              "      border-radius: 50%;\n",
              "      cursor: pointer;\n",
              "      display: none;\n",
              "      fill: #1967D2;\n",
              "      height: 32px;\n",
              "      padding: 0 0 0 0;\n",
              "      width: 32px;\n",
              "    }\n",
              "\n",
              "    .colab-df-convert:hover {\n",
              "      background-color: #E2EBFA;\n",
              "      box-shadow: 0px 1px 2px rgba(60, 64, 67, 0.3), 0px 1px 3px 1px rgba(60, 64, 67, 0.15);\n",
              "      fill: #174EA6;\n",
              "    }\n",
              "\n",
              "    .colab-df-buttons div {\n",
              "      margin-bottom: 4px;\n",
              "    }\n",
              "\n",
              "    [theme=dark] .colab-df-convert {\n",
              "      background-color: #3B4455;\n",
              "      fill: #D2E3FC;\n",
              "    }\n",
              "\n",
              "    [theme=dark] .colab-df-convert:hover {\n",
              "      background-color: #434B5C;\n",
              "      box-shadow: 0px 1px 3px 1px rgba(0, 0, 0, 0.15);\n",
              "      filter: drop-shadow(0px 1px 2px rgba(0, 0, 0, 0.3));\n",
              "      fill: #FFFFFF;\n",
              "    }\n",
              "  </style>\n",
              "\n",
              "    <script>\n",
              "      const buttonEl =\n",
              "        document.querySelector('#df-cd90bee3-4c11-43a5-8de9-73b5648ed44f button.colab-df-convert');\n",
              "      buttonEl.style.display =\n",
              "        google.colab.kernel.accessAllowed ? 'block' : 'none';\n",
              "\n",
              "      async function convertToInteractive(key) {\n",
              "        const element = document.querySelector('#df-cd90bee3-4c11-43a5-8de9-73b5648ed44f');\n",
              "        const dataTable =\n",
              "          await google.colab.kernel.invokeFunction('convertToInteractive',\n",
              "                                                    [key], {});\n",
              "        if (!dataTable) return;\n",
              "\n",
              "        const docLinkHtml = 'Like what you see? Visit the ' +\n",
              "          '<a target=\"_blank\" href=https://colab.research.google.com/notebooks/data_table.ipynb>data table notebook</a>'\n",
              "          + ' to learn more about interactive tables.';\n",
              "        element.innerHTML = '';\n",
              "        dataTable['output_type'] = 'display_data';\n",
              "        await google.colab.output.renderOutput(dataTable, element);\n",
              "        const docLink = document.createElement('div');\n",
              "        docLink.innerHTML = docLinkHtml;\n",
              "        element.appendChild(docLink);\n",
              "      }\n",
              "    </script>\n",
              "  </div>\n",
              "\n",
              "\n",
              "    <div id=\"df-59d064fb-957f-4c35-ab53-10b39d66571b\">\n",
              "      <button class=\"colab-df-quickchart\" onclick=\"quickchart('df-59d064fb-957f-4c35-ab53-10b39d66571b')\"\n",
              "                title=\"Suggest charts\"\n",
              "                style=\"display:none;\">\n",
              "\n",
              "<svg xmlns=\"http://www.w3.org/2000/svg\" height=\"24px\"viewBox=\"0 0 24 24\"\n",
              "     width=\"24px\">\n",
              "    <g>\n",
              "        <path d=\"M19 3H5c-1.1 0-2 .9-2 2v14c0 1.1.9 2 2 2h14c1.1 0 2-.9 2-2V5c0-1.1-.9-2-2-2zM9 17H7v-7h2v7zm4 0h-2V7h2v10zm4 0h-2v-4h2v4z\"/>\n",
              "    </g>\n",
              "</svg>\n",
              "      </button>\n",
              "\n",
              "<style>\n",
              "  .colab-df-quickchart {\n",
              "      --bg-color: #E8F0FE;\n",
              "      --fill-color: #1967D2;\n",
              "      --hover-bg-color: #E2EBFA;\n",
              "      --hover-fill-color: #174EA6;\n",
              "      --disabled-fill-color: #AAA;\n",
              "      --disabled-bg-color: #DDD;\n",
              "  }\n",
              "\n",
              "  [theme=dark] .colab-df-quickchart {\n",
              "      --bg-color: #3B4455;\n",
              "      --fill-color: #D2E3FC;\n",
              "      --hover-bg-color: #434B5C;\n",
              "      --hover-fill-color: #FFFFFF;\n",
              "      --disabled-bg-color: #3B4455;\n",
              "      --disabled-fill-color: #666;\n",
              "  }\n",
              "\n",
              "  .colab-df-quickchart {\n",
              "    background-color: var(--bg-color);\n",
              "    border: none;\n",
              "    border-radius: 50%;\n",
              "    cursor: pointer;\n",
              "    display: none;\n",
              "    fill: var(--fill-color);\n",
              "    height: 32px;\n",
              "    padding: 0;\n",
              "    width: 32px;\n",
              "  }\n",
              "\n",
              "  .colab-df-quickchart:hover {\n",
              "    background-color: var(--hover-bg-color);\n",
              "    box-shadow: 0 1px 2px rgba(60, 64, 67, 0.3), 0 1px 3px 1px rgba(60, 64, 67, 0.15);\n",
              "    fill: var(--button-hover-fill-color);\n",
              "  }\n",
              "\n",
              "  .colab-df-quickchart-complete:disabled,\n",
              "  .colab-df-quickchart-complete:disabled:hover {\n",
              "    background-color: var(--disabled-bg-color);\n",
              "    fill: var(--disabled-fill-color);\n",
              "    box-shadow: none;\n",
              "  }\n",
              "\n",
              "  .colab-df-spinner {\n",
              "    border: 2px solid var(--fill-color);\n",
              "    border-color: transparent;\n",
              "    border-bottom-color: var(--fill-color);\n",
              "    animation:\n",
              "      spin 1s steps(1) infinite;\n",
              "  }\n",
              "\n",
              "  @keyframes spin {\n",
              "    0% {\n",
              "      border-color: transparent;\n",
              "      border-bottom-color: var(--fill-color);\n",
              "      border-left-color: var(--fill-color);\n",
              "    }\n",
              "    20% {\n",
              "      border-color: transparent;\n",
              "      border-left-color: var(--fill-color);\n",
              "      border-top-color: var(--fill-color);\n",
              "    }\n",
              "    30% {\n",
              "      border-color: transparent;\n",
              "      border-left-color: var(--fill-color);\n",
              "      border-top-color: var(--fill-color);\n",
              "      border-right-color: var(--fill-color);\n",
              "    }\n",
              "    40% {\n",
              "      border-color: transparent;\n",
              "      border-right-color: var(--fill-color);\n",
              "      border-top-color: var(--fill-color);\n",
              "    }\n",
              "    60% {\n",
              "      border-color: transparent;\n",
              "      border-right-color: var(--fill-color);\n",
              "    }\n",
              "    80% {\n",
              "      border-color: transparent;\n",
              "      border-right-color: var(--fill-color);\n",
              "      border-bottom-color: var(--fill-color);\n",
              "    }\n",
              "    90% {\n",
              "      border-color: transparent;\n",
              "      border-bottom-color: var(--fill-color);\n",
              "    }\n",
              "  }\n",
              "</style>\n",
              "\n",
              "      <script>\n",
              "        async function quickchart(key) {\n",
              "          const quickchartButtonEl =\n",
              "            document.querySelector('#' + key + ' button');\n",
              "          quickchartButtonEl.disabled = true;  // To prevent multiple clicks.\n",
              "          quickchartButtonEl.classList.add('colab-df-spinner');\n",
              "          try {\n",
              "            const charts = await google.colab.kernel.invokeFunction(\n",
              "                'suggestCharts', [key], {});\n",
              "          } catch (error) {\n",
              "            console.error('Error during call to suggestCharts:', error);\n",
              "          }\n",
              "          quickchartButtonEl.classList.remove('colab-df-spinner');\n",
              "          quickchartButtonEl.classList.add('colab-df-quickchart-complete');\n",
              "        }\n",
              "        (() => {\n",
              "          let quickchartButtonEl =\n",
              "            document.querySelector('#df-59d064fb-957f-4c35-ab53-10b39d66571b button');\n",
              "          quickchartButtonEl.style.display =\n",
              "            google.colab.kernel.accessAllowed ? 'block' : 'none';\n",
              "        })();\n",
              "      </script>\n",
              "    </div>\n",
              "\n",
              "    </div>\n",
              "  </div>\n"
            ],
            "application/vnd.google.colaboratory.intrinsic+json": {
              "type": "dataframe",
              "variable_name": "data",
              "summary": "{\n  \"name\": \"data\",\n  \"rows\": 150,\n  \"fields\": [\n    {\n      \"column\": \"sepal_length\",\n      \"properties\": {\n        \"dtype\": \"number\",\n        \"std\": 0.8280661279778629,\n        \"min\": 4.3,\n        \"max\": 7.9,\n        \"num_unique_values\": 35,\n        \"samples\": [\n          6.2,\n          4.5,\n          5.6\n        ],\n        \"semantic_type\": \"\",\n        \"description\": \"\"\n      }\n    },\n    {\n      \"column\": \"sepal_width\",\n      \"properties\": {\n        \"dtype\": \"number\",\n        \"std\": 0.435866284936698,\n        \"min\": 2.0,\n        \"max\": 4.4,\n        \"num_unique_values\": 23,\n        \"samples\": [\n          2.3,\n          4.0,\n          3.5\n        ],\n        \"semantic_type\": \"\",\n        \"description\": \"\"\n      }\n    },\n    {\n      \"column\": \"petal_length\",\n      \"properties\": {\n        \"dtype\": \"number\",\n        \"std\": 1.7652982332594667,\n        \"min\": 1.0,\n        \"max\": 6.9,\n        \"num_unique_values\": 43,\n        \"samples\": [\n          6.7,\n          3.8,\n          3.7\n        ],\n        \"semantic_type\": \"\",\n        \"description\": \"\"\n      }\n    },\n    {\n      \"column\": \"petal_width\",\n      \"properties\": {\n        \"dtype\": \"number\",\n        \"std\": 0.7622376689603465,\n        \"min\": 0.1,\n        \"max\": 2.5,\n        \"num_unique_values\": 22,\n        \"samples\": [\n          0.2,\n          1.2,\n          1.3\n        ],\n        \"semantic_type\": \"\",\n        \"description\": \"\"\n      }\n    },\n    {\n      \"column\": \"species\",\n      \"properties\": {\n        \"dtype\": \"category\",\n        \"num_unique_values\": 3,\n        \"samples\": [\n          \"setosa\",\n          \"versicolor\",\n          \"virginica\"\n        ],\n        \"semantic_type\": \"\",\n        \"description\": \"\"\n      }\n    }\n  ]\n}"
            }
          },
          "metadata": {},
          "execution_count": 1
        }
      ],
      "source": [
        "# Import necessary libraries\n",
        "import matplotlib.pyplot as plt\n",
        "import seaborn as sns\n",
        "import pandas as pd\n",
        "\n",
        "# Load the Iris dataset using seaborn\n",
        "data = sns.load_dataset('iris')\n",
        "\n",
        "# Display the first few rows of the dataset\n",
        "data.head()"
      ]
    },
    {
      "cell_type": "markdown",
      "source": [
        "**Q1. Create a pivot table showing the mean sepal_length for each species and Petal Size Category.**"
      ],
      "metadata": {
        "id": "OngeKln6kdk2"
      }
    },
    {
      "cell_type": "code",
      "source": [
        "# Write the code here\n",
        "# Step 1: Create the 'Petal Size Category' column\n",
        "median_petal_length = data['petal_length'].median()\n",
        "data['Petal Size Category']= data['petal_length'].apply(lambda x: \"Large Petals\" if x>median_petal_length else \"Small Petals\")\n",
        "\n",
        "# Step 2: Create the pivot table  and display\n",
        "pivot_table = data.pivot_table(\n",
        "    values='sepal_length',\n",
        "    index='species',\n",
        "    columns='Petal Size Category',\n",
        "    aggfunc='mean'\n",
        ")\n",
        "print(pivot_table)"
      ],
      "metadata": {
        "id": "fHjXvZ6DkU12",
        "colab": {
          "base_uri": "https://localhost:8080/"
        },
        "outputId": "6e975c1c-dd18-4f60-9a16-c2600ca8181f"
      },
      "execution_count": 29,
      "outputs": [
        {
          "output_type": "stream",
          "name": "stdout",
          "text": [
            "Petal Size Category  Large Petals  Small Petals\n",
            "species                                        \n",
            "setosa                        NaN         5.006\n",
            "versicolor                  6.256         5.616\n",
            "virginica                   6.588           NaN\n"
          ]
        }
      ]
    },
    {
      "cell_type": "markdown",
      "source": [
        "**Q2. Identify the species where sepal_length and sepal_width have the highest combined mean.** print it in the given format:\n",
        "- `Species with highest combined sepal length and width mean: _______`"
      ],
      "metadata": {
        "id": "slOJaNUSkjn8"
      }
    },
    {
      "cell_type": "code",
      "source": [
        "# Write the code here\n",
        "mean_values= data.groupby('species')[['sepal_length', 'sepal_width']].mean()\n",
        "mean_values['combined_mean']= mean_values['sepal_length']+ mean_values['sepal_width']\n",
        "species_highest_sepal_sum = mean_values['combined_mean'].idxmax()\n",
        "print(f\"Species with highest combined sepal length and width mean: {species_highest_sepal_sum}\")"
      ],
      "metadata": {
        "id": "Xux2spZIkgjN",
        "outputId": "66d4ffe3-5460-44e4-dcdd-44341356f0f5",
        "colab": {
          "base_uri": "https://localhost:8080/"
        }
      },
      "execution_count": 2,
      "outputs": [
        {
          "output_type": "stream",
          "name": "stdout",
          "text": [
            "Species with highest combined sepal length and width mean: virginica\n"
          ]
        }
      ]
    },
    {
      "cell_type": "markdown",
      "source": [
        "**Q3. Find the percentage of flowers where petal_length is greater than sepal_width.** print it in the given format:\n",
        "- `Percentage of flowers where petal length > sepal width: _______`"
      ],
      "metadata": {
        "id": "1VlCH_Qlkp9G"
      }
    },
    {
      "cell_type": "code",
      "source": [
        "# Write the code here\n",
        "percentage_petal_gt_sepal = ((data[data['petal_length'] > data['sepal_width']].shape[0] ) / len(data)) * 100\n",
        "print(f\"Percentage of flowers where petal length > sepal width: {percentage_petal_gt_sepal:.2f}%\")"
      ],
      "metadata": {
        "id": "IDVxvp7NkocT",
        "outputId": "4f957b07-acb7-4598-ac81-159e182cb0e4",
        "colab": {
          "base_uri": "https://localhost:8080/"
        }
      },
      "execution_count": 32,
      "outputs": [
        {
          "output_type": "stream",
          "name": "stdout",
          "text": [
            "Percentage of flowers where petal length > sepal width: 66.67%\n"
          ]
        }
      ]
    },
    {
      "cell_type": "markdown",
      "source": [
        "**Q4. Find the interquartile range (IQR) for sepal_length.** print it in the given format:\n",
        "- `Interquartile Range (IQR) for Sepal Length: __________`"
      ],
      "metadata": {
        "id": "KitR7q1MktwW"
      }
    },
    {
      "cell_type": "code",
      "source": [
        "# Write the code here\n",
        "Q1 = data.sepal_length.quantile(0.25)\n",
        "Q3 =data.sepal_length.quantile(0.75)\n",
        "IQR = Q3-Q1\n",
        "print(f\"Interquartile Range (IQR) for Sepal Length: {IQR}\")"
      ],
      "metadata": {
        "id": "Wtp5R_hUkrwr",
        "outputId": "5698d8fe-4aa3-4e26-ec03-8360bd4336d3",
        "colab": {
          "base_uri": "https://localhost:8080/"
        }
      },
      "execution_count": 4,
      "outputs": [
        {
          "output_type": "stream",
          "name": "stdout",
          "text": [
            "Interquartile Range (IQR) for Sepal Length: 1.3000000000000007\n"
          ]
        }
      ]
    },
    {
      "cell_type": "markdown",
      "source": [
        "**Q5. Compute the ratio of sepal_length to sepal_width and find the species with the highest average ratio.** print it in the given format:\n",
        "- `Species with highest average Sepal Ratio: _______`"
      ],
      "metadata": {
        "id": "dldLmIQZlF8u"
      }
    },
    {
      "cell_type": "code",
      "source": [
        "# Write the code here\n",
        "data['ratio']=data['sepal_length'] / data['sepal_width']\n",
        "species_highest_sepal_ratio = data.groupby('species')['ratio'].mean().idxmax()\n",
        "print(f\"Species with highest average Sepal Ratio: {species_highest_sepal_ratio}\")"
      ],
      "metadata": {
        "id": "YW3iQyXUkvLd",
        "outputId": "bdf1359f-706b-4ef7-a224-9736f8c30a3a",
        "colab": {
          "base_uri": "https://localhost:8080/"
        }
      },
      "execution_count": 5,
      "outputs": [
        {
          "output_type": "stream",
          "name": "stdout",
          "text": [
            "Species with highest average Sepal Ratio: virginica\n"
          ]
        }
      ]
    },
    {
      "cell_type": "markdown",
      "source": [
        "**Q6. You need to analyze the `petal_length`, group the data by the `species`, then find the three highest `petal_length` values within each species group. Display the result showing the species name, the corresponding row indices, and their petal lengths.**\n",
        "```\n",
        "species        \n",
        "setosa      N     N\n",
        "            N     N\n",
        "            N     N\n",
        "versicolor  N     N\n",
        "            N     N\n",
        "            N     N\n",
        "virginica   N     N\n",
        "            N     N\n",
        "            N     N\n",
        "Name: _____, dtype: float64\n",
        "```"
      ],
      "metadata": {
        "id": "hdmuuJFAlIPg"
      }
    },
    {
      "cell_type": "code",
      "source": [
        "# Write the code here\n",
        "\n",
        "top_3_petal_length =data.groupby('species')['petal_length'].nlargest(3)\n",
        "print(top_3_petal_length)"
      ],
      "metadata": {
        "id": "knBLSDglkyjy",
        "outputId": "62c7cbe6-e051-456a-ee86-7c891f7541e3",
        "colab": {
          "base_uri": "https://localhost:8080/"
        }
      },
      "execution_count": 44,
      "outputs": [
        {
          "output_type": "stream",
          "name": "stdout",
          "text": [
            "species        \n",
            "setosa      24     1.9\n",
            "            44     1.9\n",
            "            5      1.7\n",
            "versicolor  83     5.1\n",
            "            77     5.0\n",
            "            52     4.9\n",
            "virginica   118    6.9\n",
            "            117    6.7\n",
            "            122    6.7\n",
            "Name: petal_length, dtype: float64\n"
          ]
        }
      ]
    },
    {
      "cell_type": "markdown",
      "source": [
        "**Q7. Find the percentage of flowers where sepal_length is greater than twice the petal_length, with 2 decimals.** print it in the given format:\n",
        "\n",
        "- `Percentage of flowers where sepal length > 2x petal length: ______`"
      ],
      "metadata": {
        "id": "9KY5mKqslLzn"
      }
    },
    {
      "cell_type": "code",
      "source": [
        "# Write the code here\n",
        "percentage_sepal_gt_2x_petal = ((data[data['sepal_length'] > 2*data['petal_length']].shape[0]) / len(data))*100\n",
        "print(f\"Percentage of flowers where sepal length > 2x petal length: {percentage_sepal_gt_2x_petal:.2f}%\")"
      ],
      "metadata": {
        "id": "bq500CmwlJZF",
        "colab": {
          "base_uri": "https://localhost:8080/"
        },
        "outputId": "d15800f3-bbd1-411b-c8f3-f56deeb8804b"
      },
      "execution_count": 37,
      "outputs": [
        {
          "output_type": "stream",
          "name": "stdout",
          "text": [
            "Percentage of flowers where sepal length > 2x petal length: 33.33%\n"
          ]
        }
      ]
    },
    {
      "cell_type": "markdown",
      "source": [
        "**Q8. Find the species that has the lowest mean sepal_length but the highest mean petal_length.** print it in the given format:\n",
        "- `Species with lowest mean sepal length: ________`\n",
        "- `Species with highest mean petal length: ________`"
      ],
      "metadata": {
        "id": "ozC0Nqt8lZnJ"
      }
    },
    {
      "cell_type": "code",
      "source": [
        "# Write the code here\n",
        "\n",
        "lowest_sepal_species = data.groupby('species')['sepal_length'].mean().idxmin()\n",
        "highest_petal_species = data.groupby('species')['petal_length'].mean().idxmax()\n",
        "print(f\"Species with lowest mean sepal length: {lowest_sepal_species}\")\n",
        "print(f\"Species with highest mean petal length: {highest_petal_species}\")"
      ],
      "metadata": {
        "id": "smIRGCxclQpl",
        "colab": {
          "base_uri": "https://localhost:8080/"
        },
        "outputId": "9e8fea67-2dd1-4331-8051-56372e94d910"
      },
      "execution_count": 25,
      "outputs": [
        {
          "output_type": "stream",
          "name": "stdout",
          "text": [
            "Species with lowest mean sepal length: setosa\n",
            "Species with highest mean petal length: virginica\n"
          ]
        }
      ]
    },
    {
      "cell_type": "markdown",
      "source": [
        "**Q9. Create a new feature Sepal Area (sepal_length × sepal_width) and find the species with the highest average sepal area.** print it in the given format:\n",
        "- `Species with highest average Sepal Area: ________`"
      ],
      "metadata": {
        "id": "LDNCe5J4lZSP"
      }
    },
    {
      "cell_type": "code",
      "source": [
        "# write your code here\n",
        "data['Sepal Area']= data['sepal_length'] * data['sepal_width']\n",
        "species_highest_sepal_area = data.groupby('species')['Sepal Area'].mean().idxmax()\n",
        "print(f\"Species with highest average Sepal Area: {species_highest_sepal_area}\")"
      ],
      "metadata": {
        "id": "4LgCTPvtlSxD",
        "colab": {
          "base_uri": "https://localhost:8080/"
        },
        "outputId": "e6c3e9fa-e697-4bac-bceb-048ab0459f39"
      },
      "execution_count": 26,
      "outputs": [
        {
          "output_type": "stream",
          "name": "stdout",
          "text": [
            "Species with highest average Sepal Area: virginica\n"
          ]
        }
      ]
    },
    {
      "cell_type": "markdown",
      "source": [
        "**Q10. Identify the row with the maximum petal_length and display it**"
      ],
      "metadata": {
        "id": "3KYF5RsFluRP"
      }
    },
    {
      "cell_type": "code",
      "source": [
        "median_petal_length = data[\"petal_length\"].median()\n",
        "data[\"Petal Size Category\"] = data[\"petal_length\"].apply(lambda x: \"Large Petals\" if x > median_petal_length else \"Small Petals\")\n",
        "\n",
        "data[\"Sepal Ratio\"] = data[\"sepal_length\"] / data[\"sepal_width\"]\n",
        "\n",
        "data[\"Sepal Area\"] = data[\"sepal_length\"] * data[\"sepal_width\"]\n",
        "\n",
        "max_petal_length_row = data.loc[data[\"petal_length\"].idxmax()]\n",
        "print(max_petal_length_row)"
      ],
      "metadata": {
        "id": "ANwsc-wslY5D",
        "colab": {
          "base_uri": "https://localhost:8080/"
        },
        "outputId": "fba89170-fd7c-4b17-ba4a-ef6fdf3213db"
      },
      "execution_count": 45,
      "outputs": [
        {
          "output_type": "stream",
          "name": "stdout",
          "text": [
            "sepal_length                    7.7\n",
            "sepal_width                     2.6\n",
            "petal_length                    6.9\n",
            "petal_width                     2.3\n",
            "species                   virginica\n",
            "ratio                      2.961538\n",
            "Petal Size Category    Large Petals\n",
            "Sepal Area                    20.02\n",
            "Sepal Ratio                2.961538\n",
            "Name: 118, dtype: object\n"
          ]
        }
      ]
    },
    {
      "cell_type": "markdown",
      "source": [
        "**Q11. Find the species with the lowest interquartile range (IQR) for sepal_width.** print it in the given format:\n",
        "- `Species with lowest IQR for sepal width: ______`"
      ],
      "metadata": {
        "id": "wFcUpqjoltSA"
      }
    },
    {
      "cell_type": "code",
      "source": [
        "# Write your code here\n",
        "iqr_sepal_width = (data.groupby('species')['sepal_width'].quantile(0.75)) - (data.groupby('species')['sepal_width'].quantile(0.25))\n",
        "\n",
        "species_lowest_iqr =iqr_sepal_width.idxmin()\n",
        "print(f\"Species with lowest IQR for sepal width: {species_lowest_iqr}\")"
      ],
      "metadata": {
        "id": "ze7r_6polkgl",
        "colab": {
          "base_uri": "https://localhost:8080/"
        },
        "outputId": "fb52a0ae-a759-43b4-ac41-13f9e030b874"
      },
      "execution_count": 42,
      "outputs": [
        {
          "output_type": "stream",
          "name": "stdout",
          "text": [
            "Species with lowest IQR for sepal width: virginica\n"
          ]
        }
      ]
    },
    {
      "cell_type": "markdown",
      "source": [
        "# End!"
      ],
      "metadata": {
        "id": "spmquOHljeJL"
      }
    }
  ]
}