{
  "cells": [
    {
      "cell_type": "markdown",
      "metadata": {
        "id": "view-in-github",
        "colab_type": "text"
      },
      "source": [
        "<a href=\"https://colab.research.google.com/github/Deepika-Kondapalli3/ml-practice/blob/main/Copy_of_Matplotlib_Assignment.ipynb\" target=\"_parent\"><img src=\"https://colab.research.google.com/assets/colab-badge.svg\" alt=\"Open In Colab\"/></a>"
      ]
    },
    {
      "cell_type": "markdown",
      "source": [
        "# Matplotlib Assignment\n",
        "\n",
        "For this assignment, please use Matplotlib to generate the required visualizations. Ensure that you create and customize the plots as specified in the notebook. Submit your notebook with all visualizations properly displayed."
      ],
      "metadata": {
        "id": "myXBHHaNUrD9"
      },
      "id": "myXBHHaNUrD9"
    },
    {
      "cell_type": "code",
      "execution_count": 1,
      "metadata": {
        "id": "ed05cee0",
        "colab": {
          "base_uri": "https://localhost:8080/",
          "height": 258
        },
        "outputId": "9136b98c-31d1-4a8d-f5de-97baf3f6c46e"
      },
      "outputs": [
        {
          "output_type": "execute_result",
          "data": {
            "text/plain": [
              "    Make       Model Vehicle Class  Engine Size(L)  Cylinders Transmission  \\\n",
              "0  ACURA         ILX       COMPACT             2.0          4          AS5   \n",
              "1  ACURA         ILX       COMPACT             2.4          4           M6   \n",
              "2  ACURA  ILX HYBRID       COMPACT             1.5          4          AV7   \n",
              "3  ACURA     MDX 4WD   SUV - SMALL             3.5          6          AS6   \n",
              "4  ACURA     RDX AWD   SUV - SMALL             3.5          6          AS6   \n",
              "\n",
              "  Fuel Type  Fuel Consumption City (L/100 km)  \\\n",
              "0         Z                               9.9   \n",
              "1         Z                              11.2   \n",
              "2         Z                               6.0   \n",
              "3         Z                              12.7   \n",
              "4         Z                              12.1   \n",
              "\n",
              "   Fuel Consumption Hwy (L/100 km)  Fuel Consumption Comb (L/100 km)  \\\n",
              "0                              6.7                               8.5   \n",
              "1                              7.7                               9.6   \n",
              "2                              5.8                               5.9   \n",
              "3                              9.1                              11.1   \n",
              "4                              8.7                              10.6   \n",
              "\n",
              "   Fuel Consumption Comb (mpg)  CO2 Emissions(g/km)  \n",
              "0                           33                  196  \n",
              "1                           29                  221  \n",
              "2                           48                  136  \n",
              "3                           25                  255  \n",
              "4                           27                  244  "
            ],
            "text/html": [
              "\n",
              "  <div id=\"df-06dc441e-5d07-4eb3-99f3-54634a98575f\" class=\"colab-df-container\">\n",
              "    <div>\n",
              "<style scoped>\n",
              "    .dataframe tbody tr th:only-of-type {\n",
              "        vertical-align: middle;\n",
              "    }\n",
              "\n",
              "    .dataframe tbody tr th {\n",
              "        vertical-align: top;\n",
              "    }\n",
              "\n",
              "    .dataframe thead th {\n",
              "        text-align: right;\n",
              "    }\n",
              "</style>\n",
              "<table border=\"1\" class=\"dataframe\">\n",
              "  <thead>\n",
              "    <tr style=\"text-align: right;\">\n",
              "      <th></th>\n",
              "      <th>Make</th>\n",
              "      <th>Model</th>\n",
              "      <th>Vehicle Class</th>\n",
              "      <th>Engine Size(L)</th>\n",
              "      <th>Cylinders</th>\n",
              "      <th>Transmission</th>\n",
              "      <th>Fuel Type</th>\n",
              "      <th>Fuel Consumption City (L/100 km)</th>\n",
              "      <th>Fuel Consumption Hwy (L/100 km)</th>\n",
              "      <th>Fuel Consumption Comb (L/100 km)</th>\n",
              "      <th>Fuel Consumption Comb (mpg)</th>\n",
              "      <th>CO2 Emissions(g/km)</th>\n",
              "    </tr>\n",
              "  </thead>\n",
              "  <tbody>\n",
              "    <tr>\n",
              "      <th>0</th>\n",
              "      <td>ACURA</td>\n",
              "      <td>ILX</td>\n",
              "      <td>COMPACT</td>\n",
              "      <td>2.0</td>\n",
              "      <td>4</td>\n",
              "      <td>AS5</td>\n",
              "      <td>Z</td>\n",
              "      <td>9.9</td>\n",
              "      <td>6.7</td>\n",
              "      <td>8.5</td>\n",
              "      <td>33</td>\n",
              "      <td>196</td>\n",
              "    </tr>\n",
              "    <tr>\n",
              "      <th>1</th>\n",
              "      <td>ACURA</td>\n",
              "      <td>ILX</td>\n",
              "      <td>COMPACT</td>\n",
              "      <td>2.4</td>\n",
              "      <td>4</td>\n",
              "      <td>M6</td>\n",
              "      <td>Z</td>\n",
              "      <td>11.2</td>\n",
              "      <td>7.7</td>\n",
              "      <td>9.6</td>\n",
              "      <td>29</td>\n",
              "      <td>221</td>\n",
              "    </tr>\n",
              "    <tr>\n",
              "      <th>2</th>\n",
              "      <td>ACURA</td>\n",
              "      <td>ILX HYBRID</td>\n",
              "      <td>COMPACT</td>\n",
              "      <td>1.5</td>\n",
              "      <td>4</td>\n",
              "      <td>AV7</td>\n",
              "      <td>Z</td>\n",
              "      <td>6.0</td>\n",
              "      <td>5.8</td>\n",
              "      <td>5.9</td>\n",
              "      <td>48</td>\n",
              "      <td>136</td>\n",
              "    </tr>\n",
              "    <tr>\n",
              "      <th>3</th>\n",
              "      <td>ACURA</td>\n",
              "      <td>MDX 4WD</td>\n",
              "      <td>SUV - SMALL</td>\n",
              "      <td>3.5</td>\n",
              "      <td>6</td>\n",
              "      <td>AS6</td>\n",
              "      <td>Z</td>\n",
              "      <td>12.7</td>\n",
              "      <td>9.1</td>\n",
              "      <td>11.1</td>\n",
              "      <td>25</td>\n",
              "      <td>255</td>\n",
              "    </tr>\n",
              "    <tr>\n",
              "      <th>4</th>\n",
              "      <td>ACURA</td>\n",
              "      <td>RDX AWD</td>\n",
              "      <td>SUV - SMALL</td>\n",
              "      <td>3.5</td>\n",
              "      <td>6</td>\n",
              "      <td>AS6</td>\n",
              "      <td>Z</td>\n",
              "      <td>12.1</td>\n",
              "      <td>8.7</td>\n",
              "      <td>10.6</td>\n",
              "      <td>27</td>\n",
              "      <td>244</td>\n",
              "    </tr>\n",
              "  </tbody>\n",
              "</table>\n",
              "</div>\n",
              "    <div class=\"colab-df-buttons\">\n",
              "\n",
              "  <div class=\"colab-df-container\">\n",
              "    <button class=\"colab-df-convert\" onclick=\"convertToInteractive('df-06dc441e-5d07-4eb3-99f3-54634a98575f')\"\n",
              "            title=\"Convert this dataframe to an interactive table.\"\n",
              "            style=\"display:none;\">\n",
              "\n",
              "  <svg xmlns=\"http://www.w3.org/2000/svg\" height=\"24px\" viewBox=\"0 -960 960 960\">\n",
              "    <path d=\"M120-120v-720h720v720H120Zm60-500h600v-160H180v160Zm220 220h160v-160H400v160Zm0 220h160v-160H400v160ZM180-400h160v-160H180v160Zm440 0h160v-160H620v160ZM180-180h160v-160H180v160Zm440 0h160v-160H620v160Z\"/>\n",
              "  </svg>\n",
              "    </button>\n",
              "\n",
              "  <style>\n",
              "    .colab-df-container {\n",
              "      display:flex;\n",
              "      gap: 12px;\n",
              "    }\n",
              "\n",
              "    .colab-df-convert {\n",
              "      background-color: #E8F0FE;\n",
              "      border: none;\n",
              "      border-radius: 50%;\n",
              "      cursor: pointer;\n",
              "      display: none;\n",
              "      fill: #1967D2;\n",
              "      height: 32px;\n",
              "      padding: 0 0 0 0;\n",
              "      width: 32px;\n",
              "    }\n",
              "\n",
              "    .colab-df-convert:hover {\n",
              "      background-color: #E2EBFA;\n",
              "      box-shadow: 0px 1px 2px rgba(60, 64, 67, 0.3), 0px 1px 3px 1px rgba(60, 64, 67, 0.15);\n",
              "      fill: #174EA6;\n",
              "    }\n",
              "\n",
              "    .colab-df-buttons div {\n",
              "      margin-bottom: 4px;\n",
              "    }\n",
              "\n",
              "    [theme=dark] .colab-df-convert {\n",
              "      background-color: #3B4455;\n",
              "      fill: #D2E3FC;\n",
              "    }\n",
              "\n",
              "    [theme=dark] .colab-df-convert:hover {\n",
              "      background-color: #434B5C;\n",
              "      box-shadow: 0px 1px 3px 1px rgba(0, 0, 0, 0.15);\n",
              "      filter: drop-shadow(0px 1px 2px rgba(0, 0, 0, 0.3));\n",
              "      fill: #FFFFFF;\n",
              "    }\n",
              "  </style>\n",
              "\n",
              "    <script>\n",
              "      const buttonEl =\n",
              "        document.querySelector('#df-06dc441e-5d07-4eb3-99f3-54634a98575f button.colab-df-convert');\n",
              "      buttonEl.style.display =\n",
              "        google.colab.kernel.accessAllowed ? 'block' : 'none';\n",
              "\n",
              "      async function convertToInteractive(key) {\n",
              "        const element = document.querySelector('#df-06dc441e-5d07-4eb3-99f3-54634a98575f');\n",
              "        const dataTable =\n",
              "          await google.colab.kernel.invokeFunction('convertToInteractive',\n",
              "                                                    [key], {});\n",
              "        if (!dataTable) return;\n",
              "\n",
              "        const docLinkHtml = 'Like what you see? Visit the ' +\n",
              "          '<a target=\"_blank\" href=https://colab.research.google.com/notebooks/data_table.ipynb>data table notebook</a>'\n",
              "          + ' to learn more about interactive tables.';\n",
              "        element.innerHTML = '';\n",
              "        dataTable['output_type'] = 'display_data';\n",
              "        await google.colab.output.renderOutput(dataTable, element);\n",
              "        const docLink = document.createElement('div');\n",
              "        docLink.innerHTML = docLinkHtml;\n",
              "        element.appendChild(docLink);\n",
              "      }\n",
              "    </script>\n",
              "  </div>\n",
              "\n",
              "\n",
              "    <div id=\"df-9c95ba07-1cd1-4727-8f2c-0402dee0690d\">\n",
              "      <button class=\"colab-df-quickchart\" onclick=\"quickchart('df-9c95ba07-1cd1-4727-8f2c-0402dee0690d')\"\n",
              "                title=\"Suggest charts\"\n",
              "                style=\"display:none;\">\n",
              "\n",
              "<svg xmlns=\"http://www.w3.org/2000/svg\" height=\"24px\"viewBox=\"0 0 24 24\"\n",
              "     width=\"24px\">\n",
              "    <g>\n",
              "        <path d=\"M19 3H5c-1.1 0-2 .9-2 2v14c0 1.1.9 2 2 2h14c1.1 0 2-.9 2-2V5c0-1.1-.9-2-2-2zM9 17H7v-7h2v7zm4 0h-2V7h2v10zm4 0h-2v-4h2v4z\"/>\n",
              "    </g>\n",
              "</svg>\n",
              "      </button>\n",
              "\n",
              "<style>\n",
              "  .colab-df-quickchart {\n",
              "      --bg-color: #E8F0FE;\n",
              "      --fill-color: #1967D2;\n",
              "      --hover-bg-color: #E2EBFA;\n",
              "      --hover-fill-color: #174EA6;\n",
              "      --disabled-fill-color: #AAA;\n",
              "      --disabled-bg-color: #DDD;\n",
              "  }\n",
              "\n",
              "  [theme=dark] .colab-df-quickchart {\n",
              "      --bg-color: #3B4455;\n",
              "      --fill-color: #D2E3FC;\n",
              "      --hover-bg-color: #434B5C;\n",
              "      --hover-fill-color: #FFFFFF;\n",
              "      --disabled-bg-color: #3B4455;\n",
              "      --disabled-fill-color: #666;\n",
              "  }\n",
              "\n",
              "  .colab-df-quickchart {\n",
              "    background-color: var(--bg-color);\n",
              "    border: none;\n",
              "    border-radius: 50%;\n",
              "    cursor: pointer;\n",
              "    display: none;\n",
              "    fill: var(--fill-color);\n",
              "    height: 32px;\n",
              "    padding: 0;\n",
              "    width: 32px;\n",
              "  }\n",
              "\n",
              "  .colab-df-quickchart:hover {\n",
              "    background-color: var(--hover-bg-color);\n",
              "    box-shadow: 0 1px 2px rgba(60, 64, 67, 0.3), 0 1px 3px 1px rgba(60, 64, 67, 0.15);\n",
              "    fill: var(--button-hover-fill-color);\n",
              "  }\n",
              "\n",
              "  .colab-df-quickchart-complete:disabled,\n",
              "  .colab-df-quickchart-complete:disabled:hover {\n",
              "    background-color: var(--disabled-bg-color);\n",
              "    fill: var(--disabled-fill-color);\n",
              "    box-shadow: none;\n",
              "  }\n",
              "\n",
              "  .colab-df-spinner {\n",
              "    border: 2px solid var(--fill-color);\n",
              "    border-color: transparent;\n",
              "    border-bottom-color: var(--fill-color);\n",
              "    animation:\n",
              "      spin 1s steps(1) infinite;\n",
              "  }\n",
              "\n",
              "  @keyframes spin {\n",
              "    0% {\n",
              "      border-color: transparent;\n",
              "      border-bottom-color: var(--fill-color);\n",
              "      border-left-color: var(--fill-color);\n",
              "    }\n",
              "    20% {\n",
              "      border-color: transparent;\n",
              "      border-left-color: var(--fill-color);\n",
              "      border-top-color: var(--fill-color);\n",
              "    }\n",
              "    30% {\n",
              "      border-color: transparent;\n",
              "      border-left-color: var(--fill-color);\n",
              "      border-top-color: var(--fill-color);\n",
              "      border-right-color: var(--fill-color);\n",
              "    }\n",
              "    40% {\n",
              "      border-color: transparent;\n",
              "      border-right-color: var(--fill-color);\n",
              "      border-top-color: var(--fill-color);\n",
              "    }\n",
              "    60% {\n",
              "      border-color: transparent;\n",
              "      border-right-color: var(--fill-color);\n",
              "    }\n",
              "    80% {\n",
              "      border-color: transparent;\n",
              "      border-right-color: var(--fill-color);\n",
              "      border-bottom-color: var(--fill-color);\n",
              "    }\n",
              "    90% {\n",
              "      border-color: transparent;\n",
              "      border-bottom-color: var(--fill-color);\n",
              "    }\n",
              "  }\n",
              "</style>\n",
              "\n",
              "      <script>\n",
              "        async function quickchart(key) {\n",
              "          const quickchartButtonEl =\n",
              "            document.querySelector('#' + key + ' button');\n",
              "          quickchartButtonEl.disabled = true;  // To prevent multiple clicks.\n",
              "          quickchartButtonEl.classList.add('colab-df-spinner');\n",
              "          try {\n",
              "            const charts = await google.colab.kernel.invokeFunction(\n",
              "                'suggestCharts', [key], {});\n",
              "          } catch (error) {\n",
              "            console.error('Error during call to suggestCharts:', error);\n",
              "          }\n",
              "          quickchartButtonEl.classList.remove('colab-df-spinner');\n",
              "          quickchartButtonEl.classList.add('colab-df-quickchart-complete');\n",
              "        }\n",
              "        (() => {\n",
              "          let quickchartButtonEl =\n",
              "            document.querySelector('#df-9c95ba07-1cd1-4727-8f2c-0402dee0690d button');\n",
              "          quickchartButtonEl.style.display =\n",
              "            google.colab.kernel.accessAllowed ? 'block' : 'none';\n",
              "        })();\n",
              "      </script>\n",
              "    </div>\n",
              "\n",
              "    </div>\n",
              "  </div>\n"
            ],
            "application/vnd.google.colaboratory.intrinsic+json": {
              "type": "dataframe",
              "variable_name": "data",
              "summary": "{\n  \"name\": \"data\",\n  \"rows\": 7385,\n  \"fields\": [\n    {\n      \"column\": \"Make\",\n      \"properties\": {\n        \"dtype\": \"category\",\n        \"num_unique_values\": 42,\n        \"samples\": [\n          \"MAZDA\",\n          \"GMC\",\n          \"CHEVROLET\"\n        ],\n        \"semantic_type\": \"\",\n        \"description\": \"\"\n      }\n    },\n    {\n      \"column\": \"Model\",\n      \"properties\": {\n        \"dtype\": \"category\",\n        \"num_unique_values\": 2053,\n        \"samples\": [\n          \"E 63 AMG 4MATIC\",\n          \"GOLF R\",\n          \"AMG S 63 4MATIC COUPE\"\n        ],\n        \"semantic_type\": \"\",\n        \"description\": \"\"\n      }\n    },\n    {\n      \"column\": \"Vehicle Class\",\n      \"properties\": {\n        \"dtype\": \"category\",\n        \"num_unique_values\": 16,\n        \"samples\": [\n          \"COMPACT\",\n          \"SUV - SMALL\",\n          \"SUBCOMPACT\"\n        ],\n        \"semantic_type\": \"\",\n        \"description\": \"\"\n      }\n    },\n    {\n      \"column\": \"Engine Size(L)\",\n      \"properties\": {\n        \"dtype\": \"number\",\n        \"std\": 1.354170455562269,\n        \"min\": 0.9,\n        \"max\": 8.4,\n        \"num_unique_values\": 51,\n        \"samples\": [\n          1.3,\n          2.7,\n          2.8\n        ],\n        \"semantic_type\": \"\",\n        \"description\": \"\"\n      }\n    },\n    {\n      \"column\": \"Cylinders\",\n      \"properties\": {\n        \"dtype\": \"number\",\n        \"std\": 1,\n        \"min\": 3,\n        \"max\": 16,\n        \"num_unique_values\": 8,\n        \"samples\": [\n          6,\n          3,\n          4\n        ],\n        \"semantic_type\": \"\",\n        \"description\": \"\"\n      }\n    },\n    {\n      \"column\": \"Transmission\",\n      \"properties\": {\n        \"dtype\": \"category\",\n        \"num_unique_values\": 27,\n        \"samples\": [\n          \"AS8\",\n          \"M5\",\n          \"A7\"\n        ],\n        \"semantic_type\": \"\",\n        \"description\": \"\"\n      }\n    },\n    {\n      \"column\": \"Fuel Type\",\n      \"properties\": {\n        \"dtype\": \"category\",\n        \"num_unique_values\": 5,\n        \"samples\": [\n          \"D\",\n          \"N\",\n          \"X\"\n        ],\n        \"semantic_type\": \"\",\n        \"description\": \"\"\n      }\n    },\n    {\n      \"column\": \"Fuel Consumption City (L/100 km)\",\n      \"properties\": {\n        \"dtype\": \"number\",\n        \"std\": 3.5002740810877904,\n        \"min\": 4.2,\n        \"max\": 30.6,\n        \"num_unique_values\": 211,\n        \"samples\": [\n          21.1,\n          22.2,\n          6.5\n        ],\n        \"semantic_type\": \"\",\n        \"description\": \"\"\n      }\n    },\n    {\n      \"column\": \"Fuel Consumption Hwy (L/100 km)\",\n      \"properties\": {\n        \"dtype\": \"number\",\n        \"std\": 2.2244563806418824,\n        \"min\": 4.0,\n        \"max\": 20.6,\n        \"num_unique_values\": 143,\n        \"samples\": [\n          5.2,\n          6.5,\n          13.3\n        ],\n        \"semantic_type\": \"\",\n        \"description\": \"\"\n      }\n    },\n    {\n      \"column\": \"Fuel Consumption Comb (L/100 km)\",\n      \"properties\": {\n        \"dtype\": \"number\",\n        \"std\": 2.892506302898463,\n        \"min\": 4.1,\n        \"max\": 26.1,\n        \"num_unique_values\": 181,\n        \"samples\": [\n          8.1,\n          16.5,\n          17.6\n        ],\n        \"semantic_type\": \"\",\n        \"description\": \"\"\n      }\n    },\n    {\n      \"column\": \"Fuel Consumption Comb (mpg)\",\n      \"properties\": {\n        \"dtype\": \"number\",\n        \"std\": 7,\n        \"min\": 11,\n        \"max\": 69,\n        \"num_unique_values\": 54,\n        \"samples\": [\n          20,\n          64,\n          63\n        ],\n        \"semantic_type\": \"\",\n        \"description\": \"\"\n      }\n    },\n    {\n      \"column\": \"CO2 Emissions(g/km)\",\n      \"properties\": {\n        \"dtype\": \"number\",\n        \"std\": 58,\n        \"min\": 96,\n        \"max\": 522,\n        \"num_unique_values\": 331,\n        \"samples\": [\n          363,\n          405,\n          377\n        ],\n        \"semantic_type\": \"\",\n        \"description\": \"\"\n      }\n    }\n  ]\n}"
            }
          },
          "metadata": {},
          "execution_count": 1
        }
      ],
      "source": [
        "# Run this code cell\n",
        "import numpy as np\n",
        "import pandas as pd\n",
        "import matplotlib as mpl\n",
        "import matplotlib.pyplot as plt\n",
        "\n",
        "mpl.style.use('ggplot')\n",
        "\n",
        "import warnings\n",
        "warnings.filterwarnings('ignore')\n",
        "\n",
        "url = 'https://new-assets.ccbp.in/frontend/content/aiml/classical-ml/co2_emissions_canada.csv'\n",
        "\n",
        "# Upload the data on colab and execute this code cell\n",
        "data = pd.read_csv(url)\n",
        "data.head()"
      ],
      "id": "ed05cee0"
    },
    {
      "cell_type": "markdown",
      "source": [
        "**1. Which Vehicle Class has the highest average CO2 Emissions?**"
      ],
      "metadata": {
        "id": "9-T61NrxcRu8"
      },
      "id": "9-T61NrxcRu8"
    },
    {
      "cell_type": "code",
      "source": [
        "# write your code here\n",
        "\n",
        "highest_class =data.groupby('Vehicle Class')['CO2 Emissions(g/km)'].mean().idxmax()\n",
        "print(highest_class)"
      ],
      "metadata": {
        "id": "MRgY4WVjcPnT",
        "colab": {
          "base_uri": "https://localhost:8080/"
        },
        "outputId": "95462ec0-e03d-45c6-f771-67f9006e2a75"
      },
      "execution_count": 2,
      "outputs": [
        {
          "output_type": "stream",
          "name": "stdout",
          "text": [
            "VAN - PASSENGER\n"
          ]
        }
      ],
      "id": "MRgY4WVjcPnT"
    },
    {
      "cell_type": "markdown",
      "source": [
        "**2. Find which 3 car manufacturers have the highest median CO2 emissions and display both the make and the median value.**"
      ],
      "metadata": {
        "id": "cvw6hXBhckA5"
      },
      "id": "cvw6hXBhckA5"
    },
    {
      "cell_type": "code",
      "source": [
        "# write your code here\n",
        "\n",
        "top_3_median_emissions = data.groupby('Make')['CO2 Emissions(g/km)'].median()\n",
        "print(top_3_median_emissions.sort_values(ascending=False).head(3))"
      ],
      "metadata": {
        "id": "_rVfj7wtcPj8",
        "colab": {
          "base_uri": "https://localhost:8080/"
        },
        "outputId": "274a4503-5f12-44dc-8053-e5cf838e6278"
      },
      "execution_count": 3,
      "outputs": [
        {
          "output_type": "stream",
          "name": "stdout",
          "text": [
            "Make\n",
            "BUGATTI        522.0\n",
            "ROLLS-ROYCE    391.5\n",
            "SRT            389.0\n",
            "Name: CO2 Emissions(g/km), dtype: float64\n"
          ]
        }
      ],
      "id": "_rVfj7wtcPj8"
    },
    {
      "cell_type": "markdown",
      "source": [
        "**3. For each fuel type, find the minimum and maximum engine size. This gives insight into what range of engine sizes each fuel category typically covers.**"
      ],
      "metadata": {
        "id": "MmfVQFHcc3OK"
      },
      "id": "MmfVQFHcc3OK"
    },
    {
      "cell_type": "code",
      "source": [
        "# write your code here\n",
        "\n",
        "engine_size_range =data.groupby('Fuel Type')['Engine Size(L)'].agg(['min','max'])\n",
        "print(engine_size_range)"
      ],
      "metadata": {
        "id": "WaGe6lTHc3m-",
        "colab": {
          "base_uri": "https://localhost:8080/"
        },
        "outputId": "fe74279e-712f-434a-ef90-836a4d89a980"
      },
      "execution_count": 4,
      "outputs": [
        {
          "output_type": "stream",
          "name": "stdout",
          "text": [
            "           min  max\n",
            "Fuel Type          \n",
            "D          1.6  3.0\n",
            "E          2.0  6.2\n",
            "N          3.6  3.6\n",
            "X          1.0  6.8\n",
            "Z          0.9  8.4\n"
          ]
        }
      ],
      "id": "WaGe6lTHc3m-"
    },
    {
      "cell_type": "markdown",
      "source": [
        "**4. Identify which 5 vehicle classes have the highest average combined fuel consumption.**"
      ],
      "metadata": {
        "id": "owPTRemGeFdt"
      },
      "id": "owPTRemGeFdt"
    },
    {
      "cell_type": "code",
      "source": [
        "# write your code here\n",
        "\n",
        "top_5_classes =data.groupby('Vehicle Class')['Fuel Consumption Comb (mpg)'].mean()\n",
        "print(top_5_classes.sort_values(ascending=False).head(5))"
      ],
      "metadata": {
        "id": "EYIInDkrd3Ni",
        "colab": {
          "base_uri": "https://localhost:8080/"
        },
        "outputId": "fa136323-6bed-4004-bb72-9341cdd7d3c4"
      },
      "execution_count": 5,
      "outputs": [
        {
          "output_type": "stream",
          "name": "stdout",
          "text": [
            "Vehicle Class\n",
            "STATION WAGON - SMALL       34.095238\n",
            "COMPACT                     31.737769\n",
            "MID-SIZE                    31.379523\n",
            "STATION WAGON - MID-SIZE    29.188679\n",
            "MINICOMPACT                 28.625767\n",
            "Name: Fuel Consumption Comb (mpg), dtype: float64\n"
          ]
        }
      ],
      "id": "EYIInDkrd3Ni"
    },
    {
      "cell_type": "markdown",
      "source": [
        "**5. Determine which car `make` appears most frequently in the dataset.**"
      ],
      "metadata": {
        "id": "52f7fE82eMlb"
      },
      "id": "52f7fE82eMlb"
    },
    {
      "cell_type": "code",
      "source": [
        "# write your code here\n",
        "\n",
        "most_common_make =data['Make'].value_counts().idxmax()\n",
        "print(most_common_make)"
      ],
      "metadata": {
        "id": "Ypl-wHJMeM3t",
        "colab": {
          "base_uri": "https://localhost:8080/"
        },
        "outputId": "9009c94b-46e6-412c-b3d8-142dc18a41e0"
      },
      "execution_count": 6,
      "outputs": [
        {
          "output_type": "stream",
          "name": "stdout",
          "text": [
            "FORD\n"
          ]
        }
      ],
      "id": "Ypl-wHJMeM3t"
    },
    {
      "cell_type": "markdown",
      "metadata": {
        "id": "f9acab17"
      },
      "source": [
        "**6. Find the transmission type with the lowest average CO2 emissions.** print it in the given format:\n",
        "`____ is the lowest CO2 emission average in transmission type.`"
      ],
      "id": "f9acab17"
    },
    {
      "cell_type": "code",
      "execution_count": 7,
      "metadata": {
        "id": "f1149528",
        "colab": {
          "base_uri": "https://localhost:8080/"
        },
        "outputId": "971e2ccd-987f-4f47-c47a-0065bf450d17"
      },
      "outputs": [
        {
          "output_type": "stream",
          "name": "stdout",
          "text": [
            "AM5 is the lowest CO2 emission average in transmission type.\n"
          ]
        }
      ],
      "source": [
        "# write your code here\n",
        "\n",
        "lowest_transmission =data.groupby('Transmission')['CO2 Emissions(g/km)'].mean().idxmin()\n",
        "print(\"{} is the lowest CO2 emission average in transmission type.\".format(lowest_transmission))"
      ],
      "id": "f1149528"
    },
    {
      "cell_type": "markdown",
      "metadata": {
        "id": "16f1c662"
      },
      "source": [
        "**7. Find the percentage of cars that have an engine size greater than 3.0L.** print it in the given format: `_____ of cars have an engine size greater than 3.0L.`"
      ],
      "id": "16f1c662"
    },
    {
      "cell_type": "code",
      "execution_count": 8,
      "metadata": {
        "id": "c3798e4a",
        "colab": {
          "base_uri": "https://localhost:8080/"
        },
        "outputId": "ff078fbd-8e91-4685-f168-3206b8a85cbd"
      },
      "outputs": [
        {
          "output_type": "stream",
          "name": "stdout",
          "text": [
            "42.74% of cars have an engine size greater than 3.0L.\n"
          ]
        }
      ],
      "source": [
        "# write your code here\n",
        "\n",
        "percentage_large_engine =((data[data['Engine Size(L)'] > 3.0].shape[0])/len(data)) * 100\n",
        "print(\"{:.2f}% of cars have an engine size greater than 3.0L.\".format(percentage_large_engine))"
      ],
      "id": "c3798e4a"
    },
    {
      "cell_type": "markdown",
      "metadata": {
        "id": "4fc4723f"
      },
      "source": [
        "**8. Identify the average fuel consumption for each cylinder count.**"
      ],
      "id": "4fc4723f"
    },
    {
      "cell_type": "code",
      "execution_count": 9,
      "metadata": {
        "id": "2be55cce",
        "colab": {
          "base_uri": "https://localhost:8080/"
        },
        "outputId": "b11cff12-ba00-4f10-a70f-736ff982c2c4"
      },
      "outputs": [
        {
          "output_type": "stream",
          "name": "stdout",
          "text": [
            "Cylinders\n",
            "3      7.501053\n",
            "4      8.819410\n",
            "5     10.196154\n",
            "6     11.566599\n",
            "8     14.404708\n",
            "10    15.528571\n",
            "12    16.348344\n",
            "16    22.200000\n",
            "Name: Fuel Consumption Comb (L/100 km), dtype: float64\n"
          ]
        }
      ],
      "source": [
        "# write your code here\n",
        "\n",
        "avg_fuel_by_cylinders = data.groupby('Cylinders')['Fuel Consumption Comb (L/100 km)'].mean()\n",
        "print(avg_fuel_by_cylinders)"
      ],
      "id": "2be55cce"
    },
    {
      "cell_type": "markdown",
      "metadata": {
        "id": "9765ef07"
      },
      "source": [
        "**9. Find the car model with the highest CO2 emissions for each manufacturer.**"
      ],
      "id": "9765ef07"
    },
    {
      "cell_type": "code",
      "execution_count": 10,
      "metadata": {
        "id": "066e0f6b",
        "colab": {
          "base_uri": "https://localhost:8080/"
        },
        "outputId": "c25b735f-37c1-40d7-c7f2-21f879fd3f59"
      },
      "outputs": [
        {
          "output_type": "stream",
          "name": "stdout",
          "text": [
            "               Make                              Model  CO2 Emissions(g/km)\n",
            "8             ACURA                             TL AWD                  267\n",
            "4388     ALFA ROMEO               STELVIO QUADRIFOGLIO                  292\n",
            "3331   ASTON MARTIN                      V12 VANTAGE S                  450\n",
            "48             AUDI                                 R8                  409\n",
            "5511        BENTLEY                           Mulsanne                  465\n",
            "132             BMW                               X6 M                  370\n",
            "4509        BUGATTI                             CHIRON                  522\n",
            "2357          BUICK                        ENCLAVE AWD                  323\n",
            "173        CADILLAC                        CTS-V COUPE                  382\n",
            "2434      CHEVROLET             EXPRESS 3500 PASSENGER                  465\n",
            "290        CHRYSLER                      300 SRT (MDS)                  317\n",
            "3616          DODGE                              VIPER                  387\n",
            "3630           FIAT                           500X AWD                  226\n",
            "349            FORD                         E350 WAGON                  488\n",
            "3732        GENESIS                            G80 AWD                  332\n",
            "2663            GMC              SAVANA 3500 PASSENGER                  465\n",
            "501           HONDA                      RIDGELINE AWD                  308\n",
            "2735        HYUNDAI                        GENESIS AWD                  332\n",
            "6977       INFINITI                           QX80 4WD                  360\n",
            "565          JAGUAR                    XKR CONVERTIBLE                  315\n",
            "4975           JEEP       GRAND CHEROKEE 4X4 TRACKHAWK                  413\n",
            "2845            KIA                               K900                  318\n",
            "6046    LAMBORGHINI                 Aventador Roadster                  493\n",
            "6060     LAND ROVER    Range Rover SVAutobiography LWB                  365\n",
            "7099          LEXUS                             LX 570                  395\n",
            "690         LINCOLN                  NAVIGATOR 4X4 FFV                  368\n",
            "2936       MASERATI            GRANTURISMO CONVERTIBLE                  360\n",
            "1810          MAZDA                           CX-9 4WD                  292\n",
            "2971  MERCEDES-BENZ                           AMG G 65                  476\n",
            "5207           MINI  JOHN COOPER WORKS COUNTRYMAN ALL4                  232\n",
            "823      MITSUBISHI                   LANCER EVOLUTION                  288\n",
            "864          NISSAN                          TITAN 4WD                  398\n",
            "901         PORSCHE                    CAYENNE TURBO S                  358\n",
            "5337            RAM                           1500 4X4                  382\n",
            "3179    ROLLS-ROYCE                        PHANTOM EWB                  404\n",
            "939           SCION                                 xB                  228\n",
            "3189          SMART                   FORTWO CABRIOLET                  157\n",
            "945             SRT                        VIPER COUPE                  389\n",
            "966          SUBARU                        TRIBECA AWD                  301\n",
            "7348         TOYOTA                        Sequoia 4WD                  385\n",
            "1058     VOLKSWAGEN                            TOUAREG                  296\n",
            "1070          VOLVO                           XC90 AWD                  294\n"
          ]
        }
      ],
      "source": [
        "# write your code here\n",
        "\n",
        "highest_co2_per_make =  data.loc[data.groupby('Make')['CO2 Emissions(g/km)'].idxmax(), ['Make', 'Model', 'CO2 Emissions(g/km)']]\n",
        "print(highest_co2_per_make)"
      ],
      "id": "066e0f6b"
    },
    {
      "cell_type": "markdown",
      "metadata": {
        "id": "23140802"
      },
      "source": [
        "**10. Find the average CO2 emissions for automatic vs. manual transmission cars.** print it in the given format: `Vehicle class with widest fuel consumption range: ________`"
      ],
      "id": "23140802"
    },
    {
      "cell_type": "code",
      "source": [
        "# write your code here\n",
        "data['Transmission Type'] = data['Transmission'].apply(lambda x: 'Automatic' if x.startswith('A') else 'Manual')\n",
        "\n",
        "# Step 2: Average CO2 emissions for each type\n",
        "avg_emission = data.groupby('Transmission Type')['CO2 Emissions(g/km)'].mean()\n",
        "\n",
        "# Step 3: Find vehicle class with widest fuel consumption range\n",
        "fuel_range = data.groupby('Vehicle Class')['Fuel Consumption Comb (L/100 km)'].agg(lambda x: x.max() - x.min())\n",
        "widest_class = fuel_range.idxmax()\n",
        "\n",
        "# Step 4: Print in required format\n",
        "print(f\"Vehicle class with widest fuel consumption range: {widest_class}\")"
      ],
      "metadata": {
        "id": "oHgKb_2oVWRc",
        "colab": {
          "base_uri": "https://localhost:8080/"
        },
        "outputId": "3493648c-fd50-468f-a122-a1a4902131aa"
      },
      "execution_count": 16,
      "outputs": [
        {
          "output_type": "stream",
          "name": "stdout",
          "text": [
            "Vehicle class with widest fuel consumption range: TWO-SEATER\n"
          ]
        }
      ],
      "id": "oHgKb_2oVWRc"
    },
    {
      "cell_type": "markdown",
      "source": [
        "**11. Find the average CO2 emissions for automatic vs. manual transmission cars.**"
      ],
      "metadata": {
        "id": "hyB5rSo5Idrh"
      },
      "id": "hyB5rSo5Idrh"
    },
    {
      "cell_type": "code",
      "source": [
        "# write your code here\n",
        "def map_transmission(code):\n",
        "    if code.startswith('A'):\n",
        "        return 'Automatic'\n",
        "    elif code.startswith('M'):\n",
        "        return 'Manual'\n",
        "    else:\n",
        "        return 'Other'\n",
        "data['Transmission Type'] = data['Transmission'].apply(map_transmission)\n",
        "co2_by_transmission =data.groupby('Transmission Type')['CO2 Emissions(g/km)'].mean()\n",
        "print(co2_by_transmission)"
      ],
      "metadata": {
        "id": "dtsT51QjITP0",
        "colab": {
          "base_uri": "https://localhost:8080/"
        },
        "outputId": "bc59afc0-27b1-40f3-8360-dd4e077daef1"
      },
      "execution_count": 13,
      "outputs": [
        {
          "output_type": "stream",
          "name": "stdout",
          "text": [
            "Transmission Type\n",
            "Automatic    254.835161\n",
            "Manual       228.345992\n",
            "Name: CO2 Emissions(g/km), dtype: float64\n"
          ]
        }
      ],
      "id": "dtsT51QjITP0"
    },
    {
      "cell_type": "markdown",
      "source": [
        "**12. Find the car model that has the best fuel efficiency (highest combined mpg) for each fuel type.**"
      ],
      "metadata": {
        "id": "hZWNox2vILLG"
      },
      "id": "hZWNox2vILLG"
    },
    {
      "cell_type": "code",
      "source": [
        "# write your code here\n",
        "\n",
        "best_fuel_efficiency_per_fuel = data.loc[data.groupby('Fuel Type')['Fuel Consumption Comb (mpg)'].idxmax(), ['Fuel Type', 'Make', 'Model', 'Fuel Consumption Comb (mpg)']]\n",
        "print(best_fuel_efficiency_per_fuel)"
      ],
      "metadata": {
        "id": "nrEQhgOnIBXQ",
        "colab": {
          "base_uri": "https://localhost:8080/"
        },
        "outputId": "764bd16f-b2fb-4ae6-ee46-a04747c049bc"
      },
      "execution_count": 14,
      "outputs": [
        {
          "output_type": "stream",
          "name": "stdout",
          "text": [
            "     Fuel Type        Make             Model  Fuel Consumption Comb (mpg)\n",
            "3512         D   CHEVROLET      CRUZE DIESEL                           45\n",
            "408          E        FORD     FOCUS SFE FFV                           28\n",
            "2439         N   CHEVROLET  IMPALA DUAL FUEL                           22\n",
            "3824         X     HYUNDAI        IONIQ BLUE                           69\n",
            "2171         Z  VOLKSWAGEN      JETTA HYBRID                           53\n"
          ]
        }
      ],
      "id": "nrEQhgOnIBXQ"
    },
    {
      "cell_type": "markdown",
      "source": [
        "**13. Compare the average engine size of vehicles with CO2 emissions above vs. below the median.**"
      ],
      "metadata": {
        "id": "qlCVvEc0IB5P"
      },
      "id": "qlCVvEc0IB5P"
    },
    {
      "cell_type": "code",
      "source": [
        "# write your code here\n",
        "\n",
        "median_co2 =data['CO2 Emissions(g/km)'].median()\n",
        "print(data.groupby(data['CO2 Emissions(g/km)'] > median_co2)['Engine Size(L)'].mean())"
      ],
      "metadata": {
        "id": "phHAZloDH7-y",
        "colab": {
          "base_uri": "https://localhost:8080/"
        },
        "outputId": "e589b1c5-570d-471e-9eb4-22a204d01851"
      },
      "execution_count": 15,
      "outputs": [
        {
          "output_type": "stream",
          "name": "stdout",
          "text": [
            "CO2 Emissions(g/km)\n",
            "False    2.198613\n",
            "True     4.151939\n",
            "Name: Engine Size(L), dtype: float64\n"
          ]
        }
      ],
      "id": "phHAZloDH7-y"
    },
    {
      "cell_type": "markdown",
      "source": [
        "# END!"
      ],
      "metadata": {
        "id": "54sZvQm-gvNq"
      },
      "id": "54sZvQm-gvNq"
    }
  ],
  "metadata": {
    "kernelspec": {
      "display_name": "Python 3 (ipykernel)",
      "language": "python",
      "name": "python3"
    },
    "language_info": {
      "codemirror_mode": {
        "name": "ipython",
        "version": 3
      },
      "file_extension": ".py",
      "mimetype": "text/x-python",
      "name": "python",
      "nbconvert_exporter": "python",
      "pygments_lexer": "ipython3",
      "version": "3.9.7"
    },
    "colab": {
      "provenance": [],
      "include_colab_link": true
    }
  },
  "nbformat": 4,
  "nbformat_minor": 5
}