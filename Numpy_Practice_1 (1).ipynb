{
  "nbformat": 4,
  "nbformat_minor": 0,
  "metadata": {
    "colab": {
      "provenance": []
    },
    "kernelspec": {
      "name": "python3",
      "display_name": "Python 3"
    },
    "language_info": {
      "name": "python"
    }
  },
  "cells": [
    {
      "cell_type": "markdown",
      "source": [
        "Welcome to the NumPy practice exercise! Please follow these instructions carefully to complete your assignment:\n",
        "\n",
        "1. **Read Each Question Carefully**: Make sure to understand what is being asked before you start coding.\n",
        "\n",
        "2. **Write Your Code in the Provided Cells**: For each question, you will find a corresponding code cell where you should write your solution.\n",
        "\n",
        "3. **Run Your Code**: After writing your code, run the cell to ensure that your solution works as expected. Check the output and make sure it meets the requirements specified in the question.\n",
        "\n",
        "4. **Complete All Questions**: Make sure you answer all the questions provided. Each question has been included to assess a different skill or concept in NumPy.\n",
        "\n",
        "5. **Download Your Notebook**: Once you have completed all questions and verified that your solutions are correct, download your notebook file (.ipynb). You can do this by selecting `File > Download > Download .ipynb` from the menu.\n",
        "\n",
        "6. **Submit Your Work**: Upload the downloaded `.ipynb` file to the designated learning platform for submission.\n",
        "\n",
        "7. **Check Your Submission**: Ensure that you have submitted the correct file and that it is not corrupted. If there are any issues with the file, you may need to resubmit.\n",
        "\n",
        "Good luck, and happy coding!"
      ],
      "metadata": {
        "id": "Q6iHeLrHLG3D"
      }
    },
    {
      "cell_type": "markdown",
      "source": [
        "## Import library\n",
        "- Do not modify the given attributes. Execute the below code cells sequencially to get the data."
      ],
      "metadata": {
        "id": "Hf2Wc35UgGD2"
      }
    },
    {
      "cell_type": "code",
      "execution_count": 1,
      "metadata": {
        "id": "qnzsP323dx5r"
      },
      "outputs": [],
      "source": [
        "import numpy as np"
      ]
    },
    {
      "cell_type": "markdown",
      "source": [
        "Q1. Create an array of 10 zeros."
      ],
      "metadata": {
        "id": "FznKZC8LuYvS"
      }
    },
    {
      "cell_type": "code",
      "source": [
        "array_zeros =np.zeros(10)\n",
        "print(array_zeros)"
      ],
      "metadata": {
        "id": "uIA0RMk8mnTu",
        "colab": {
          "base_uri": "https://localhost:8080/"
        },
        "outputId": "8588a153-3170-4929-8980-a0616e8c89d7"
      },
      "execution_count": 3,
      "outputs": [
        {
          "output_type": "execute_result",
          "data": {
            "text/plain": [
              "array([0., 0., 0., 0., 0., 0., 0., 0., 0., 0.])"
            ]
          },
          "metadata": {},
          "execution_count": 3
        }
      ]
    },
    {
      "cell_type": "markdown",
      "source": [
        "Q2. Create an array of 10 ones and the fifth value which is 0."
      ],
      "metadata": {
        "id": "dcGpvA0WuYvV"
      }
    },
    {
      "cell_type": "code",
      "source": [
        "array_ones =np.ones(10)\n",
        "array_ones[4]=0\n",
        "print(array_ones)"
      ],
      "metadata": {
        "id": "_A7AKRLJmn1W",
        "colab": {
          "base_uri": "https://localhost:8080/"
        },
        "outputId": "ed5b016f-5a94-40f7-9373-c80308561219"
      },
      "execution_count": 4,
      "outputs": [
        {
          "output_type": "execute_result",
          "data": {
            "text/plain": [
              "array([1., 1., 1., 1., 0., 1., 1., 1., 1., 1.])"
            ]
          },
          "metadata": {},
          "execution_count": 4
        }
      ]
    },
    {
      "cell_type": "markdown",
      "source": [
        "Q.3 Create an array of 10 fives"
      ],
      "metadata": {
        "id": "AMq8vYukuYvW"
      }
    },
    {
      "cell_type": "code",
      "source": [
        "array_fives =np.full(10,fill_value=5)\n",
        "print(array_fives)"
      ],
      "metadata": {
        "id": "JzDoZkZmm8bw",
        "colab": {
          "base_uri": "https://localhost:8080/"
        },
        "outputId": "e0685662-ef59-4af2-b285-d53fd56f8c85"
      },
      "execution_count": 6,
      "outputs": [
        {
          "output_type": "execute_result",
          "data": {
            "text/plain": [
              "array([5, 5, 5, 5, 5, 5, 5, 5, 5, 5])"
            ]
          },
          "metadata": {},
          "execution_count": 6
        }
      ]
    },
    {
      "cell_type": "markdown",
      "source": [
        "Q.4 Create an array of the integers from 10 to 50."
      ],
      "metadata": {
        "id": "z8v3M_s9uYvX"
      }
    },
    {
      "cell_type": "code",
      "source": [
        "array_integers =np.arange(10,51)\n",
        "print(array_integers)"
      ],
      "metadata": {
        "id": "ZMlFe0nRmosz",
        "colab": {
          "base_uri": "https://localhost:8080/"
        },
        "outputId": "2c4beb7d-c637-4379-cf55-802cd2955a09"
      },
      "execution_count": 9,
      "outputs": [
        {
          "output_type": "execute_result",
          "data": {
            "text/plain": [
              "array([10, 11, 12, 13, 14, 15, 16, 17, 18, 19, 20, 21, 22, 23, 24, 25, 26,\n",
              "       27, 28, 29, 30, 31, 32, 33, 34, 35, 36, 37, 38, 39, 40, 41, 42, 43,\n",
              "       44, 45, 46, 47, 48, 49, 50])"
            ]
          },
          "metadata": {},
          "execution_count": 9
        }
      ]
    },
    {
      "cell_type": "markdown",
      "source": [
        "Q.5 Create an array of all even integers from 10 to 50."
      ],
      "metadata": {
        "id": "ynbwVFlAuYvY"
      }
    },
    {
      "cell_type": "code",
      "source": [
        "array_even_integers =np.arange(10,51,2)\n",
        "print(array_even_integers)"
      ],
      "metadata": {
        "id": "wLyuCT3kmpFN",
        "colab": {
          "base_uri": "https://localhost:8080/"
        },
        "outputId": "3eb494b8-de57-45c0-8195-d823fd88d4b9"
      },
      "execution_count": 11,
      "outputs": [
        {
          "output_type": "execute_result",
          "data": {
            "text/plain": [
              "array([10, 12, 14, 16, 18, 20, 22, 24, 26, 28, 30, 32, 34, 36, 38, 40, 42,\n",
              "       44, 46, 48, 50])"
            ]
          },
          "metadata": {},
          "execution_count": 11
        }
      ]
    },
    {
      "cell_type": "markdown",
      "source": [
        "Q.6 Create a 3x3 matrix with values ranging from 0 to 8.\n",
        "\n",
        "\n"
      ],
      "metadata": {
        "id": "vVKW-O_muYvZ"
      }
    },
    {
      "cell_type": "code",
      "source": [
        "matrix_3x3 =np.arange(0,9)\n",
        "matrix_3x3=matrix_3x3.reshape((3,3))\n",
        "print(matrix_3x3)"
      ],
      "metadata": {
        "id": "i1BoYEXampu3",
        "colab": {
          "base_uri": "https://localhost:8080/"
        },
        "outputId": "83b09128-2892-451b-dc26-d6645d7eb73c"
      },
      "execution_count": 14,
      "outputs": [
        {
          "output_type": "execute_result",
          "data": {
            "text/plain": [
              "array([[0, 1, 2],\n",
              "       [3, 4, 5],\n",
              "       [6, 7, 8]])"
            ]
          },
          "metadata": {},
          "execution_count": 14
        }
      ]
    },
    {
      "cell_type": "markdown",
      "source": [
        "Q.7 Create a 4x4 identity matrix."
      ],
      "metadata": {
        "id": "VawNfYGOuYvZ"
      }
    },
    {
      "cell_type": "code",
      "source": [
        "identity_matrix =np.eye(4)\n",
        "print(identity_matrix)"
      ],
      "metadata": {
        "id": "mFBL6NtKmqPB",
        "colab": {
          "base_uri": "https://localhost:8080/"
        },
        "outputId": "358ceb56-5325-44f0-999f-b63b3ea59909"
      },
      "execution_count": 16,
      "outputs": [
        {
          "output_type": "execute_result",
          "data": {
            "text/plain": [
              "array([[1., 0., 0., 0.],\n",
              "       [0., 1., 0., 0.],\n",
              "       [0., 0., 1., 0.],\n",
              "       [0., 0., 0., 1.]])"
            ]
          },
          "metadata": {},
          "execution_count": 16
        }
      ]
    },
    {
      "cell_type": "markdown",
      "source": [
        "Q.8 Create a 5x5 matrix with values from 1 to 25."
      ],
      "metadata": {
        "id": "FA-qBLD4uYvd"
      }
    },
    {
      "cell_type": "code",
      "source": [
        "matrix_5x5 =np.arange(1,26)\n",
        "matrix_5x5= matrix_5x5.reshape((5,5))\n",
        "print(matrix_5x5)"
      ],
      "metadata": {
        "id": "_onDEx6Smq4u",
        "colab": {
          "base_uri": "https://localhost:8080/"
        },
        "outputId": "505b0309-148b-4477-dc94-582ef01f1136"
      },
      "execution_count": 18,
      "outputs": [
        {
          "output_type": "execute_result",
          "data": {
            "text/plain": [
              "array([[ 1,  2,  3,  4,  5],\n",
              "       [ 6,  7,  8,  9, 10],\n",
              "       [11, 12, 13, 14, 15],\n",
              "       [16, 17, 18, 19, 20],\n",
              "       [21, 22, 23, 24, 25]])"
            ]
          },
          "metadata": {},
          "execution_count": 18
        }
      ]
    },
    {
      "cell_type": "markdown",
      "source": [
        "Q.9 create the following matrix\n",
        "\n",
        "```python\n",
        "array([0.01, 0.02, 0.03, 0.04, 0.05, 0.06, 0.07, 0.08, 0.09, 0.1 , 0.11,\n",
        "       0.12, 0.13, 0.14, 0.15, 0.16, 0.17, 0.18, 0.19, 0.2 , 0.21, 0.22,\n",
        "       0.23, 0.24, 0.25, 0.26, 0.27, 0.28, 0.29, 0.3 , 0.31, 0.32, 0.33,\n",
        "       0.34, 0.35, 0.36, 0.37, 0.38, 0.39, 0.4 , 0.41, 0.42, 0.43, 0.44,\n",
        "       0.45, 0.46, 0.47, 0.48, 0.49, 0.5 , 0.51, 0.52, 0.53, 0.54, 0.55,\n",
        "       0.56, 0.57, 0.58, 0.59, 0.6 , 0.61, 0.62, 0.63, 0.64, 0.65, 0.66,\n",
        "       0.67, 0.68, 0.69, 0.7 , 0.71, 0.72, 0.73, 0.74, 0.75, 0.76, 0.77,\n",
        "       0.78, 0.79, 0.8 , 0.81, 0.82, 0.83, 0.84, 0.85, 0.86, 0.87, 0.88,\n",
        "       0.89, 0.9 , 0.91, 0.92, 0.93, 0.94, 0.95, 0.96, 0.97, 0.98, 0.99,\n",
        "       1.  ])\n",
        "\n",
        "  ```"
      ],
      "metadata": {
        "id": "7FGXTN6YuYve"
      }
    },
    {
      "cell_type": "code",
      "source": [
        "specified_array =np.arange(1,101)\n",
        "print(specified_array/100)"
      ],
      "metadata": {
        "id": "PYwMIGr0mr9e",
        "colab": {
          "base_uri": "https://localhost:8080/"
        },
        "outputId": "d9968783-ed25-41ab-ac78-7158829b8b0e"
      },
      "execution_count": 19,
      "outputs": [
        {
          "output_type": "execute_result",
          "data": {
            "text/plain": [
              "array([0.01, 0.02, 0.03, 0.04, 0.05, 0.06, 0.07, 0.08, 0.09, 0.1 , 0.11,\n",
              "       0.12, 0.13, 0.14, 0.15, 0.16, 0.17, 0.18, 0.19, 0.2 , 0.21, 0.22,\n",
              "       0.23, 0.24, 0.25, 0.26, 0.27, 0.28, 0.29, 0.3 , 0.31, 0.32, 0.33,\n",
              "       0.34, 0.35, 0.36, 0.37, 0.38, 0.39, 0.4 , 0.41, 0.42, 0.43, 0.44,\n",
              "       0.45, 0.46, 0.47, 0.48, 0.49, 0.5 , 0.51, 0.52, 0.53, 0.54, 0.55,\n",
              "       0.56, 0.57, 0.58, 0.59, 0.6 , 0.61, 0.62, 0.63, 0.64, 0.65, 0.66,\n",
              "       0.67, 0.68, 0.69, 0.7 , 0.71, 0.72, 0.73, 0.74, 0.75, 0.76, 0.77,\n",
              "       0.78, 0.79, 0.8 , 0.81, 0.82, 0.83, 0.84, 0.85, 0.86, 0.87, 0.88,\n",
              "       0.89, 0.9 , 0.91, 0.92, 0.93, 0.94, 0.95, 0.96, 0.97, 0.98, 0.99,\n",
              "       1.  ])"
            ]
          },
          "metadata": {},
          "execution_count": 19
        }
      ]
    },
    {
      "cell_type": "markdown",
      "source": [
        "Q.10 Create an array of 20 linearly spaced points between 0 and 1."
      ],
      "metadata": {
        "id": "kwRSHCD-gIqN"
      }
    },
    {
      "cell_type": "code",
      "source": [
        "linear_spaced_array=np.linspace(0,1,20)\n",
        "print(linear_spaced_array)"
      ],
      "metadata": {
        "id": "9-ZSXmikmvfn",
        "colab": {
          "base_uri": "https://localhost:8080/"
        },
        "outputId": "795ef9ca-5b68-4b43-f1fc-9b4685c06263"
      },
      "execution_count": 21,
      "outputs": [
        {
          "output_type": "execute_result",
          "data": {
            "text/plain": [
              "array([0.        , 0.05263158, 0.10526316, 0.15789474, 0.21052632,\n",
              "       0.26315789, 0.31578947, 0.36842105, 0.42105263, 0.47368421,\n",
              "       0.52631579, 0.57894737, 0.63157895, 0.68421053, 0.73684211,\n",
              "       0.78947368, 0.84210526, 0.89473684, 0.94736842, 1.        ])"
            ]
          },
          "metadata": {},
          "execution_count": 21
        }
      ]
    },
    {
      "cell_type": "markdown",
      "source": [
        "# End!"
      ],
      "metadata": {
        "id": "h6vWhp1zuYvg"
      }
    }
  ]
}