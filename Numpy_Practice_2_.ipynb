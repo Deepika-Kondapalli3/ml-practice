{
  "nbformat": 4,
  "nbformat_minor": 0,
  "metadata": {
    "colab": {
      "provenance": [],
      "include_colab_link": true
    },
    "kernelspec": {
      "name": "python3",
      "display_name": "Python 3"
    },
    "language_info": {
      "name": "python"
    }
  },
  "cells": [
    {
      "cell_type": "markdown",
      "metadata": {
        "id": "view-in-github",
        "colab_type": "text"
      },
      "source": [
        "<a href=\"https://colab.research.google.com/github/Deepika-Kondapalli3/ml-practice/blob/main/Numpy_Practice_2_.ipynb\" target=\"_parent\"><img src=\"https://colab.research.google.com/assets/colab-badge.svg\" alt=\"Open In Colab\"/></a>"
      ]
    },
    {
      "cell_type": "markdown",
      "source": [
        "Welcome to the NumPy practice exercise! Please follow these instructions carefully to complete your assignment:\n",
        "\n",
        "1. **Read Each Question Carefully**: Each question is designed to test different aspects of your NumPy skills. Make sure to understand what is being asked before you start coding.\n",
        "\n",
        "2. **Write Your Code in the Provided Cells**: For each question, you will find a corresponding code cell where you should write your solution. Do not modify any other part of the notebook.\n",
        "\n",
        "3. **Run Your Code**: After writing your code, run the cell to ensure that your solution works as expected. Check the output and make sure it meets the requirements specified in the question.\n",
        "\n",
        "4. **Complete All Questions**: Make sure you answer all the questions provided. Each question has been included to assess a different skill or concept in NumPy.\n",
        "\n",
        "5. **Download Your Notebook**: Once you have completed all questions and verified that your solutions are correct, download your notebook file (.ipynb). You can do this by selecting `File > Download > Download .ipynb` from the menu.\n",
        "\n",
        "6. **Submit Your Work**: Upload the downloaded `.ipynb` file to the designated learning platform for submission.\n",
        "\n",
        "7. **Check Your Submission**: Ensure that you have submitted the correct file and that it is not corrupted. If there are any issues with the file, you may need to resubmit.\n",
        "\n",
        "Good luck, and happy coding!"
      ],
      "metadata": {
        "id": "o3lXLzMUPXIV"
      }
    },
    {
      "cell_type": "markdown",
      "source": [
        "## Import library\n",
        "- Do not modify the given attributes. Execute the below code cells sequencially to get the data."
      ],
      "metadata": {
        "id": "Hf2Wc35UgGD2"
      }
    },
    {
      "cell_type": "code",
      "source": [
        "import numpy as np"
      ],
      "metadata": {
        "id": "vuyLKwkwzBV7"
      },
      "execution_count": 1,
      "outputs": []
    },
    {
      "cell_type": "markdown",
      "source": [
        "Q.1 Create a 5x5 array, with numbers ranging from 1-25 and save it in `matrix` variable.\n",
        "(Use the same `matrix` creation code in all the code cells were questions are based on matrix.)"
      ],
      "metadata": {
        "id": "k1C3DajogUjR"
      }
    },
    {
      "cell_type": "code",
      "source": [
        "# write your code here\n",
        "matrix =np.arange(1,26).reshape(5,5)\n",
        "print(matrix)"
      ],
      "metadata": {
        "id": "_BJZtMA3zxNH",
        "colab": {
          "base_uri": "https://localhost:8080/"
        },
        "outputId": "eb163c49-3c33-4b0e-f689-0a35179548f8"
      },
      "execution_count": 2,
      "outputs": [
        {
          "output_type": "stream",
          "name": "stdout",
          "text": [
            "[[ 1  2  3  4  5]\n",
            " [ 6  7  8  9 10]\n",
            " [11 12 13 14 15]\n",
            " [16 17 18 19 20]\n",
            " [21 22 23 24 25]]\n"
          ]
        }
      ]
    },
    {
      "cell_type": "markdown",
      "source": [
        "Q.2 select the subset from `matrix`\n",
        "```python\n",
        "Expected output\n",
        "[[12,13,14,15],\n",
        " [17,18,18,20],\n",
        " [22,23,24,25]]\n",
        "```"
      ],
      "metadata": {
        "id": "gf1j1Axbgjqc"
      }
    },
    {
      "cell_type": "code",
      "source": [
        "# write your code here\n",
        "matrix =np.arange(1,26).reshape(5,5)\n",
        "subset_q2 =matrix[2:,1:]\n",
        "print(subset_q2)"
      ],
      "metadata": {
        "id": "QH7-PV1tz-iQ",
        "colab": {
          "base_uri": "https://localhost:8080/"
        },
        "outputId": "f4b83869-b568-449a-fd21-04176a7ef51d"
      },
      "execution_count": 52,
      "outputs": [
        {
          "output_type": "stream",
          "name": "stdout",
          "text": [
            "[[12 13 14 15]\n",
            " [17 18 19 20]\n",
            " [22 23 24 25]]\n"
          ]
        }
      ]
    },
    {
      "cell_type": "markdown",
      "source": [
        "Q.3 Select the value 20 from the `matrix`"
      ],
      "metadata": {
        "id": "pMbeh4-UhGGl"
      }
    },
    {
      "cell_type": "code",
      "source": [
        "# write your code here\n",
        "matrix =np.arange(1,26).reshape(5,5)\n",
        "value_20 =matrix[3,4]\n",
        "print(value_20)"
      ],
      "metadata": {
        "id": "dm93VE1y0GqH",
        "colab": {
          "base_uri": "https://localhost:8080/"
        },
        "outputId": "9cfe4ebf-f978-46cc-f1d4-cc12e2a4b3e8"
      },
      "execution_count": 4,
      "outputs": [
        {
          "output_type": "stream",
          "name": "stdout",
          "text": [
            "20\n"
          ]
        }
      ]
    },
    {
      "cell_type": "markdown",
      "source": [
        "Q.4 Select the below subset.(Use `matrix`)\n",
        "```python\n",
        "Expected output\n",
        "[[2],\n",
        " [7],\n",
        " [12]]\n",
        "```\n"
      ],
      "metadata": {
        "id": "BcbS6z8ChM_r"
      }
    },
    {
      "cell_type": "code",
      "source": [
        "# write your code here\n",
        "matrix =np.arange(1,26).reshape(5,5)\n",
        "subset_q4 =matrix[0:3,1]\n",
        "print(np.array(subset_q4).reshape(3,1))"
      ],
      "metadata": {
        "id": "01XCTkNq5Fri",
        "colab": {
          "base_uri": "https://localhost:8080/"
        },
        "outputId": "5a5dd0e6-43ed-46d7-e8ed-5b06a31fd7c2"
      },
      "execution_count": 12,
      "outputs": [
        {
          "output_type": "stream",
          "name": "stdout",
          "text": [
            "[[ 2]\n",
            " [ 7]\n",
            " [12]]\n"
          ]
        }
      ]
    },
    {
      "cell_type": "markdown",
      "source": [
        "Q.5 Select the below subset. (Use `matrix`)\n",
        "```python\n",
        "Expected output\n",
        "[21,22,23,24,25]\n",
        "```"
      ],
      "metadata": {
        "id": "sdYFbRE9hoDe"
      }
    },
    {
      "cell_type": "code",
      "source": [
        "# write your code here\n",
        "matrix =np.arange(1,26).reshape(5,5)\n",
        "subset_q5 =matrix[4]\n",
        "print(subset_q5)"
      ],
      "metadata": {
        "id": "uifXjTcE5I_U",
        "colab": {
          "base_uri": "https://localhost:8080/"
        },
        "outputId": "ef070538-b38f-4b94-e024-8182d15a2991"
      },
      "execution_count": 14,
      "outputs": [
        {
          "output_type": "stream",
          "name": "stdout",
          "text": [
            "[21 22 23 24 25]\n"
          ]
        }
      ]
    },
    {
      "cell_type": "markdown",
      "source": [
        "Q.6 Select the subset below (Use `matrix`)\n",
        "```python\n",
        "Expected output\n",
        "[[16,17,18,19,20],\n",
        " [21,22,23,24,25]]\n",
        "```\n",
        "\n"
      ],
      "metadata": {
        "id": "kLtHZ-Zlh2Xn"
      }
    },
    {
      "cell_type": "code",
      "source": [
        "# write your code here\n",
        "matrix =np.arange(1,26).reshape(5,5)\n",
        "subset_q6 =matrix[3:]\n",
        "print(subset_q6)"
      ],
      "metadata": {
        "id": "QU9t3IjN5NAC",
        "colab": {
          "base_uri": "https://localhost:8080/"
        },
        "outputId": "cc788f5f-7b38-4af0-ebad-7939fc97744b"
      },
      "execution_count": 16,
      "outputs": [
        {
          "output_type": "stream",
          "name": "stdout",
          "text": [
            "[[16 17 18 19 20]\n",
            " [21 22 23 24 25]]\n"
          ]
        }
      ]
    },
    {
      "cell_type": "markdown",
      "source": [
        "Q.7 Get the sum of all the values in `matrix`. (Expected Ans : 325)"
      ],
      "metadata": {
        "id": "s9euxthkiWfE"
      }
    },
    {
      "cell_type": "code",
      "source": [
        "# write your code here\n",
        "matrix =np.arange(1,26).reshape(5,5)\n",
        "sum_matrix =np.sum(matrix)\n",
        "print(sum_matrix)"
      ],
      "metadata": {
        "id": "N_sZcTjO5TJS",
        "colab": {
          "base_uri": "https://localhost:8080/"
        },
        "outputId": "1282424e-d10d-4e55-fd71-f312416f8c6f"
      },
      "execution_count": 17,
      "outputs": [
        {
          "output_type": "stream",
          "name": "stdout",
          "text": [
            "325\n"
          ]
        }
      ]
    },
    {
      "cell_type": "markdown",
      "source": [
        "Q.8 Get the standard deviation of the values in `matrix`(Expected Ans : 7.211102551)"
      ],
      "metadata": {
        "id": "LsMfKuulih38"
      }
    },
    {
      "cell_type": "code",
      "source": [
        "# write your code here\n",
        "matrix =np.arange(1,26).reshape(5,5)\n",
        "std_dev_matrix =np.std(matrix).round(9)\n",
        "print(std_dev_matrix)"
      ],
      "metadata": {
        "id": "bdWB1R6X5Vih",
        "colab": {
          "base_uri": "https://localhost:8080/"
        },
        "outputId": "cb37e1e9-dcbe-4be8-d0b6-f40fb945644f"
      },
      "execution_count": 57,
      "outputs": [
        {
          "output_type": "stream",
          "name": "stdout",
          "text": [
            "7.211102551\n"
          ]
        }
      ]
    },
    {
      "cell_type": "markdown",
      "source": [
        "Q.9 Get the sum of all the columns in `matrix`. (Expected Ans: array([55,60,65,70,75])"
      ],
      "metadata": {
        "id": "eUve8iSbiwZ5"
      }
    },
    {
      "cell_type": "code",
      "source": [
        "# write your code here\n",
        "matrix =np.arange(1,26).reshape(5,5)\n",
        "sum_columns =np.sum(matrix, axis=0)\n",
        "print(sum_columns)"
      ],
      "metadata": {
        "id": "39u0Qk5I5a79",
        "colab": {
          "base_uri": "https://localhost:8080/"
        },
        "outputId": "a7c09443-3949-41d0-c443-e9979f8e5461"
      },
      "execution_count": 20,
      "outputs": [
        {
          "output_type": "stream",
          "name": "stdout",
          "text": [
            "[55 60 65 70 75]\n"
          ]
        }
      ]
    },
    {
      "cell_type": "markdown",
      "source": [
        "Q.10 Reverse a 1D array of 1 to 10."
      ],
      "metadata": {
        "id": "lh6rn-DvjFod"
      }
    },
    {
      "cell_type": "code",
      "source": [
        "# write your code here\n",
        "array_to_reverse =np.arange(1,11)\n",
        "reversed_array =array_to_reverse[::-1]\n",
        "print(reversed_array)"
      ],
      "metadata": {
        "id": "Jeux35Vt5fba",
        "colab": {
          "base_uri": "https://localhost:8080/"
        },
        "outputId": "26da0a83-9bef-4f1c-ee16-471a9be69dcc"
      },
      "execution_count": 27,
      "outputs": [
        {
          "output_type": "stream",
          "name": "stdout",
          "text": [
            "[10  9  8  7  6  5  4  3  2  1]\n"
          ]
        }
      ]
    },
    {
      "cell_type": "markdown",
      "source": [
        "Q.11 Find indices of non-zero elements from [10,20,0,0,40,0]"
      ],
      "metadata": {
        "id": "wkFz7Rp0jLC0"
      }
    },
    {
      "cell_type": "code",
      "source": [
        "# write your code here\n",
        "non_zero_indices =np.array([10,20,0,0,40,0])\n",
        "print(np.nonzero(non_zero_indices))"
      ],
      "metadata": {
        "id": "lyPUuKgT5lKS",
        "colab": {
          "base_uri": "https://localhost:8080/"
        },
        "outputId": "093cf9f0-0074-4185-c543-fcc6f04477b0"
      },
      "execution_count": 33,
      "outputs": [
        {
          "output_type": "stream",
          "name": "stdout",
          "text": [
            "(array([0, 1, 4]),)\n"
          ]
        }
      ]
    },
    {
      "cell_type": "markdown",
      "source": [
        "Q.12 Create a 10x10 array with 1 on the border and 0 inside."
      ],
      "metadata": {
        "id": "Co8OTEJ6jf6e"
      }
    },
    {
      "cell_type": "code",
      "source": [
        "# write your code here\n",
        "bordered_array =np.zeros((10,10))\n",
        "bordered_array[0,:]=1\n",
        "bordered_array[-1,:]=1\n",
        "bordered_array[:,0]=1\n",
        "bordered_array[:,-1]=1\n",
        "print(bordered_array)"
      ],
      "metadata": {
        "id": "KuKYt8QA5wKs",
        "colab": {
          "base_uri": "https://localhost:8080/"
        },
        "outputId": "d098f1c2-9163-458e-bf21-3419d06de894"
      },
      "execution_count": 53,
      "outputs": [
        {
          "output_type": "stream",
          "name": "stdout",
          "text": [
            "[[1. 1. 1. 1. 1. 1. 1. 1. 1. 1.]\n",
            " [1. 0. 0. 0. 0. 0. 0. 0. 0. 1.]\n",
            " [1. 0. 0. 0. 0. 0. 0. 0. 0. 1.]\n",
            " [1. 0. 0. 0. 0. 0. 0. 0. 0. 1.]\n",
            " [1. 0. 0. 0. 0. 0. 0. 0. 0. 1.]\n",
            " [1. 0. 0. 0. 0. 0. 0. 0. 0. 1.]\n",
            " [1. 0. 0. 0. 0. 0. 0. 0. 0. 1.]\n",
            " [1. 0. 0. 0. 0. 0. 0. 0. 0. 1.]\n",
            " [1. 0. 0. 0. 0. 0. 0. 0. 0. 1.]\n",
            " [1. 1. 1. 1. 1. 1. 1. 1. 1. 1.]]\n"
          ]
        }
      ]
    },
    {
      "cell_type": "markdown",
      "source": [
        "Q. 13 Create 5x5 array and fill it with the cheakerboard pattern."
      ],
      "metadata": {
        "id": "3JLtpLvmjwyZ"
      }
    },
    {
      "cell_type": "code",
      "source": [
        "# write your code here\n",
        "checkerboard =np.ones((5,5))\n",
        "checkerboard[::2,1::2]=0\n",
        "checkerboard[1::2,::2]=0\n",
        "print(checkerboard)"
      ],
      "metadata": {
        "id": "MVh7FqWU53-L",
        "colab": {
          "base_uri": "https://localhost:8080/"
        },
        "outputId": "8636f28e-ae4d-4a72-a1f9-5182ccb0d98e"
      },
      "execution_count": 56,
      "outputs": [
        {
          "output_type": "stream",
          "name": "stdout",
          "text": [
            "[[1. 0. 1. 0. 1.]\n",
            " [0. 1. 0. 1. 0.]\n",
            " [1. 0. 1. 0. 1.]\n",
            " [0. 1. 0. 1. 0.]\n",
            " [1. 0. 1. 0. 1.]]\n"
          ]
        }
      ]
    },
    {
      "cell_type": "markdown",
      "source": [
        "Q.14 Create a numpy array of size 10 with values ranging from 0 to 1, both excluded."
      ],
      "metadata": {
        "id": "1PjyOeDAj8KP"
      }
    },
    {
      "cell_type": "code",
      "source": [
        "# write your code here\n",
        "excluded_array =np.linspace(0.1,0.9,10)\n",
        "print(excluded_array)"
      ],
      "metadata": {
        "id": "fktgLBDu5-ty",
        "colab": {
          "base_uri": "https://localhost:8080/"
        },
        "outputId": "1d58a2f5-cdc6-4901-ee4c-f9743fdae620"
      },
      "execution_count": 55,
      "outputs": [
        {
          "output_type": "stream",
          "name": "stdout",
          "text": [
            "[0.1        0.18888889 0.27777778 0.36666667 0.45555556 0.54444444\n",
            " 0.63333333 0.72222222 0.81111111 0.9       ]\n"
          ]
        }
      ]
    },
    {
      "cell_type": "markdown",
      "source": [
        "Q.15 Create the matrix as array_5x5 (0-25) and swap first two rows."
      ],
      "metadata": {
        "id": "-RHfc3ymkh_C"
      }
    },
    {
      "cell_type": "code",
      "source": [
        "# write your code here\n",
        "array_5x5 =np.arange(25).reshape(5,5)\n",
        "array_5x5[[0,1]]=array_5x5[[1,0]]\n",
        "print(array_5x5)"
      ],
      "metadata": {
        "id": "WaQd7O7K931D",
        "colab": {
          "base_uri": "https://localhost:8080/"
        },
        "outputId": "60faf9ff-2dfc-40bb-a81e-066b0da8c9c0"
      },
      "execution_count": 51,
      "outputs": [
        {
          "output_type": "stream",
          "name": "stdout",
          "text": [
            "[[ 5  6  7  8  9]\n",
            " [ 0  1  2  3  4]\n",
            " [10 11 12 13 14]\n",
            " [15 16 17 18 19]\n",
            " [20 21 22 23 24]]\n"
          ]
        }
      ]
    },
    {
      "cell_type": "markdown",
      "source": [
        "# End!"
      ],
      "metadata": {
        "id": "3RtCSNU_nZGs"
      }
    }
  ]
}