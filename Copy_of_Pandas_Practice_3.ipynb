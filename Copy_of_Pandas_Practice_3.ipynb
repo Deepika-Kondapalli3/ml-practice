{
  "nbformat": 4,
  "nbformat_minor": 0,
  "metadata": {
    "colab": {
      "provenance": [],
      "include_colab_link": true
    },
    "kernelspec": {
      "name": "python3",
      "display_name": "Python 3"
    },
    "language_info": {
      "name": "python"
    }
  },
  "cells": [
    {
      "cell_type": "markdown",
      "metadata": {
        "id": "view-in-github",
        "colab_type": "text"
      },
      "source": [
        "<a href=\"https://colab.research.google.com/github/Deepika-Kondapalli3/ml-practice/blob/main/Copy_of_Pandas_Practice_3.ipynb\" target=\"_parent\"><img src=\"https://colab.research.google.com/assets/colab-badge.svg\" alt=\"Open In Colab\"/></a>"
      ]
    },
    {
      "cell_type": "markdown",
      "source": [
        "# Instructions for Pandas  Practice\n",
        "---\n",
        "Welcome to the Pandas Practice! In this exercise, you will work with the Rick and Morty dataset to practice your data manipulation and analysis skills using Pandas. Please follow the instructions below carefully:\n",
        "\n",
        "1. **Understand the Dataset**: The dataset used in this practice is related to the Rick and Morty TV show. Familiarize yourself with the dataset's structure and content before starting.\n",
        "\n",
        "2. **Read Each Question Thoroughly**: Each question in this practice is designed to test different Pandas functionalities. Make sure you understand the requirements of each question before you begin coding.\n",
        "\n",
        "3. **Write Your Code in the Provided Cells**: For each question, a code cell is provided where you should write your solution. Do not modify any other cells or sections of the notebook.\n",
        "\n",
        "4. **Execute Your Code**: After writing your code in each cell, run the cell to check if your code produces the expected results. Verify that the output matches the requirements specified in the question.\n",
        "\n",
        "5. **Complete All Questions**: Ensure that you attempt and complete all the questions provided in the notebook. Each question is designed to test different Pandas skills and concepts.\n",
        "\n",
        "6. **Review Your Work**: Before submitting, double-check your answers and make sure all questions are addressed. Ensure that the notebook runs without errors and that all outputs are correct.\n",
        "\n",
        "7. **Download Your Notebook**: Once you have completed all the questions and verified your solutions, download the notebook file (.ipynb). You can do this by selecting `File` > `Download` > `Download .ipynb` from the Google Colab menu.\n",
        "\n",
        "8. **Submit Your Practice**: Upload the downloaded .ipynb file to the designated learning platform for submission.\n",
        "\n",
        "9. **Verify Submission**: Ensure that you have uploaded the correct file and that it is not corrupted. If you encounter any issues with the file, you may need to resubmit.\n",
        "\n",
        "---\n",
        "\n",
        "Good luck with your Practice!"
      ],
      "metadata": {
        "id": "gSCgV4-cjmLI"
      }
    },
    {
      "cell_type": "code",
      "source": [
        "import numpy as np\n",
        "import pandas as pd\n",
        "\n",
        "character_data_url = \"https://s3.ap-south-1.amazonaws.com/new-assets.ccbp.in/frontend/content/aiml/classical-ml/locations_dataset.csv\"\n",
        "episodes_data_url = \"https://s3.ap-south-1.amazonaws.com/new-assets.ccbp.in/frontend/content/aiml/classical-ml/episodes_dataset.csv\"\n",
        "locations_data_url = \"https://s3.ap-south-1.amazonaws.com/new-assets.ccbp.in/frontend/content/aiml/classical-ml/characters_dataset.csv\"\n",
        "\n",
        "characters = pd.read_csv(character_data_url,index_col=0)\n",
        "episodes = pd.read_csv(episodes_data_url,index_col=0)\n",
        "locations = pd.read_csv(locations_data_url,index_col=0)"
      ],
      "metadata": {
        "id": "SE5uLA6lrmr3"
      },
      "execution_count": 187,
      "outputs": []
    },
    {
      "cell_type": "markdown",
      "source": [
        "Q1. List the `name`s of all episodes that were released (based on air_date) in the year 2014 and print them as a Python list.\n"
      ],
      "metadata": {
        "id": "Kew16QMUWLFk"
      }
    },
    {
      "cell_type": "code",
      "source": [
        "# write your code here\n",
        "episodes['air_date']=pd.to_datetime(episodes['air_date'])\n",
        "episodes_2014 = episodes[episodes['air_date'].dt.year==2014]['name'].tolist()\n",
        "print(episodes_2014)"
      ],
      "metadata": {
        "id": "rkHzjmKxkb1A",
        "outputId": "cb0e0323-a646-412b-fcee-3f74a40b140d",
        "colab": {
          "base_uri": "https://localhost:8080/"
        }
      },
      "execution_count": 188,
      "outputs": [
        {
          "output_type": "stream",
          "name": "stdout",
          "text": [
            "['M. Night Shaym-Aliens!', 'Meeseeks and Destroy', 'Rick Potion #9', 'Raising Gazorpazorp', 'Rixty Minutes', 'Something Ricked This Way Comes', 'Close Rick-counters of the Rick Kind', 'Ricksy Business']\n"
          ]
        }
      ]
    },
    {
      "cell_type": "markdown",
      "source": [
        "Q2. From the `episodes`, extract the year from `air_date`, determine which year has the most episodes, and print that year."
      ],
      "metadata": {
        "id": "283r5sddNZyT"
      }
    },
    {
      "cell_type": "code",
      "source": [
        "# write your code here\n",
        "episodes['air_date']=pd.to_datetime(episodes['air_date'])\n",
        "most_common_year =episodes['air_date'].dt.year.value_counts().idxmax()\n",
        "print(most_common_year)"
      ],
      "metadata": {
        "id": "vjjJohQKkcHQ",
        "outputId": "c2066758-c8ec-4a0d-80e7-e6f861c98751",
        "colab": {
          "base_uri": "https://localhost:8080/"
        }
      },
      "execution_count": 189,
      "outputs": [
        {
          "output_type": "stream",
          "name": "stdout",
          "text": [
            "2015\n"
          ]
        }
      ]
    },
    {
      "cell_type": "markdown",
      "source": [
        "Q 3. From the `episodes`, find the **earliest air date** among all episodes and print it."
      ],
      "metadata": {
        "id": "7wNIe3HpNaU4"
      }
    },
    {
      "cell_type": "code",
      "source": [
        "# write your code here\n",
        "earliest_episode =pd.to_datetime(episodes['air_date']).min()\n",
        "print(earliest_episode)"
      ],
      "metadata": {
        "id": "D6bkhkkmkcse",
        "colab": {
          "base_uri": "https://localhost:8080/"
        },
        "outputId": "90183392-0b27-4166-8484-1faf8278eb58"
      },
      "execution_count": 190,
      "outputs": [
        {
          "output_type": "stream",
          "name": "stdout",
          "text": [
            "2013-12-02 00:00:00\n"
          ]
        }
      ]
    },
    {
      "cell_type": "markdown",
      "source": [
        "Q4. From the `locations` data, find all dimensions that appear 10 or more times and print their names as a Python list."
      ],
      "metadata": {
        "id": "6EcLQ8HtWkju"
      }
    },
    {
      "cell_type": "code",
      "source": [
        "# write your code here\n",
        "counts= characters['dimension'].value_counts()\n",
        "large_dimensions =counts[counts>=10].index.tolist()\n",
        "print(large_dimensions)"
      ],
      "metadata": {
        "id": "8E35RkLkkdMP",
        "colab": {
          "base_uri": "https://localhost:8080/"
        },
        "outputId": "7dc22e41-0560-49bb-a7e3-9bc9d395a301"
      },
      "execution_count": 191,
      "outputs": [
        {
          "output_type": "stream",
          "name": "stdout",
          "text": [
            "['unknown']\n"
          ]
        }
      ]
    },
    {
      "cell_type": "markdown",
      "source": [
        "Q5. Count how many characters have the status **Alive** and print the total number."
      ],
      "metadata": {
        "id": "juSrT76dW58F"
      }
    },
    {
      "cell_type": "code",
      "source": [
        "# write your code here\n",
        "alive_characters =(locations['status']==\"Alive\").sum()\n",
        "print(alive_characters)"
      ],
      "metadata": {
        "id": "DePq3U2wkdiu",
        "colab": {
          "base_uri": "https://localhost:8080/"
        },
        "outputId": "22d99e6b-11b2-4b02-bda7-cac4bb45cd97"
      },
      "execution_count": 192,
      "outputs": [
        {
          "output_type": "stream",
          "name": "stdout",
          "text": [
            "8\n"
          ]
        }
      ]
    },
    {
      "cell_type": "markdown",
      "source": [
        "Q.6 Calculate the **average number of characters** that appeared per episode (using the 'characters' column) and print the result."
      ],
      "metadata": {
        "id": "fk4QfJPJXA5C"
      }
    },
    {
      "cell_type": "code",
      "source": [
        "# write your code here\n",
        "avg_characters_per_episode =episodes['characters'].apply(lambda x: len(eval(x))).mean()\n",
        "print(avg_characters_per_episode)"
      ],
      "metadata": {
        "id": "iivwqlQSkd0s",
        "colab": {
          "base_uri": "https://localhost:8080/"
        },
        "outputId": "4f14227c-3a48-43dd-e00a-1739a5363192"
      },
      "execution_count": 193,
      "outputs": [
        {
          "output_type": "stream",
          "name": "stdout",
          "text": [
            "25.5\n"
          ]
        }
      ]
    },
    {
      "cell_type": "markdown",
      "source": [
        "Q.7 Calculate the **percentage of characters whose status is `Alive`** and print the result formatted to **two decimal places followed by %**."
      ],
      "metadata": {
        "id": "WeKXD8ZkXKRR"
      }
    },
    {
      "cell_type": "code",
      "source": [
        "# write your code here\n",
        "alive_percentage = (locations['status']==\"Alive\").mean()*100\n",
        "print(\"{:.2f}%\".format(alive_percentage))"
      ],
      "metadata": {
        "id": "HTs4jzD1keOW",
        "colab": {
          "base_uri": "https://localhost:8080/"
        },
        "outputId": "bdcace50-9672-4d2c-a48b-5a5dc7fec093"
      },
      "execution_count": 194,
      "outputs": [
        {
          "output_type": "stream",
          "name": "stdout",
          "text": [
            "40.00%\n"
          ]
        }
      ]
    },
    {
      "cell_type": "markdown",
      "source": [
        "Q. 8 Count how many episodes have an `episode` code earlier than **S03E1** and an `air_date` before 2014, then print the count."
      ],
      "metadata": {
        "id": "3KuLNfO4XX0O"
      }
    },
    {
      "cell_type": "code",
      "source": [
        "# Filter episodes less than \"S02E10\" and year before 2014\n",
        "# Ensure 'air_date' is in datetime format\n",
        "episodes['air_date']=pd.to_datetime(episodes['air_date'])\n",
        "count_ids =len(episodes[(episodes['episode'] < \"S03E1\") & (episodes['air_date'].dt.year<2014)])\n",
        "print(count_ids)"
      ],
      "metadata": {
        "id": "MLG5D_Xnkek5",
        "colab": {
          "base_uri": "https://localhost:8080/"
        },
        "outputId": "e1c31fe4-db33-49d2-c7d3-4875e54076a1"
      },
      "execution_count": 195,
      "outputs": [
        {
          "output_type": "stream",
          "name": "stdout",
          "text": [
            "3\n"
          ]
        }
      ]
    },
    {
      "cell_type": "markdown",
      "source": [
        "Q. 9 Filter all episodes whose `'air_date'` year is **between 2011 and 2014 (inclusive)**, count the **number of unique episode IDs**, and print the result.\n"
      ],
      "metadata": {
        "id": "l5hVt1LGXnAG"
      }
    },
    {
      "cell_type": "code",
      "source": [
        "# write your code here\n",
        "# Ensure 'air_date' is in datetime format\n",
        "episodes['air_date']=pd.to_datetime(episodes['air_date'])\n",
        "\n",
        "# Filter episodes between 2011 and 2014\n",
        "filtered_episodes =episodes[(episodes['air_date'].dt.year>=2011) & (episodes['air_date'].dt.year<=2014)]\n",
        "\n",
        "# Count the IDs\n",
        "count_ids =filtered_episodes['id'].nunique()\n",
        "print(count_ids)"
      ],
      "metadata": {
        "id": "9En3jxZ5ke5p",
        "colab": {
          "base_uri": "https://localhost:8080/"
        },
        "outputId": "4dcb7469-8581-4bb4-f147-5d753679dc03"
      },
      "execution_count": 196,
      "outputs": [
        {
          "output_type": "stream",
          "name": "stdout",
          "text": [
            "11\n"
          ]
        }
      ]
    },
    {
      "cell_type": "markdown",
      "source": [
        "Q. 10 From the `episodes`, find and print the **latest (most recent) air date** among all episodes.\n"
      ],
      "metadata": {
        "id": "-v7g6GSUXuTM"
      }
    },
    {
      "cell_type": "code",
      "source": [
        "# write your code here\n",
        "latest_date =pd.to_datetime(episodes['air_date']).max()\n",
        "print(latest_date)"
      ],
      "metadata": {
        "id": "kDDpj8MtkfXS",
        "colab": {
          "base_uri": "https://localhost:8080/"
        },
        "outputId": "6fc676cb-20a5-4a76-83ac-d84b755e0a9e"
      },
      "execution_count": 197,
      "outputs": [
        {
          "output_type": "stream",
          "name": "stdout",
          "text": [
            "2015-09-27 00:00:00\n"
          ]
        }
      ]
    },
    {
      "cell_type": "markdown",
      "source": [
        "Q. 11 Calculate the **percentage of characters whose status is `Dead`** and print the result formatted to **two decimal places followed by %**.\n"
      ],
      "metadata": {
        "id": "l72VaGkveAqR"
      }
    },
    {
      "cell_type": "code",
      "source": [
        "# write your code here\n",
        "dead_percentage =(locations['status']=='Dead').mean()*100\n",
        "print(\"{:.2f}%\".format(dead_percentage))"
      ],
      "metadata": {
        "id": "BWp5lGBykfu0",
        "colab": {
          "base_uri": "https://localhost:8080/"
        },
        "outputId": "023df598-185c-452f-8501-fa2ea0590f8d"
      },
      "execution_count": 198,
      "outputs": [
        {
          "output_type": "stream",
          "name": "stdout",
          "text": [
            "30.00%\n"
          ]
        }
      ]
    },
    {
      "cell_type": "markdown",
      "source": [
        "Q. 12 Select and print all location names that start with the letter \"S\"."
      ],
      "metadata": {
        "id": "dux7mu2EeGCB"
      }
    },
    {
      "cell_type": "code",
      "source": [
        "# write your code here\n",
        "sname_count =characters[characters['name'].str.startswith(\"S\")]['name']\n",
        "print(sname_count)"
      ],
      "metadata": {
        "id": "Tnsk5AElkgOj",
        "colab": {
          "base_uri": "https://localhost:8080/"
        },
        "outputId": "15c33780-a878-40c4-9284-3e566e064ec8"
      },
      "execution_count": 199,
      "outputs": [
        {
          "output_type": "stream",
          "name": "stdout",
          "text": [
            "15    St. Gloopy Noops Hospital\n",
            "Name: name, dtype: object\n"
          ]
        }
      ]
    },
    {
      "cell_type": "markdown",
      "source": [
        "Q. 13 Group `locations` by `dimension` and print the count of locations in each dimension."
      ],
      "metadata": {
        "id": "UxaNkq-ncjsm"
      }
    },
    {
      "cell_type": "code",
      "source": [
        "# write your code here\n",
        "locations_by_dimension =characters.groupby('dimension').size()\n",
        "print(locations_by_dimension)"
      ],
      "metadata": {
        "id": "V0cs-btFkgtu",
        "colab": {
          "base_uri": "https://localhost:8080/"
        },
        "outputId": "b79bba3d-0965-46eb-9708-be2c6d4089c2"
      },
      "execution_count": 200,
      "outputs": [
        {
          "output_type": "stream",
          "name": "stdout",
          "text": [
            "dimension\n",
            "Cronenberg Dimension           1\n",
            "Dimension 5-126                1\n",
            "Dimension C-137                3\n",
            "Fantasy Dimension              1\n",
            "Post-Apocalyptic Dimension     1\n",
            "Replacement Dimension          3\n",
            "unknown                       10\n",
            "dtype: int64\n"
          ]
        }
      ]
    },
    {
      "cell_type": "markdown",
      "source": [
        "Q. 14 Group characters by `gender` and calculate the **average number of episodes per character**. Print the result."
      ],
      "metadata": {
        "id": "AVogS5r6cpIx"
      }
    },
    {
      "cell_type": "code",
      "source": [
        "# write your code here\n",
        "mean_episodes_by_gender =locations.groupby('gender')['episode'].apply(lambda x: x.str.len().mean())\n",
        "print(mean_episodes_by_gender)"
      ],
      "metadata": {
        "id": "A7mX7nJGkhOG",
        "colab": {
          "base_uri": "https://localhost:8080/"
        },
        "outputId": "a6719b11-c492-40de-c5d8-e50961ffd898"
      },
      "execution_count": 205,
      "outputs": [
        {
          "output_type": "stream",
          "name": "stdout",
          "text": [
            "gender\n",
            "Female     986.750000\n",
            "Male       473.733333\n",
            "unknown     46.000000\n",
            "Name: episode, dtype: float64\n"
          ]
        }
      ]
    },
    {
      "cell_type": "markdown",
      "source": [
        "Q. 15 List all `locations` whose `name` contains \"Earth\" (case-insensitive) and print them as a Python list."
      ],
      "metadata": {
        "id": "LEZBh-jHdBVP"
      }
    },
    {
      "cell_type": "code",
      "source": [
        "# write your code here\n",
        "earth_locations =characters[characters['name'].str.contains(\"Earth\",case=False)]['name'].tolist()\n",
        "print(earth_locations)"
      ],
      "metadata": {
        "id": "pkfJSe5Kkhk1",
        "colab": {
          "base_uri": "https://localhost:8080/"
        },
        "outputId": "9252235e-ed29-4d83-8b19-d261b0e7de95"
      },
      "execution_count": 202,
      "outputs": [
        {
          "output_type": "stream",
          "name": "stdout",
          "text": [
            "['Earth (C-137)', 'Post-Apocalyptic Earth', 'Cronenberg Earth', 'Earth (5-126)', 'Earth (Replacement Dimension)']\n"
          ]
        }
      ]
    },
    {
      "cell_type": "markdown",
      "source": [
        "# End!"
      ],
      "metadata": {
        "id": "GrwfPM6EbOET"
      }
    }
  ]
}