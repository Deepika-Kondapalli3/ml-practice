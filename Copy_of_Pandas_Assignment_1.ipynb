{
  "cells": [
    {
      "cell_type": "markdown",
      "metadata": {
        "id": "view-in-github",
        "colab_type": "text"
      },
      "source": [
        "<a href=\"https://colab.research.google.com/github/Deepika-Kondapalli3/ml-practice/blob/main/Copy_of_Pandas_Assignment_1.ipynb\" target=\"_parent\"><img src=\"https://colab.research.google.com/assets/colab-badge.svg\" alt=\"Open In Colab\"/></a>"
      ]
    },
    {
      "cell_type": "markdown",
      "source": [
        "# Pandas Assignment\n"
      ],
      "metadata": {
        "id": "g_rr3gKyO6Vn"
      },
      "id": "g_rr3gKyO6Vn"
    },
    {
      "cell_type": "markdown",
      "source": [
        "# Instructions for Pandas Assignment\n",
        "---\n",
        "Welcome to the Pandas Assignment! In this exercise, you will work with the CO2_Emissions_Canada2 dataset for Assignment your data manipulation and analysis skills using Pandas. Please follow the instructions below carefully:\n",
        "\n",
        "1. **Understand the Dataset**: The dataset used in this assignment is related to the CO2_Emissions_Canada2. Familiarize yourself with the dataset's structure and content before starting.\n",
        "\n",
        "2. **Read Each Question Thoroughly**: Each question in this assignment is designed to test different Pandas functionalities. Make sure you understand the requirements of each question before you begin coding.\n",
        "\n",
        "3. **Write Your Code in the Provided Cells**: For each question, a code cell is provided where you should write your solution. Do not modify any other cells or sections of the notebook.\n",
        "\n",
        "4. **Execute Your Code**: After writing your code in each cell, run the cell to check if your code produces the expected results. Verify that the output matches the requirements specified in the question.\n",
        "\n",
        "5. **Complete All Questions**: Ensure that you attempt and complete all the questions provided in the notebook. Each question is designed to test different Pandas skills and concepts.\n",
        "\n",
        "6. **Review Your Work**: Before submitting, double-check your answers and make sure all questions are addressed. Ensure that the notebook runs without errors and that all outputs are correct.\n",
        "\n",
        "7. **Download Your Notebook**: Once you have completed all the questions and verified your solutions, download the notebook file (.ipynb). You can do this by selecting `File` > `Download` > `Download .ipynb` from the Google Colab menu.\n",
        "\n",
        "8. **Submit Your Assignment**: Upload the downloaded .ipynb file to the designated learning platform for submission.\n",
        "\n",
        "9. **Verify Submission**: Ensure that you have uploaded the correct file and that it is not corrupted. If you encounter any issues with the file, you may need to resubmit.\n",
        "\n",
        "---\n",
        "\n",
        "Good luck with your Assignment!"
      ],
      "metadata": {
        "id": "BIIFlHFNysS9"
      },
      "id": "BIIFlHFNysS9"
    },
    {
      "cell_type": "code",
      "source": [
        "# Run this code cell\n",
        "import numpy as np\n",
        "import pandas as pd\n",
        "\n",
        "co2_emission = \"https://s3.ap-south-1.amazonaws.com/new-assets.ccbp.in/frontend/content/aiml/classical-ml/CO2_Emissions_Canada2.csv\"\n",
        "\n",
        "# Upload the data to colab before executing this code cell\n",
        "data = pd.read_csv(co2_emission)\n",
        "data.head()"
      ],
      "metadata": {
        "id": "jD2zHzWrlPr0",
        "outputId": "08fb7408-043b-45d0-f276-397ad8947e4a",
        "colab": {
          "base_uri": "https://localhost:8080/",
          "height": 258
        }
      },
      "execution_count": 12,
      "outputs": [
        {
          "output_type": "execute_result",
          "data": {
            "text/plain": [
              "    Make       Model Vehicle Class  Engine Size(L)  Cylinders Transmission  \\\n",
              "0  ACURA         ILX       COMPACT             2.0          4          AS5   \n",
              "1  ACURA         ILX       COMPACT             2.4          4           M6   \n",
              "2  ACURA  ILX HYBRID       COMPACT             1.5          4          AV7   \n",
              "3  ACURA     MDX 4WD   SUV - SMALL             3.5          6          AS6   \n",
              "4  ACURA     RDX AWD   SUV - SMALL             3.5          6          AS6   \n",
              "\n",
              "  Fuel Type  Fuel Consumption City (L/100 km)  \\\n",
              "0         Z                               9.9   \n",
              "1         Z                              11.2   \n",
              "2         Z                               6.0   \n",
              "3         Z                              12.7   \n",
              "4         Z                              12.1   \n",
              "\n",
              "   Fuel Consumption Hwy (L/100 km)  Fuel Consumption Comb (L/100 km)  \\\n",
              "0                              6.7                               8.5   \n",
              "1                              7.7                               9.6   \n",
              "2                              5.8                               5.9   \n",
              "3                              9.1                              11.1   \n",
              "4                              8.7                              10.6   \n",
              "\n",
              "   Fuel Consumption Comb (mpg)  CO2 Emissions(g/km)  \n",
              "0                           33                196.0  \n",
              "1                           29                221.0  \n",
              "2                           48                136.0  \n",
              "3                           25                255.0  \n",
              "4                           27                244.0  "
            ],
            "text/html": [
              "\n",
              "  <div id=\"df-0fe1c973-ec02-4d6c-a041-de5285c0efaa\" class=\"colab-df-container\">\n",
              "    <div>\n",
              "<style scoped>\n",
              "    .dataframe tbody tr th:only-of-type {\n",
              "        vertical-align: middle;\n",
              "    }\n",
              "\n",
              "    .dataframe tbody tr th {\n",
              "        vertical-align: top;\n",
              "    }\n",
              "\n",
              "    .dataframe thead th {\n",
              "        text-align: right;\n",
              "    }\n",
              "</style>\n",
              "<table border=\"1\" class=\"dataframe\">\n",
              "  <thead>\n",
              "    <tr style=\"text-align: right;\">\n",
              "      <th></th>\n",
              "      <th>Make</th>\n",
              "      <th>Model</th>\n",
              "      <th>Vehicle Class</th>\n",
              "      <th>Engine Size(L)</th>\n",
              "      <th>Cylinders</th>\n",
              "      <th>Transmission</th>\n",
              "      <th>Fuel Type</th>\n",
              "      <th>Fuel Consumption City (L/100 km)</th>\n",
              "      <th>Fuel Consumption Hwy (L/100 km)</th>\n",
              "      <th>Fuel Consumption Comb (L/100 km)</th>\n",
              "      <th>Fuel Consumption Comb (mpg)</th>\n",
              "      <th>CO2 Emissions(g/km)</th>\n",
              "    </tr>\n",
              "  </thead>\n",
              "  <tbody>\n",
              "    <tr>\n",
              "      <th>0</th>\n",
              "      <td>ACURA</td>\n",
              "      <td>ILX</td>\n",
              "      <td>COMPACT</td>\n",
              "      <td>2.0</td>\n",
              "      <td>4</td>\n",
              "      <td>AS5</td>\n",
              "      <td>Z</td>\n",
              "      <td>9.9</td>\n",
              "      <td>6.7</td>\n",
              "      <td>8.5</td>\n",
              "      <td>33</td>\n",
              "      <td>196.0</td>\n",
              "    </tr>\n",
              "    <tr>\n",
              "      <th>1</th>\n",
              "      <td>ACURA</td>\n",
              "      <td>ILX</td>\n",
              "      <td>COMPACT</td>\n",
              "      <td>2.4</td>\n",
              "      <td>4</td>\n",
              "      <td>M6</td>\n",
              "      <td>Z</td>\n",
              "      <td>11.2</td>\n",
              "      <td>7.7</td>\n",
              "      <td>9.6</td>\n",
              "      <td>29</td>\n",
              "      <td>221.0</td>\n",
              "    </tr>\n",
              "    <tr>\n",
              "      <th>2</th>\n",
              "      <td>ACURA</td>\n",
              "      <td>ILX HYBRID</td>\n",
              "      <td>COMPACT</td>\n",
              "      <td>1.5</td>\n",
              "      <td>4</td>\n",
              "      <td>AV7</td>\n",
              "      <td>Z</td>\n",
              "      <td>6.0</td>\n",
              "      <td>5.8</td>\n",
              "      <td>5.9</td>\n",
              "      <td>48</td>\n",
              "      <td>136.0</td>\n",
              "    </tr>\n",
              "    <tr>\n",
              "      <th>3</th>\n",
              "      <td>ACURA</td>\n",
              "      <td>MDX 4WD</td>\n",
              "      <td>SUV - SMALL</td>\n",
              "      <td>3.5</td>\n",
              "      <td>6</td>\n",
              "      <td>AS6</td>\n",
              "      <td>Z</td>\n",
              "      <td>12.7</td>\n",
              "      <td>9.1</td>\n",
              "      <td>11.1</td>\n",
              "      <td>25</td>\n",
              "      <td>255.0</td>\n",
              "    </tr>\n",
              "    <tr>\n",
              "      <th>4</th>\n",
              "      <td>ACURA</td>\n",
              "      <td>RDX AWD</td>\n",
              "      <td>SUV - SMALL</td>\n",
              "      <td>3.5</td>\n",
              "      <td>6</td>\n",
              "      <td>AS6</td>\n",
              "      <td>Z</td>\n",
              "      <td>12.1</td>\n",
              "      <td>8.7</td>\n",
              "      <td>10.6</td>\n",
              "      <td>27</td>\n",
              "      <td>244.0</td>\n",
              "    </tr>\n",
              "  </tbody>\n",
              "</table>\n",
              "</div>\n",
              "    <div class=\"colab-df-buttons\">\n",
              "\n",
              "  <div class=\"colab-df-container\">\n",
              "    <button class=\"colab-df-convert\" onclick=\"convertToInteractive('df-0fe1c973-ec02-4d6c-a041-de5285c0efaa')\"\n",
              "            title=\"Convert this dataframe to an interactive table.\"\n",
              "            style=\"display:none;\">\n",
              "\n",
              "  <svg xmlns=\"http://www.w3.org/2000/svg\" height=\"24px\" viewBox=\"0 -960 960 960\">\n",
              "    <path d=\"M120-120v-720h720v720H120Zm60-500h600v-160H180v160Zm220 220h160v-160H400v160Zm0 220h160v-160H400v160ZM180-400h160v-160H180v160Zm440 0h160v-160H620v160ZM180-180h160v-160H180v160Zm440 0h160v-160H620v160Z\"/>\n",
              "  </svg>\n",
              "    </button>\n",
              "\n",
              "  <style>\n",
              "    .colab-df-container {\n",
              "      display:flex;\n",
              "      gap: 12px;\n",
              "    }\n",
              "\n",
              "    .colab-df-convert {\n",
              "      background-color: #E8F0FE;\n",
              "      border: none;\n",
              "      border-radius: 50%;\n",
              "      cursor: pointer;\n",
              "      display: none;\n",
              "      fill: #1967D2;\n",
              "      height: 32px;\n",
              "      padding: 0 0 0 0;\n",
              "      width: 32px;\n",
              "    }\n",
              "\n",
              "    .colab-df-convert:hover {\n",
              "      background-color: #E2EBFA;\n",
              "      box-shadow: 0px 1px 2px rgba(60, 64, 67, 0.3), 0px 1px 3px 1px rgba(60, 64, 67, 0.15);\n",
              "      fill: #174EA6;\n",
              "    }\n",
              "\n",
              "    .colab-df-buttons div {\n",
              "      margin-bottom: 4px;\n",
              "    }\n",
              "\n",
              "    [theme=dark] .colab-df-convert {\n",
              "      background-color: #3B4455;\n",
              "      fill: #D2E3FC;\n",
              "    }\n",
              "\n",
              "    [theme=dark] .colab-df-convert:hover {\n",
              "      background-color: #434B5C;\n",
              "      box-shadow: 0px 1px 3px 1px rgba(0, 0, 0, 0.15);\n",
              "      filter: drop-shadow(0px 1px 2px rgba(0, 0, 0, 0.3));\n",
              "      fill: #FFFFFF;\n",
              "    }\n",
              "  </style>\n",
              "\n",
              "    <script>\n",
              "      const buttonEl =\n",
              "        document.querySelector('#df-0fe1c973-ec02-4d6c-a041-de5285c0efaa button.colab-df-convert');\n",
              "      buttonEl.style.display =\n",
              "        google.colab.kernel.accessAllowed ? 'block' : 'none';\n",
              "\n",
              "      async function convertToInteractive(key) {\n",
              "        const element = document.querySelector('#df-0fe1c973-ec02-4d6c-a041-de5285c0efaa');\n",
              "        const dataTable =\n",
              "          await google.colab.kernel.invokeFunction('convertToInteractive',\n",
              "                                                    [key], {});\n",
              "        if (!dataTable) return;\n",
              "\n",
              "        const docLinkHtml = 'Like what you see? Visit the ' +\n",
              "          '<a target=\"_blank\" href=https://colab.research.google.com/notebooks/data_table.ipynb>data table notebook</a>'\n",
              "          + ' to learn more about interactive tables.';\n",
              "        element.innerHTML = '';\n",
              "        dataTable['output_type'] = 'display_data';\n",
              "        await google.colab.output.renderOutput(dataTable, element);\n",
              "        const docLink = document.createElement('div');\n",
              "        docLink.innerHTML = docLinkHtml;\n",
              "        element.appendChild(docLink);\n",
              "      }\n",
              "    </script>\n",
              "  </div>\n",
              "\n",
              "\n",
              "    <div id=\"df-7fee8cea-2a06-4859-8116-1e2afff627a4\">\n",
              "      <button class=\"colab-df-quickchart\" onclick=\"quickchart('df-7fee8cea-2a06-4859-8116-1e2afff627a4')\"\n",
              "                title=\"Suggest charts\"\n",
              "                style=\"display:none;\">\n",
              "\n",
              "<svg xmlns=\"http://www.w3.org/2000/svg\" height=\"24px\"viewBox=\"0 0 24 24\"\n",
              "     width=\"24px\">\n",
              "    <g>\n",
              "        <path d=\"M19 3H5c-1.1 0-2 .9-2 2v14c0 1.1.9 2 2 2h14c1.1 0 2-.9 2-2V5c0-1.1-.9-2-2-2zM9 17H7v-7h2v7zm4 0h-2V7h2v10zm4 0h-2v-4h2v4z\"/>\n",
              "    </g>\n",
              "</svg>\n",
              "      </button>\n",
              "\n",
              "<style>\n",
              "  .colab-df-quickchart {\n",
              "      --bg-color: #E8F0FE;\n",
              "      --fill-color: #1967D2;\n",
              "      --hover-bg-color: #E2EBFA;\n",
              "      --hover-fill-color: #174EA6;\n",
              "      --disabled-fill-color: #AAA;\n",
              "      --disabled-bg-color: #DDD;\n",
              "  }\n",
              "\n",
              "  [theme=dark] .colab-df-quickchart {\n",
              "      --bg-color: #3B4455;\n",
              "      --fill-color: #D2E3FC;\n",
              "      --hover-bg-color: #434B5C;\n",
              "      --hover-fill-color: #FFFFFF;\n",
              "      --disabled-bg-color: #3B4455;\n",
              "      --disabled-fill-color: #666;\n",
              "  }\n",
              "\n",
              "  .colab-df-quickchart {\n",
              "    background-color: var(--bg-color);\n",
              "    border: none;\n",
              "    border-radius: 50%;\n",
              "    cursor: pointer;\n",
              "    display: none;\n",
              "    fill: var(--fill-color);\n",
              "    height: 32px;\n",
              "    padding: 0;\n",
              "    width: 32px;\n",
              "  }\n",
              "\n",
              "  .colab-df-quickchart:hover {\n",
              "    background-color: var(--hover-bg-color);\n",
              "    box-shadow: 0 1px 2px rgba(60, 64, 67, 0.3), 0 1px 3px 1px rgba(60, 64, 67, 0.15);\n",
              "    fill: var(--button-hover-fill-color);\n",
              "  }\n",
              "\n",
              "  .colab-df-quickchart-complete:disabled,\n",
              "  .colab-df-quickchart-complete:disabled:hover {\n",
              "    background-color: var(--disabled-bg-color);\n",
              "    fill: var(--disabled-fill-color);\n",
              "    box-shadow: none;\n",
              "  }\n",
              "\n",
              "  .colab-df-spinner {\n",
              "    border: 2px solid var(--fill-color);\n",
              "    border-color: transparent;\n",
              "    border-bottom-color: var(--fill-color);\n",
              "    animation:\n",
              "      spin 1s steps(1) infinite;\n",
              "  }\n",
              "\n",
              "  @keyframes spin {\n",
              "    0% {\n",
              "      border-color: transparent;\n",
              "      border-bottom-color: var(--fill-color);\n",
              "      border-left-color: var(--fill-color);\n",
              "    }\n",
              "    20% {\n",
              "      border-color: transparent;\n",
              "      border-left-color: var(--fill-color);\n",
              "      border-top-color: var(--fill-color);\n",
              "    }\n",
              "    30% {\n",
              "      border-color: transparent;\n",
              "      border-left-color: var(--fill-color);\n",
              "      border-top-color: var(--fill-color);\n",
              "      border-right-color: var(--fill-color);\n",
              "    }\n",
              "    40% {\n",
              "      border-color: transparent;\n",
              "      border-right-color: var(--fill-color);\n",
              "      border-top-color: var(--fill-color);\n",
              "    }\n",
              "    60% {\n",
              "      border-color: transparent;\n",
              "      border-right-color: var(--fill-color);\n",
              "    }\n",
              "    80% {\n",
              "      border-color: transparent;\n",
              "      border-right-color: var(--fill-color);\n",
              "      border-bottom-color: var(--fill-color);\n",
              "    }\n",
              "    90% {\n",
              "      border-color: transparent;\n",
              "      border-bottom-color: var(--fill-color);\n",
              "    }\n",
              "  }\n",
              "</style>\n",
              "\n",
              "      <script>\n",
              "        async function quickchart(key) {\n",
              "          const quickchartButtonEl =\n",
              "            document.querySelector('#' + key + ' button');\n",
              "          quickchartButtonEl.disabled = true;  // To prevent multiple clicks.\n",
              "          quickchartButtonEl.classList.add('colab-df-spinner');\n",
              "          try {\n",
              "            const charts = await google.colab.kernel.invokeFunction(\n",
              "                'suggestCharts', [key], {});\n",
              "          } catch (error) {\n",
              "            console.error('Error during call to suggestCharts:', error);\n",
              "          }\n",
              "          quickchartButtonEl.classList.remove('colab-df-spinner');\n",
              "          quickchartButtonEl.classList.add('colab-df-quickchart-complete');\n",
              "        }\n",
              "        (() => {\n",
              "          let quickchartButtonEl =\n",
              "            document.querySelector('#df-7fee8cea-2a06-4859-8116-1e2afff627a4 button');\n",
              "          quickchartButtonEl.style.display =\n",
              "            google.colab.kernel.accessAllowed ? 'block' : 'none';\n",
              "        })();\n",
              "      </script>\n",
              "    </div>\n",
              "\n",
              "    </div>\n",
              "  </div>\n"
            ],
            "application/vnd.google.colaboratory.intrinsic+json": {
              "type": "dataframe",
              "variable_name": "data",
              "summary": "{\n  \"name\": \"data\",\n  \"rows\": 7385,\n  \"fields\": [\n    {\n      \"column\": \"Make\",\n      \"properties\": {\n        \"dtype\": \"category\",\n        \"num_unique_values\": 42,\n        \"samples\": [\n          \"MAZDA\",\n          \"GMC\",\n          \"CHEVROLET\"\n        ],\n        \"semantic_type\": \"\",\n        \"description\": \"\"\n      }\n    },\n    {\n      \"column\": \"Model\",\n      \"properties\": {\n        \"dtype\": \"category\",\n        \"num_unique_values\": 2048,\n        \"samples\": [\n          \"Suburban FFV\",\n          \"335i xDRIVE SEDAN\",\n          \"X6 xDRIVE50i\"\n        ],\n        \"semantic_type\": \"\",\n        \"description\": \"\"\n      }\n    },\n    {\n      \"column\": \"Vehicle Class\",\n      \"properties\": {\n        \"dtype\": \"category\",\n        \"num_unique_values\": 16,\n        \"samples\": [\n          \"COMPACT\",\n          \"SUV - SMALL\",\n          \"SUBCOMPACT\"\n        ],\n        \"semantic_type\": \"\",\n        \"description\": \"\"\n      }\n    },\n    {\n      \"column\": \"Engine Size(L)\",\n      \"properties\": {\n        \"dtype\": \"number\",\n        \"std\": 1.3542294815739673,\n        \"min\": 0.9,\n        \"max\": 8.4,\n        \"num_unique_values\": 51,\n        \"samples\": [\n          1.3,\n          2.7,\n          2.8\n        ],\n        \"semantic_type\": \"\",\n        \"description\": \"\"\n      }\n    },\n    {\n      \"column\": \"Cylinders\",\n      \"properties\": {\n        \"dtype\": \"number\",\n        \"std\": 1,\n        \"min\": 3,\n        \"max\": 16,\n        \"num_unique_values\": 8,\n        \"samples\": [\n          6,\n          3,\n          4\n        ],\n        \"semantic_type\": \"\",\n        \"description\": \"\"\n      }\n    },\n    {\n      \"column\": \"Transmission\",\n      \"properties\": {\n        \"dtype\": \"category\",\n        \"num_unique_values\": 27,\n        \"samples\": [\n          \"AS8\",\n          \"M5\",\n          \"A7\"\n        ],\n        \"semantic_type\": \"\",\n        \"description\": \"\"\n      }\n    },\n    {\n      \"column\": \"Fuel Type\",\n      \"properties\": {\n        \"dtype\": \"category\",\n        \"num_unique_values\": 5,\n        \"samples\": [\n          \"D\",\n          \"N\",\n          \"X\"\n        ],\n        \"semantic_type\": \"\",\n        \"description\": \"\"\n      }\n    },\n    {\n      \"column\": \"Fuel Consumption City (L/100 km)\",\n      \"properties\": {\n        \"dtype\": \"number\",\n        \"std\": 3.5002740810877904,\n        \"min\": 4.2,\n        \"max\": 30.6,\n        \"num_unique_values\": 211,\n        \"samples\": [\n          21.1,\n          22.2,\n          6.5\n        ],\n        \"semantic_type\": \"\",\n        \"description\": \"\"\n      }\n    },\n    {\n      \"column\": \"Fuel Consumption Hwy (L/100 km)\",\n      \"properties\": {\n        \"dtype\": \"number\",\n        \"std\": 2.2244563806418824,\n        \"min\": 4.0,\n        \"max\": 20.6,\n        \"num_unique_values\": 143,\n        \"samples\": [\n          5.2,\n          6.5,\n          13.3\n        ],\n        \"semantic_type\": \"\",\n        \"description\": \"\"\n      }\n    },\n    {\n      \"column\": \"Fuel Consumption Comb (L/100 km)\",\n      \"properties\": {\n        \"dtype\": \"number\",\n        \"std\": 2.892506302898463,\n        \"min\": 4.1,\n        \"max\": 26.1,\n        \"num_unique_values\": 181,\n        \"samples\": [\n          8.1,\n          16.5,\n          17.6\n        ],\n        \"semantic_type\": \"\",\n        \"description\": \"\"\n      }\n    },\n    {\n      \"column\": \"Fuel Consumption Comb (mpg)\",\n      \"properties\": {\n        \"dtype\": \"number\",\n        \"std\": 7,\n        \"min\": 11,\n        \"max\": 69,\n        \"num_unique_values\": 54,\n        \"samples\": [\n          20,\n          64,\n          63\n        ],\n        \"semantic_type\": \"\",\n        \"description\": \"\"\n      }\n    },\n    {\n      \"column\": \"CO2 Emissions(g/km)\",\n      \"properties\": {\n        \"dtype\": \"number\",\n        \"std\": 58.51261868972314,\n        \"min\": 96.0,\n        \"max\": 522.0,\n        \"num_unique_values\": 331,\n        \"samples\": [\n          304.0,\n          405.0,\n          377.0\n        ],\n        \"semantic_type\": \"\",\n        \"description\": \"\"\n      }\n    }\n  ]\n}"
            }
          },
          "metadata": {},
          "execution_count": 12
        }
      ],
      "id": "jD2zHzWrlPr0"
    },
    {
      "cell_type": "markdown",
      "source": [
        "**1. What is the median engine size for each type of `transmission`?**"
      ],
      "metadata": {
        "id": "-ANYYgc8FYiv"
      },
      "id": "-ANYYgc8FYiv"
    },
    {
      "cell_type": "code",
      "source": [
        "# write your code here\n",
        "# Group by 'Transmission' and calculate the median engine size\n",
        "median_engine_size =data.groupby('Transmission')['Engine Size(L)'].median()\n",
        "print(median_engine_size)"
      ],
      "metadata": {
        "id": "djsPQpAolQZS",
        "outputId": "0f07ee3e-ad1f-4c93-b98e-0968da670825",
        "colab": {
          "base_uri": "https://localhost:8080/"
        }
      },
      "execution_count": 13,
      "outputs": [
        {
          "output_type": "stream",
          "name": "stdout",
          "text": [
            "Transmission\n",
            "A10     6.2\n",
            "A4      4.3\n",
            "A5      3.8\n",
            "A6      3.6\n",
            "A7      4.0\n",
            "A8      3.6\n",
            "A9      3.0\n",
            "AM5     1.0\n",
            "AM6     2.0\n",
            "AM7     3.0\n",
            "AM8     3.0\n",
            "AM9     3.5\n",
            "AS10    3.5\n",
            "AS4     2.4\n",
            "AS5     4.0\n",
            "AS6     2.5\n",
            "AS7     3.7\n",
            "AS8     3.0\n",
            "AS9     3.5\n",
            "AV      2.0\n",
            "AV10    3.5\n",
            "AV6     2.5\n",
            "AV7     2.0\n",
            "AV8     2.0\n",
            "M5      1.8\n",
            "M6      2.0\n",
            "M7      3.4\n",
            "Name: Engine Size(L), dtype: float64\n"
          ]
        }
      ],
      "id": "djsPQpAolQZS"
    },
    {
      "cell_type": "markdown",
      "id": "a2768ed7",
      "metadata": {
        "id": "a2768ed7"
      },
      "source": [
        "---\n",
        "**2. What is the correlation between CO2 emissions (g/km) and fuel consumption in the city (L/100 km)?**\n",
        "\n"
      ]
    },
    {
      "cell_type": "code",
      "source": [
        "# write your code here\n",
        "co2_correlation =data['CO2 Emissions(g/km)'].corr(data['Fuel Consumption City (L/100 km)'])\n",
        "print(co2_correlation)"
      ],
      "metadata": {
        "id": "9WvGwww7lQ_T",
        "outputId": "43639a8a-96b1-4bb1-8796-f52f3607d984",
        "colab": {
          "base_uri": "https://localhost:8080/"
        }
      },
      "execution_count": 17,
      "outputs": [
        {
          "output_type": "stream",
          "name": "stdout",
          "text": [
            "0.9195626820357139\n"
          ]
        }
      ],
      "id": "9WvGwww7lQ_T"
    },
    {
      "cell_type": "markdown",
      "id": "6967b396",
      "metadata": {
        "id": "6967b396"
      },
      "source": [
        "---\n",
        "**3. What is the average CO2 emissions (in g/km) for vehicles in the \"TWO-SEATER\" class?**"
      ]
    },
    {
      "cell_type": "code",
      "source": [
        "# write your code here\n",
        "two_seater_mean =data[data['Vehicle Class']==\"TWO-SEATER\"][\"CO2 Emissions(g/km)\"].mean()\n",
        "print(two_seater_mean)"
      ],
      "metadata": {
        "id": "L46jm6AhlRmi",
        "outputId": "c8fd08b8-c965-4ce8-afa8-95a76d279762",
        "colab": {
          "base_uri": "https://localhost:8080/"
        }
      },
      "execution_count": 4,
      "outputs": [
        {
          "output_type": "stream",
          "name": "stdout",
          "text": [
            "277.454347826087\n"
          ]
        }
      ],
      "id": "L46jm6AhlRmi"
    },
    {
      "cell_type": "markdown",
      "id": "21b415b6",
      "metadata": {
        "id": "21b415b6"
      },
      "source": [
        "---\n",
        "**4.What is the average fuel consumption (in L/100 km) for vehicles of the make \"DODGE\" in the dataset?**"
      ]
    },
    {
      "cell_type": "code",
      "source": [
        "# write your code here\n",
        "avg_fuel_by_class = data[data['Make']==\"DODGE\"][\"Fuel Consumption Comb (L/100 km)\"].mean()\n",
        "print(avg_fuel_by_class)"
      ],
      "metadata": {
        "id": "ETajdR-dlSBn",
        "outputId": "d21a3051-b95b-4758-f52e-1f10eafeab7f",
        "colab": {
          "base_uri": "https://localhost:8080/"
        }
      },
      "execution_count": 26,
      "outputs": [
        {
          "output_type": "stream",
          "name": "stdout",
          "text": [
            "12.510162601626014\n"
          ]
        }
      ],
      "id": "ETajdR-dlSBn"
    },
    {
      "cell_type": "markdown",
      "id": "9cd91741",
      "metadata": {
        "id": "9cd91741"
      },
      "source": [
        "---\n",
        "**5.What is the overall average CO2 emissions (in g/km) for vehicles of the make \"DODGE\" in the dataset?**"
      ]
    },
    {
      "cell_type": "code",
      "source": [
        "# write your code here\n",
        "overall_avg_co2 = data[data['Make']==\"DODGE\"][\"CO2 Emissions(g/km)\"].mean()\n",
        "print(overall_avg_co2)"
      ],
      "metadata": {
        "id": "Tx-LKefmlSqK",
        "outputId": "0c0deeba-8f89-4995-a80e-f5e16cf2e5d3",
        "colab": {
          "base_uri": "https://localhost:8080/"
        }
      },
      "execution_count": 6,
      "outputs": [
        {
          "output_type": "stream",
          "name": "stdout",
          "text": [
            "276.3617886178862\n"
          ]
        }
      ],
      "id": "Tx-LKefmlSqK"
    },
    {
      "cell_type": "markdown",
      "id": "23562998",
      "metadata": {
        "id": "23562998"
      },
      "source": [
        "\n",
        "---\n",
        "**6.Find out which combination of vehicle class and fuel type offers best fuel efficiency.**"
      ]
    },
    {
      "cell_type": "code",
      "source": [
        "# Calculate the average fuel consumption for each (Vehicle Class, Fuel Type) combination\n",
        "avg_fuel_combo =data.groupby(['Vehicle Class','Fuel Type'])['Fuel Consumption Comb (L/100 km)'].mean().reset_index()\n",
        "\n",
        "# get only the first row in the aggregated output\n",
        "# Sort by fuel consumption to find the lowest\n",
        "best_efficiency =avg_fuel_combo.sort_values(by='Fuel Consumption Comb (L/100 km)',ascending=True).head(1)\n",
        "print(best_efficiency)"
      ],
      "metadata": {
        "id": "aLGfb0zZlTRn",
        "outputId": "ee057327-5ab7-4166-da80-f550eec9be8c",
        "colab": {
          "base_uri": "https://localhost:8080/"
        }
      },
      "execution_count": 28,
      "outputs": [
        {
          "output_type": "stream",
          "name": "stdout",
          "text": [
            "   Vehicle Class Fuel Type  Fuel Consumption Comb (L/100 km)\n",
            "31    SUBCOMPACT         D                               6.5\n"
          ]
        }
      ],
      "id": "aLGfb0zZlTRn"
    },
    {
      "cell_type": "markdown",
      "id": "dd65ca47",
      "metadata": {
        "id": "dd65ca47"
      },
      "source": [
        "---\n",
        "**7.Find out which combination of number of cylinders and fuel type has highest carbon emissions.**"
      ]
    },
    {
      "cell_type": "code",
      "source": [
        "# Group by Cylinders and Fuel Type and find mean CO2 emissions\n",
        "avg_co2_by_cyl_fuel =data.groupby(['Cylinders','Fuel Type'])['CO2 Emissions(g/km)'].mean().reset_index()\n",
        "\n",
        "# Sort by CO2 emissions in descending order\n",
        "highest_co2_combo =avg_co2_by_cyl_fuel.sort_values(by='CO2 Emissions(g/km)',ascending=False).head(1)\n",
        "print(highest_co2_combo)"
      ],
      "metadata": {
        "id": "-cgOK_mDlTv7",
        "outputId": "3245e808-767a-4963-8bd4-05dc67670601",
        "colab": {
          "base_uri": "https://localhost:8080/"
        }
      },
      "execution_count": 29,
      "outputs": [
        {
          "output_type": "stream",
          "name": "stdout",
          "text": [
            "    Cylinders Fuel Type  CO2 Emissions(g/km)\n",
            "19         16         Z                522.0\n"
          ]
        }
      ],
      "id": "-cgOK_mDlTv7"
    },
    {
      "cell_type": "markdown",
      "id": "e995eae2",
      "metadata": {
        "id": "e995eae2"
      },
      "source": [
        "---\n",
        "**8.How can you filter the dataset to find model with given details where SUV vehicles of the make \"DODGE,\" and CO2 emissions of 255.0 g/km?**"
      ]
    },
    {
      "cell_type": "code",
      "source": [
        "# write your code here\n",
        "small_suv_high =data[(data['Vehicle Class'].str.contains(\"SUV\")) & (data['Make']==\"DODGE\") & (data['CO2 Emissions(g/km)']==255.0 )]['Model']\n",
        "print(small_suv_high)\n"
      ],
      "metadata": {
        "id": "k-X2OlkmlUgq",
        "colab": {
          "base_uri": "https://localhost:8080/"
        },
        "outputId": "e3d59e38-0289-48d9-8aca-1e98baf1259b"
      },
      "execution_count": 10,
      "outputs": [
        {
          "output_type": "stream",
          "name": "stdout",
          "text": [
            "328     JOURNEY\n",
            "1427    JOURNEY\n",
            "Name: Model, dtype: object\n"
          ]
        }
      ],
      "id": "k-X2OlkmlUgq"
    },
    {
      "cell_type": "markdown",
      "id": "6bc7c977",
      "metadata": {
        "id": "6bc7c977"
      },
      "source": [
        "---\n",
        "**9.Calculate the interquartile range for co2 emissions by small suvs.**\n",
        "1. Step 1 : Filter the data for vehicle class small suv\n",
        "2. step 2 : Calculate quantile 1 for co2 emission\n",
        "3. step 3 : Calculate quantile 3 for co2 emmision\n",
        "4. step 4 : calculate the IQR using step 2 and step 4.\n"
      ]
    },
    {
      "cell_type": "code",
      "source": [
        "# write your code here\n",
        "small_suv =data[data['Vehicle Class']=='SUV - SMALL']\n",
        "Q1 =small_suv['CO2 Emissions(g/km)'].quantile(0.25)\n",
        "Q3 =small_suv['CO2 Emissions(g/km)'].quantile(0.75)\n",
        "IQR =Q3-Q1\n",
        "print(IQR)"
      ],
      "metadata": {
        "id": "CoV4XQLclVTh",
        "colab": {
          "base_uri": "https://localhost:8080/"
        },
        "outputId": "31522930-ea9b-4163-eca0-78932584856b"
      },
      "execution_count": 14,
      "outputs": [
        {
          "output_type": "stream",
          "name": "stdout",
          "text": [
            "43.0\n"
          ]
        }
      ],
      "id": "CoV4XQLclVTh"
    },
    {
      "cell_type": "markdown",
      "id": "237a23df",
      "metadata": {
        "id": "237a23df"
      },
      "source": [
        "---\n",
        "**10.What is the average fuel consumption in the city (L/100 km) for all vehicles in the dataset?**"
      ]
    },
    {
      "cell_type": "code",
      "source": [
        "# write your code here\n",
        "mean_of_fuel =data['Fuel Consumption City (L/100 km)'].mean()\n",
        "print(mean_of_fuel)"
      ],
      "metadata": {
        "id": "s0tCVvq3lVsY",
        "colab": {
          "base_uri": "https://localhost:8080/"
        },
        "outputId": "cc0d159d-7ef1-4f00-b2ce-61489bc646b1"
      },
      "execution_count": 16,
      "outputs": [
        {
          "output_type": "stream",
          "name": "stdout",
          "text": [
            "12.556533513879485\n"
          ]
        }
      ],
      "id": "s0tCVvq3lVsY"
    },
    {
      "cell_type": "markdown",
      "source": [
        "# End!"
      ],
      "metadata": {
        "id": "dmxy0uQiQo9D"
      },
      "id": "dmxy0uQiQo9D"
    }
  ],
  "metadata": {
    "kernelspec": {
      "display_name": "Python 3 (ipykernel)",
      "language": "python",
      "name": "python3"
    },
    "language_info": {
      "codemirror_mode": {
        "name": "ipython",
        "version": 3
      },
      "file_extension": ".py",
      "mimetype": "text/x-python",
      "name": "python",
      "nbconvert_exporter": "python",
      "pygments_lexer": "ipython3",
      "version": "3.9.7"
    },
    "colab": {
      "provenance": [],
      "include_colab_link": true
    }
  },
  "nbformat": 4,
  "nbformat_minor": 5
}